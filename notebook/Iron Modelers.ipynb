{
  "cells": [
    {
      "cell_type": "markdown",
      "source": [
        "### Iron Modelers\n",
        "\n",
        "### Team members: Harika Rallapalli, Vedant Thakkar, and Kenneth Zhang\n",
        "\n",
        "### CSC577"
      ],
      "metadata": {
        "id": "JVLZbOl8WO4A"
      }
    },
    {
      "cell_type": "markdown",
      "source": [
        "## **Imports**"
      ],
      "metadata": {
        "id": "juo7hZR6W06U"
      }
    },
    {
      "cell_type": "code",
      "execution_count": 71,
      "metadata": {
        "colab": {
          "base_uri": "https://localhost:8080/"
        },
        "id": "11qMps6UyXPl",
        "outputId": "26827f25-e567-4fde-bae0-923b1c442933"
      },
      "outputs": [
        {
          "output_type": "stream",
          "name": "stdout",
          "text": [
            "Requirement already satisfied: nltk in /usr/local/lib/python3.11/dist-packages (3.9.1)\n",
            "Requirement already satisfied: click in /usr/local/lib/python3.11/dist-packages (from nltk) (8.1.8)\n",
            "Requirement already satisfied: joblib in /usr/local/lib/python3.11/dist-packages (from nltk) (1.4.2)\n",
            "Requirement already satisfied: regex>=2021.8.3 in /usr/local/lib/python3.11/dist-packages (from nltk) (2024.11.6)\n",
            "Requirement already satisfied: tqdm in /usr/local/lib/python3.11/dist-packages (from nltk) (4.67.1)\n",
            "Requirement already satisfied: lightfm in /usr/local/lib/python3.11/dist-packages (1.17)\n",
            "Requirement already satisfied: numpy in /usr/local/lib/python3.11/dist-packages (from lightfm) (1.26.4)\n",
            "Requirement already satisfied: scipy>=0.17.0 in /usr/local/lib/python3.11/dist-packages (from lightfm) (1.14.1)\n",
            "Requirement already satisfied: requests in /usr/local/lib/python3.11/dist-packages (from lightfm) (2.32.3)\n",
            "Requirement already satisfied: scikit-learn in /usr/local/lib/python3.11/dist-packages (from lightfm) (1.6.1)\n",
            "Requirement already satisfied: charset-normalizer<4,>=2 in /usr/local/lib/python3.11/dist-packages (from requests->lightfm) (3.4.1)\n",
            "Requirement already satisfied: idna<4,>=2.5 in /usr/local/lib/python3.11/dist-packages (from requests->lightfm) (3.10)\n",
            "Requirement already satisfied: urllib3<3,>=1.21.1 in /usr/local/lib/python3.11/dist-packages (from requests->lightfm) (2.3.0)\n",
            "Requirement already satisfied: certifi>=2017.4.17 in /usr/local/lib/python3.11/dist-packages (from requests->lightfm) (2025.1.31)\n",
            "Requirement already satisfied: joblib>=1.2.0 in /usr/local/lib/python3.11/dist-packages (from scikit-learn->lightfm) (1.4.2)\n",
            "Requirement already satisfied: threadpoolctl>=3.1.0 in /usr/local/lib/python3.11/dist-packages (from scikit-learn->lightfm) (3.5.0)\n"
          ]
        }
      ],
      "source": [
        "import numpy as np\n",
        "import pandas as pd\n",
        "import re\n",
        "import nltk\n",
        "\n",
        "from matplotlib import pyplot as plt\n",
        "from sklearn.decomposition import PCA\n",
        "from sklearn.feature_extraction.text import TfidfVectorizer\n",
        "from sklearn.linear_model import LogisticRegression\n",
        "from sklearn.metrics import (\n",
        "    accuracy_score, precision_score, recall_score, roc_auc_score,\n",
        "    mean_squared_error, mean_absolute_error, ndcg_score\n",
        ")\n",
        "from sklearn.model_selection import train_test_split, GridSearchCV, StratifiedKFold\n",
        "from sklearn.preprocessing import StandardScaler, LabelEncoder\n",
        "\n",
        "!pip install nltk\n",
        "from nltk.corpus import stopwords\n",
        "from nltk.tokenize import word_tokenize\n",
        "from nltk.stem import PorterStemmer\n",
        "\n",
        "# LightFM imports\n",
        "!pip install lightfm --upgrade\n",
        "from lightfm.data import Dataset\n",
        "from lightfm import LightFM\n",
        "from lightfm.evaluation import precision_at_k, recall_at_k, auc_score\n",
        "from lightfm.cross_validation import random_train_test_split\n",
        "\n",
        "import tensorflow as tf\n",
        "from tensorflow.keras.layers import Input, Embedding, Multiply, Concatenate, Dense, Flatten\n",
        "from tensorflow.keras.models import Model"
      ]
    },
    {
      "cell_type": "markdown",
      "source": [
        "## **Bayesian Personalized Ranking**"
      ],
      "metadata": {
        "id": "e0sDCfQUt7TK"
      }
    },
    {
      "cell_type": "markdown",
      "source": [
        "Data collection and preprocessing"
      ],
      "metadata": {
        "id": "v6fXrzoNOqYB"
      }
    },
    {
      "cell_type": "code",
      "execution_count": 72,
      "metadata": {
        "id": "AwBCqr4Z8gp0"
      },
      "outputs": [],
      "source": [
        "movieData = pd.read_csv('/content/drive/MyDrive/College/Masters/S2/CSC 577 Recommender Systems/Final Project/cleanedmovies.csv')\n",
        "copy_movieData = movieData.copy()"
      ]
    },
    {
      "cell_type": "code",
      "source": [
        "# Created a copy of user id, movie id, and rating dataframe\n",
        "df = movieData[['userId', 'movieId', 'rating', 'original_title', 'popularity', 'genres']].copy()\n",
        "\n",
        "# Implicit rating of copied dataframe of setting values to 1 if rating is above 3.5 else 0\n",
        "df['implicit_rating'] = df['rating'].apply(lambda x: 1 if x >= 3.5 else 0)\n",
        "\n",
        "userId_to_index = {user_id: index for index, user_id in enumerate(df['userId'].unique())}\n",
        "movieId_to_index = {movie_id: index for index, movie_id in enumerate(df['movieId'].unique())}"
      ],
      "metadata": {
        "id": "rc0j4D9-U22I"
      },
      "execution_count": 73,
      "outputs": []
    },
    {
      "cell_type": "code",
      "source": [
        "scaler = StandardScaler()\n",
        "df['popularity'] = scaler.fit_transform(df[['popularity']])\n",
        "\n",
        "item_features = []\n",
        "for _, row in df.iterrows():\n",
        "    item_features.append((row['movieId'], [f'popularity:{row[\"popularity\"]:.4f}']))"
      ],
      "metadata": {
        "id": "ZzWUlS8kP7W8"
      },
      "execution_count": 74,
      "outputs": []
    },
    {
      "cell_type": "code",
      "source": [
        "# Interactions matrix without feature items\n",
        "dataset = Dataset()\n",
        "dataset.fit(users=df['userId'].unique(),\n",
        "            items=df['movieId'].unique())\n",
        "\n",
        "(interactions, weights) = dataset.build_interactions(\n",
        "    [(row['userId'], row['movieId'], row['implicit_rating']) for _, row in df.iterrows()]\n",
        ")"
      ],
      "metadata": {
        "id": "V9mhgRW8G0Yo"
      },
      "execution_count": 75,
      "outputs": []
    },
    {
      "cell_type": "code",
      "source": [
        "# Using dataset library to fit all unique user ids and movie ids with feature items\n",
        "dataset2 = Dataset()\n",
        "dataset2.fit(users=df['userId'].unique(),\n",
        "            items=df['movieId'].unique(),\n",
        "            item_features=[f'popularity:{x:.4f}' for x in df['popularity'].unique()])\n",
        "\n",
        "# Create a interaction matrix in order to input into learning model\n",
        "(interactions2, weights2) = dataset2.build_interactions(\n",
        "    [(row['userId'], row['movieId'], row['implicit_rating']) for _, row in df.iterrows()]\n",
        ")\n",
        "\n",
        "# Popularity feature matrix\n",
        "feature_matrix = dataset2.build_item_features(item_features, normalize=False)"
      ],
      "metadata": {
        "id": "5dPoOnYL1Jg3"
      },
      "execution_count": 76,
      "outputs": []
    },
    {
      "cell_type": "markdown",
      "source": [
        "Hyperparameter Tuning"
      ],
      "metadata": {
        "id": "qpZ-vQTBOZyz"
      }
    },
    {
      "cell_type": "code",
      "source": [
        "'''\n",
        "# There is a hard coded result below this with the results because it took about 3 hours to run\n",
        "\n",
        "# Interaction matrix separated into 80-20\n",
        "train, test = random_train_test_split(interactions, test_percentage=0.2, random_state=42)\n",
        "\n",
        "# Tuning parameters\n",
        "components = [32, 64, 96, 128]\n",
        "learning_rates = [0.001, 0.005, 0.01]\n",
        "epochs = [10, 30, 50, 70, 90]\n",
        "item_alpha = [0.001, 0.005, 0.01]\n",
        "user_alpha = [0.001, 0.005, 0.01]\n",
        "\n",
        "best_score = 0\n",
        "best_params = {}\n",
        "\n",
        "# Iterate through tuning parameters to find best score\n",
        "for comp in components:\n",
        "    for lr in learning_rates:\n",
        "      for ep in epochs:\n",
        "        for ia in item_alpha:\n",
        "          for ua in user_alpha:\n",
        "            # LightFM model use bpr as a loss factor\n",
        "            model = LightFM(loss='bpr', no_components=comp, k=10, learning_rate=lr, item_alpha=ia, user_alpha=ua,random_state=42)\n",
        "            model.fit(train, epochs=ep, num_threads=4)\n",
        "\n",
        "            # Precision, Recall, and AUC score calculated for test data\n",
        "            precision = precision_at_k(model, test, k=10, num_threads=4).mean()\n",
        "            recall = recall_at_k(model, test, k=10).mean()\n",
        "            auc = auc_score(model, test).mean()\n",
        "\n",
        "            # Collects best score\n",
        "            if auc > best_score:\n",
        "                best_score = auc\n",
        "                best_params = {\n",
        "                    'no_components': comp,\n",
        "                    'learning_rate': lr,\n",
        "                    'epochs': ep,\n",
        "                    'item_alpha': ia,\n",
        "                    'user_alpha': ua,\n",
        "                    'precision': precision,\n",
        "                    'recall': recall,\n",
        "                    'auc': auc\n",
        "                }\n",
        "\n",
        "            print(f\"Components: {comp}, Learning Rate: {lr}, Epoch: {ep}, Item Alpha: {ia}, User Alpha: {ua}\")\n",
        "            print(f\"Precision: {precision:.4f}, Recall: {recall:.4f}, AUC: {auc:.4f}\")\n",
        "            print(\"---\")\n",
        "'''"
      ],
      "metadata": {
        "colab": {
          "base_uri": "https://localhost:8080/",
          "height": 157
        },
        "id": "lt6qEAQ8VOoP",
        "outputId": "d2628871-7fc0-408b-941b-299889bf63ca"
      },
      "execution_count": 77,
      "outputs": [
        {
          "output_type": "execute_result",
          "data": {
            "text/plain": [
              "'\\n# There is a hard coded result below this with the results because it took about 3 hours to run\\n\\n# Interaction matrix separated into 80-20\\ntrain, test = random_train_test_split(interactions, test_percentage=0.2, random_state=42)\\n\\n# Tuning parameters\\ncomponents = [32, 64, 96, 128]\\nlearning_rates = [0.001, 0.005, 0.01]\\nepochs = [10, 30, 50, 70, 90]\\nitem_alpha = [0.001, 0.005, 0.01]\\nuser_alpha = [0.001, 0.005, 0.01]\\n\\nbest_score = 0\\nbest_params = {}\\n\\n# Iterate through tuning parameters to find best score\\nfor comp in components:\\n    for lr in learning_rates:\\n      for ep in epochs:\\n        for ia in item_alpha:\\n          for ua in user_alpha:\\n            # LightFM model use bpr as a loss factor\\n            model = LightFM(loss=\\'bpr\\', no_components=comp, k=10, learning_rate=lr, item_alpha=ia, user_alpha=ua,random_state=42)\\n            model.fit(train, epochs=ep, num_threads=4)\\n\\n            # Precision, Recall, and AUC score calculated for test data\\n            precision = precision_at_k(model, test, k=10, num_threads=4).mean()\\n            recall = recall_at_k(model, test, k=10).mean()\\n            auc = auc_score(model, test).mean()\\n\\n            # Collects best score\\n            if auc > best_score:\\n                best_score = auc\\n                best_params = {\\n                    \\'no_components\\': comp,\\n                    \\'learning_rate\\': lr,\\n                    \\'epochs\\': ep,\\n                    \\'item_alpha\\': ia,\\n                    \\'user_alpha\\': ua,\\n                    \\'precision\\': precision,\\n                    \\'recall\\': recall,\\n                    \\'auc\\': auc\\n                }\\n\\n            print(f\"Components: {comp}, Learning Rate: {lr}, Epoch: {ep}, Item Alpha: {ia}, User Alpha: {ua}\")\\n            print(f\"Precision: {precision:.4f}, Recall: {recall:.4f}, AUC: {auc:.4f}\")\\n            print(\"---\")\\n'"
            ],
            "application/vnd.google.colaboratory.intrinsic+json": {
              "type": "string"
            }
          },
          "metadata": {},
          "execution_count": 77
        }
      ]
    },
    {
      "cell_type": "markdown",
      "source": [
        "Model Fit with best parameters"
      ],
      "metadata": {
        "id": "_Ejxv5EeOvZl"
      }
    },
    {
      "cell_type": "code",
      "source": [
        "# Hard coded results from previous tuning\n",
        "train, test = random_train_test_split(interactions, test_percentage=0.2, random_state=42)\n",
        "\n",
        "best_score = 0.5923885107040405\n",
        "best_params = {\n",
        "  'no_components': 96,\n",
        "  'learning_rate': 0.001,\n",
        "  'epochs': 90,\n",
        "  'item_alpha': 0.005,\n",
        "  'user_alpha': 0.001,\n",
        "  'precision': 0.1527132,\n",
        "  'recall': 0.06149650391280108,\n",
        "  'auc': 0.5923885107040405\n",
        "  }"
      ],
      "metadata": {
        "id": "-FoVi_t0wv25"
      },
      "execution_count": 78,
      "outputs": []
    },
    {
      "cell_type": "code",
      "source": [
        "print(f'Best AUC for Test Set: {best_score}')\n",
        "print(f'Best Params for Test Set: {best_params}')"
      ],
      "metadata": {
        "colab": {
          "base_uri": "https://localhost:8080/"
        },
        "id": "MBJg2W_3aC_K",
        "outputId": "2315c299-84cd-4328-cf91-35491213d22e"
      },
      "execution_count": 79,
      "outputs": [
        {
          "output_type": "stream",
          "name": "stdout",
          "text": [
            "Best AUC for Test Set: 0.5923885107040405\n",
            "Best Params for Test Set: {'no_components': 96, 'learning_rate': 0.001, 'epochs': 90, 'item_alpha': 0.005, 'user_alpha': 0.001, 'precision': 0.1527132, 'recall': 0.06149650391280108, 'auc': 0.5923885107040405}\n"
          ]
        }
      ]
    },
    {
      "cell_type": "code",
      "source": [
        "# Final model with the best tuning results without feature maxtis\n",
        "bpr_model = LightFM(loss='bpr', no_components=best_params['no_components'], learning_rate=best_params['learning_rate'], item_alpha=best_params['user_alpha'], user_alpha=best_params['item_alpha'],random_state=42)\n",
        "bpr_model.fit(interactions, epochs=best_params['epochs'], num_threads=4)"
      ],
      "metadata": {
        "colab": {
          "base_uri": "https://localhost:8080/"
        },
        "id": "iksEDzFPP5Li",
        "outputId": "63f5e2aa-3a3c-44a5-c37e-4e4b6c359352"
      },
      "execution_count": 80,
      "outputs": [
        {
          "output_type": "execute_result",
          "data": {
            "text/plain": [
              "<lightfm.lightfm.LightFM at 0x7eb8f91f2a90>"
            ]
          },
          "metadata": {},
          "execution_count": 80
        }
      ]
    },
    {
      "cell_type": "code",
      "source": [
        "# Model with feature matrix\n",
        "bpr_model2 = LightFM(loss='bpr', no_components=best_params['no_components'], learning_rate=best_params['learning_rate'], item_alpha=best_params['user_alpha'], user_alpha=best_params['item_alpha'],random_state=42)\n",
        "bpr_model2.fit(interactions2, item_features=feature_matrix, epochs=best_params['epochs'], num_threads=4)"
      ],
      "metadata": {
        "colab": {
          "base_uri": "https://localhost:8080/"
        },
        "id": "quk0ji8xHLPH",
        "outputId": "37870e27-efa2-4ff6-e2ef-6b46baba736c"
      },
      "execution_count": 81,
      "outputs": [
        {
          "output_type": "execute_result",
          "data": {
            "text/plain": [
              "<lightfm.lightfm.LightFM at 0x7eb8f87dde90>"
            ]
          },
          "metadata": {},
          "execution_count": 81
        }
      ]
    },
    {
      "cell_type": "markdown",
      "source": [
        "Train Evaluation"
      ],
      "metadata": {
        "id": "rKlTDg8raViq"
      }
    },
    {
      "cell_type": "code",
      "source": [
        "# Precision and recall for the training\n",
        "train_precision = precision_at_k(bpr_model, train, k=10).mean()\n",
        "train_recall = recall_at_k(bpr_model, train, k=10).mean()\n",
        "\n",
        "# With item features\n",
        "train_precision2 = precision_at_k(bpr_model2, train, item_features=feature_matrix, k=10).mean()\n",
        "train_recall2 = recall_at_k(bpr_model2, train, item_features=feature_matrix, k=10,).mean()"
      ],
      "metadata": {
        "id": "MHPikqZwaUUT"
      },
      "execution_count": 82,
      "outputs": []
    },
    {
      "cell_type": "code",
      "source": [
        "train_result = [train_precision, train_precision2, train_recall, train_recall2]\n",
        "train_scores = ['Precision', 'Precision with Feature', 'Recall', 'Recall with Feature']\n",
        "\n",
        "plt.bar(train_scores, train_result, color=['red', 'blue', 'red', 'blue'])\n",
        "plt.xlabel('Evaluation')\n",
        "plt.ylabel('Results')\n",
        "plt.title('Train Evaluation Comparison')\n",
        "plt.grid(True)\n",
        "print(f'Train Precision: {train_precision:.4f}')\n",
        "print(f'Train Recall: {train_recall:.4f}')\n",
        "print(f'Train Precision with Feature: {train_precision2:.4f}')\n",
        "print(f'Train Recall with Feature: {train_recall2:.4f}')"
      ],
      "metadata": {
        "colab": {
          "base_uri": "https://localhost:8080/",
          "height": 541
        },
        "id": "69ruaA3Cajy8",
        "outputId": "030731e8-f878-4f29-ddd8-d9639e9af029"
      },
      "execution_count": 83,
      "outputs": [
        {
          "output_type": "stream",
          "name": "stdout",
          "text": [
            "Train Precision: 0.7287\n",
            "Train Recall: 0.0723\n",
            "Train Precision with Feature: 0.7196\n",
            "Train Recall with Feature: 0.0714\n"
          ]
        },
        {
          "output_type": "display_data",
          "data": {
            "text/plain": [
              "<Figure size 640x480 with 1 Axes>"
            ],
            "image/png": "[encoded data removed]"
          },
          "metadata": {}
        }
      ]
    },
    {
      "cell_type": "markdown",
      "source": [
        "Test Evaluation"
      ],
      "metadata": {
        "id": "5CITpgIm-sOt"
      }
    },
    {
      "cell_type": "code",
      "source": [
        "# Precision and recall for the test scores\n",
        "test_precision = precision_at_k(bpr_model, test, k=10).mean()\n",
        "test_recall = recall_at_k(bpr_model, test, k=10,).mean()\n",
        "\n",
        "# With feature matrix\n",
        "test_precision2 = precision_at_k(bpr_model2, test, item_features=feature_matrix, k=10).mean()\n",
        "test_recall2 = recall_at_k(bpr_model2, test, item_features=feature_matrix, k=10,).mean()"
      ],
      "metadata": {
        "id": "LvXbh7kR-l9l"
      },
      "execution_count": 84,
      "outputs": []
    },
    {
      "cell_type": "code",
      "source": [
        "test_result = [test_precision, test_precision2, test_recall, test_recall2]\n",
        "test_scores = ['Precision', 'Precision with Feature', 'Recall', 'Recall with Feature']\n",
        "\n",
        "plt.bar(test_scores, test_result, color=['red', 'blue','red', 'blue'])\n",
        "plt.xlabel('Evaluation')\n",
        "plt.ylabel('Results')\n",
        "plt.title('Test Evaluation Comparison')\n",
        "plt.grid(True)\n",
        "\n",
        "print(f'Test Precision: {test_precision:.4f}')\n",
        "print(f'Test Recall: {test_recall:.4f}')\n",
        "print(f'Test Precision with Feature: {test_precision2:.4f}')\n",
        "print(f'Test Recall with Feature: {test_recall2:.4f}')"
      ],
      "metadata": {
        "colab": {
          "base_uri": "https://localhost:8080/",
          "height": 541
        },
        "id": "6E5PSmUcasem",
        "outputId": "a2f437e4-8145-4796-a627-f74606fe560f"
      },
      "execution_count": 85,
      "outputs": [
        {
          "output_type": "stream",
          "name": "stdout",
          "text": [
            "Test Precision: 0.1837\n",
            "Test Recall: 0.0726\n",
            "Test Precision with Feature: 0.1823\n",
            "Test Recall with Feature: 0.0716\n"
          ]
        },
        {
          "output_type": "display_data",
          "data": {
            "text/plain": [
              "<Figure size 640x480 with 1 Axes>"
            ],
            "image/png": "[encoded data removed]"
          },
          "metadata": {}
        }
      ]
    },
    {
      "cell_type": "markdown",
      "source": [
        "Model Evaluation"
      ],
      "metadata": {
        "id": "CI5tsJxt-pKQ"
      }
    },
    {
      "cell_type": "code",
      "source": [
        "# Used to find the predictions and true predictions for NDCG\n",
        "# Without feature matrix\n",
        "num_users, num_items = interactions.shape\n",
        "user_ids = np.repeat(np.arange(num_users), num_items)\n",
        "item_ids = np.tile(np.arange(num_items), num_users)\n",
        "\n",
        "predict = bpr_model.predict(user_ids, item_ids)\n",
        "predict_array = np.array(predict).reshape(num_users, num_items)\n",
        "\n",
        "actual = interactions.toarray()"
      ],
      "metadata": {
        "id": "vz2g5WC_UnLv"
      },
      "execution_count": 86,
      "outputs": []
    },
    {
      "cell_type": "code",
      "source": [
        "# Final calculated scores without feature matrix\n",
        "ndcg = ndcg_score(actual, predict_array)\n",
        "final_precision = precision_at_k(bpr_model, interactions, k=10).mean()\n",
        "final_recall = recall_at_k(bpr_model, interactions, k=10).mean()\n",
        "\n",
        "print(f\"Precision: {final_precision:.4f}, Recall: {final_recall:.4f}, NDCG: {ndcg:.4f}\")"
      ],
      "metadata": {
        "colab": {
          "base_uri": "https://localhost:8080/"
        },
        "id": "jPs_QE1TPkPZ",
        "outputId": "bd33e75c-ee13-408f-bf15-78ec6a87526c"
      },
      "execution_count": 87,
      "outputs": [
        {
          "output_type": "stream",
          "name": "stdout",
          "text": [
            "Precision: 0.9124, Recall: 0.0724, NDCG: 0.9440\n"
          ]
        }
      ]
    },
    {
      "cell_type": "code",
      "source": [
        "# Used to find the predictions and true predictions for NDCG\n",
        "# WITH feature matrix\n",
        "num_users2, num_items2 = interactions2.shape\n",
        "user_ids2 = np.repeat(np.arange(num_users2), num_items2)\n",
        "item_ids2 = np.tile(np.arange(num_items2), num_users2)\n",
        "\n",
        "predict2 = bpr_model2.predict(user_ids2, item_ids2)\n",
        "predict_array2 = np.array(predict2).reshape(num_users2, num_items2)\n",
        "\n",
        "actual2 = interactions2.toarray()"
      ],
      "metadata": {
        "id": "a3a3UP3UJQuZ"
      },
      "execution_count": 88,
      "outputs": []
    },
    {
      "cell_type": "code",
      "source": [
        "ndcg2 = ndcg_score(actual2, predict_array2)\n",
        "final_precision2 = precision_at_k(bpr_model2, interactions2, item_features=feature_matrix, k=10).mean()\n",
        "final_recall2 = recall_at_k(bpr_model2, interactions2, item_features=feature_matrix, k=10).mean()\n",
        "\n",
        "print(f\"Precision: {final_precision2:.4f}, Recall: {final_recall2:.4f}, NDCG: {ndcg2:.4f}\")"
      ],
      "metadata": {
        "colab": {
          "base_uri": "https://localhost:8080/"
        },
        "id": "_Ztr64RxItcr",
        "outputId": "a4efcb72-5af6-4bd8-e27a-478403596cd6"
      },
      "execution_count": 89,
      "outputs": [
        {
          "output_type": "stream",
          "name": "stdout",
          "text": [
            "Precision: 0.9019, Recall: 0.0715, NDCG: 0.8958\n"
          ]
        }
      ]
    },
    {
      "cell_type": "code",
      "source": [
        "# Graph of final scores\n",
        "results = [final_precision, final_precision2, final_recall, final_recall2, ndcg, ndcg2]\n",
        "scores = ['Precision', 'Precision w/ Feature', 'Recall', 'Recall w/ Feature', 'NDCG', 'NDCG w/ Feature']\n",
        "\n",
        "plt.bar(scores, results, color=['red', 'blue', 'green', 'orange', 'purple', 'indigo'])\n",
        "plt.xlabel('Evaluation')\n",
        "plt.ylabel('Results')\n",
        "plt.title('Final Evalution Comparison')\n",
        "plt.xticks(rotation=30, ha=\"right\")\n",
        "plt.grid(True)\n",
        "plt.show()\n",
        "\n",
        "print(f\"Precision: {final_precision:.4f}, Precision with Feature: {final_precision2:.4f} Recall: {final_recall:.4f}, Recall with Feature: {final_recall2:.4f}, NDCG: {ndcg:.4f}, NDCG with Feature: {ndcg2:.4f}\")"
      ],
      "metadata": {
        "colab": {
          "base_uri": "https://localhost:8080/",
          "height": 556
        },
        "id": "sxhRFpgqYv15",
        "outputId": "c1706492-8f28-42a5-9e8b-0e8895598205"
      },
      "execution_count": 90,
      "outputs": [
        {
          "output_type": "display_data",
          "data": {
            "text/plain": [
              "<Figure size 640x480 with 1 Axes>"
            ],
            "image/png": "[encoded data removed]"
          },
          "metadata": {}
        },
        {
          "output_type": "stream",
          "name": "stdout",
          "text": [
            "Precision: 0.9124, Precision with Feature: 0.9019 Recall: 0.0724, Recall with Feature: 0.0715, NDCG: 0.9440, NDCG with Feature: 0.8958\n"
          ]
        }
      ]
    },
    {
      "cell_type": "code",
      "source": [
        "# MAE and RMSE\n",
        "mae = mean_absolute_error(actual, predict_array)\n",
        "rmse = mean_squared_error(actual, predict_array)\n",
        "mae2 = mean_absolute_error(actual2, predict_array2)\n",
        "rmse2 = mean_squared_error(actual2, predict_array2)\n",
        "\n",
        "results2 = [mae, mae2, rmse, rmse2]\n",
        "scores2 = ['MAE', 'MAE w/ Feature', 'RMSE', 'RMSE w/ Feature']\n",
        "\n",
        "plt.bar(scores2, results2, color=['red', 'blue', 'green', 'orange'])\n",
        "plt.xlabel('Evaluation')\n",
        "plt.ylabel('Results')\n",
        "plt.title('MAE and RMSE Evaluation')\n",
        "plt.xticks(rotation=30, ha=\"right\")\n",
        "\n",
        "print(f\"MAE: {mae:.4f}, MAE with Feature: {mae2:.4f}, RMSE: {rmse:.4f}, RMSE with Feature: {rmse2:.4f}\")"
      ],
      "metadata": {
        "colab": {
          "base_uri": "https://localhost:8080/",
          "height": 545
        },
        "id": "9F_ZpVNm780u",
        "outputId": "e6e5dd02-e44b-474c-d17b-c23e367e4fe7"
      },
      "execution_count": 91,
      "outputs": [
        {
          "output_type": "stream",
          "name": "stdout",
          "text": [
            "MAE: 0.6123, MAE with Feature: 0.6339, RMSE: 0.6090, RMSE with Feature: 0.6311\n"
          ]
        },
        {
          "output_type": "display_data",
          "data": {
            "text/plain": [
              "<Figure size 640x480 with 1 Axes>"
            ],
            "image/png": "[encoded data removed]"
          },
          "metadata": {}
        }
      ]
    },
    {
      "cell_type": "code",
      "source": [
        "bpr_metrics = {\n",
        "    'Precision': final_precision,\n",
        "    'Precision with Feature': final_precision2,\n",
        "    'Recall': final_recall,\n",
        "    'Recall with Feature': final_recall2,\n",
        "    'NDCG': ndcg,\n",
        "    'NDCG with Feature': ndcg2,\n",
        "    'MAE': mae,\n",
        "    'MAE with Feature': mae2,\n",
        "    'RMSE': rmse,\n",
        "    'RMSE with Feature': rmse2,\n",
        "}"
      ],
      "metadata": {
        "id": "ujQ4i2eNQn8K"
      },
      "execution_count": 92,
      "outputs": []
    },
    {
      "cell_type": "markdown",
      "source": [
        "Example Use Case"
      ],
      "metadata": {
        "id": "PVA3oTPDO5FA"
      }
    },
    {
      "cell_type": "code",
      "source": [
        "# Converts user to index\n",
        "userId_index = {user_id: idx for idx, user_id in enumerate(df['userId'].unique())}\n",
        "movieId_index = {movie_id: idx for idx, movie_id in enumerate(df['movieId'].unique())}\n",
        "\n",
        "list_movies_unique = df['movieId'].unique().tolist()\n",
        "list_movies = [m for m in list_movies_unique if m in movieId_to_index]\n",
        "\n",
        "# Specified user recommendation to look for\n",
        "user = 150\n",
        "user_index = userId_index[user]\n",
        "\n",
        "# Convert movie IDs to indices\n",
        "item_indices = [movieId_index[movie] for movie in list_movies if movie in movieId_index]"
      ],
      "metadata": {
        "id": "RgavBeqfKkka"
      },
      "execution_count": 93,
      "outputs": []
    },
    {
      "cell_type": "code",
      "source": [
        "# Predict scores without features\n",
        "predicted = bpr_model.predict(user_index, item_indices)\n",
        "\n",
        "# Sorts top 10 movies indexs\n",
        "top_movies = np.argsort(-predicted)[:10]\n",
        "\n",
        "# Convert back to movie IDs\n",
        "recommended_movie_ids = [list(movieId_index.keys())[i] for i in top_movies]\n",
        "\n",
        "recommended_movies = [df[df['movieId'] == movie_id]['original_title'].values[0] for movie_id in recommended_movie_ids if movie_id in df['movieId'].values]\n",
        "top_movie_scores = predicted[top_movies]\n",
        "\n",
        "print(f\"Recommended movies without Feature Item for user {user}:\")\n",
        "for i in range(len(recommended_movies)):\n",
        "    print(f'{i+1}. \"{recommended_movies[i]}\" with Score: {top_movie_scores[i]:.4f}')\n",
        "    print()"
      ],
      "metadata": {
        "colab": {
          "base_uri": "https://localhost:8080/"
        },
        "id": "lgtpORz5K2zu",
        "outputId": "eb777815-71f2-4293-d8a3-9876f1dd3e96"
      },
      "execution_count": 94,
      "outputs": [
        {
          "output_type": "stream",
          "name": "stdout",
          "text": [
            "Recommended movies without Feature Item for user 150:\n",
            "1. \"The 39 Steps\" with Score: 0.0239\n",
            "\n",
            "2. \"Rope\" with Score: 0.0230\n",
            "\n",
            "3. \"Bridge to Terabithia\" with Score: 0.0230\n",
            "\n",
            "4. \"Terminator 3: Rise of the Machines\" with Score: 0.0229\n",
            "\n",
            "5. \"A Nightmare on Elm Street\" with Score: 0.0211\n",
            "\n",
            "6. \"Young and Innocent\" with Score: 0.0208\n",
            "\n",
            "7. \"The Million Dollar Hotel\" with Score: 0.0206\n",
            "\n",
            "8. \"The Conversation\" with Score: 0.0201\n",
            "\n",
            "9. \"Men in Black II\" with Score: 0.0178\n",
            "\n",
            "10. \"Light of Day\" with Score: 0.0146\n",
            "\n"
          ]
        }
      ]
    },
    {
      "cell_type": "code",
      "source": [
        "# Predict scores WITH features\n",
        "predicted2 = bpr_model2.predict(user_index, item_indices)\n",
        "\n",
        "# Sorts top 10 movies indexs\n",
        "top_movies2 = np.argsort(-predicted2)[:10]\n",
        "\n",
        "# Convert back to movie IDs\n",
        "recommended_movie_ids2 = [list(movieId_index.keys())[i] for i in top_movies2]\n",
        "\n",
        "recommended_movies2 = [df[df['movieId'] == movie_id]['original_title'].values[0] for movie_id in recommended_movie_ids2 if movie_id in df['movieId'].values]\n",
        "top_movie_scores2 = predicted2[top_movies2]\n",
        "\n",
        "print(f\"Recommended movies with Feature Item for user {user}:\")\n",
        "for i in range(len(recommended_movies2)):\n",
        "    print(f'{i+1}. \"{recommended_movies2[i]}\" with Score: {top_movie_scores2[i]:.4f}')\n",
        "    print()"
      ],
      "metadata": {
        "id": "GwI4xGIbO9ph",
        "colab": {
          "base_uri": "https://localhost:8080/"
        },
        "outputId": "7e645a43-a8ae-4b9c-b820-24a2c577f6ae"
      },
      "execution_count": 95,
      "outputs": [
        {
          "output_type": "stream",
          "name": "stdout",
          "text": [
            "Recommended movies with Feature Item for user 150:\n",
            "1. \"Terminator 3: Rise of the Machines\" with Score: 0.0958\n",
            "\n",
            "2. \"Shriek If You Know What I Did Last Friday the Thirteenth\" with Score: 0.0907\n",
            "\n",
            "3. \"License to Wed\" with Score: 0.0824\n",
            "\n",
            "4. \"My Name Is Bruce\" with Score: 0.0820\n",
            "\n",
            "5. \"48 Hrs.\" with Score: 0.0819\n",
            "\n",
            "6. \"Wag the Dog\" with Score: 0.0791\n",
            "\n",
            "7. \"Notes on a Scandal\" with Score: 0.0745\n",
            "\n",
            "8. \"The Thirteenth Floor\" with Score: 0.0674\n",
            "\n",
            "9. \"Live and Let Die\" with Score: 0.0668\n",
            "\n",
            "10. \"Street Kings\" with Score: 0.0665\n",
            "\n"
          ]
        }
      ]
    },
    {
      "cell_type": "markdown",
      "source": [
        "Example of Bad outcomes"
      ],
      "metadata": {
        "id": "AUsLHUVYCGL2"
      }
    },
    {
      "cell_type": "code",
      "source": [
        "# Predict scores without features\n",
        "predicted = bpr_model.predict(user_index, item_indices)\n",
        "\n",
        "# Sorts top 10 movies indexs\n",
        "top_movies = np.argsort(predicted)[:10]\n",
        "\n",
        "# Convert back to movie IDs\n",
        "recommended_movie_ids = [list(movieId_index.keys())[i] for i in top_movies]\n",
        "\n",
        "recommended_movies = [df[df['movieId'] == movie_id]['original_title'].values[0] for movie_id in recommended_movie_ids if movie_id in df['movieId'].values]\n",
        "top_movie_scores = predicted[top_movies]\n",
        "\n",
        "print(f\"Bad recommended movies without Feature Item for user {user}:\")\n",
        "for i in range(len(recommended_movies)):\n",
        "    print(f'{i+1}. \"{recommended_movies[i]}\" with Score: {top_movie_scores[i]:.4f}')\n",
        "    print()"
      ],
      "metadata": {
        "colab": {
          "base_uri": "https://localhost:8080/"
        },
        "id": "DOvfBo8eCJ0a",
        "outputId": "840066b2-1a54-4e52-b460-4138dc75d630"
      },
      "execution_count": 96,
      "outputs": [
        {
          "output_type": "stream",
          "name": "stdout",
          "text": [
            "Bad recommended movies without Feature Item for user 150:\n",
            "1. \"Monty Python and the Holy Grail\" with Score: -0.0176\n",
            "\n",
            "2. \"Cat on a Hot Tin Roof\" with Score: -0.0150\n",
            "\n",
            "3. \"In Time\" with Score: -0.0148\n",
            "\n",
            "4. \"Longitude\" with Score: -0.0146\n",
            "\n",
            "5. \"Eyes Wide Shut\" with Score: -0.0145\n",
            "\n",
            "6. \"Shuang ma lian huan\" with Score: -0.0144\n",
            "\n",
            "7. \"The Good Thief\" with Score: -0.0137\n",
            "\n",
            "8. \"The Dark\" with Score: -0.0135\n",
            "\n",
            "9. \"The Sixth Sense\" with Score: -0.0133\n",
            "\n",
            "10. \"Indestructible Man\" with Score: -0.0133\n",
            "\n"
          ]
        }
      ]
    },
    {
      "cell_type": "code",
      "source": [
        "# Predict scores WITH features\n",
        "predicted2 = bpr_model2.predict(user_index, item_indices)\n",
        "\n",
        "# Sorts top 10 movies indexs\n",
        "top_movies2 = np.argsort(predicted2)[:10]\n",
        "\n",
        "# Convert back to movie IDs\n",
        "recommended_movie_ids2 = [list(movieId_index.keys())[i] for i in top_movies2]\n",
        "\n",
        "recommended_movies2 = [df[df['movieId'] == movie_id]['original_title'].values[0] for movie_id in recommended_movie_ids2 if movie_id in df['movieId'].values]\n",
        "top_movie_scores2 = predicted2[top_movies2]\n",
        "\n",
        "print(f\"Bad movies with Feature Item for user {user}:\")\n",
        "for i in range(len(recommended_movies2)):\n",
        "    print(f'{i+1}. \"{recommended_movies2[i]}\" with Score: {top_movie_scores2[i]:.4f}')\n",
        "    print()"
      ],
      "metadata": {
        "colab": {
          "base_uri": "https://localhost:8080/"
        },
        "id": "4mGvAcNMHsz3",
        "outputId": "5eb0bb33-2a6c-48f3-f42e-1ae2bcd0c857"
      },
      "execution_count": 97,
      "outputs": [
        {
          "output_type": "stream",
          "name": "stdout",
          "text": [
            "Bad movies with Feature Item for user 150:\n",
            "1. \"Jacob's Ladder\" with Score: -0.1026\n",
            "\n",
            "2. \"Once Were Warriors\" with Score: -0.1011\n",
            "\n",
            "3. \"Rocky Balboa\" with Score: -0.0993\n",
            "\n",
            "4. \"Point Break\" with Score: -0.0993\n",
            "\n",
            "5. \"The Talented Mr. Ripley\" with Score: -0.0979\n",
            "\n",
            "6. \"Big Fish\" with Score: -0.0977\n",
            "\n",
            "7. \"Men in Black II\" with Score: -0.0966\n",
            "\n",
            "8. \"The Hours\" with Score: -0.0953\n",
            "\n",
            "9. \"Mr. Holland's Opus\" with Score: -0.0933\n",
            "\n",
            "10. \"To Kill a Mockingbird\" with Score: -0.0927\n",
            "\n"
          ]
        }
      ]
    },
    {
      "cell_type": "markdown",
      "source": [
        "## **Logistic Regression**"
      ],
      "metadata": {
        "id": "RHTE8rPTuSXN"
      }
    },
    {
      "cell_type": "markdown",
      "source": [
        "Preprocessing"
      ],
      "metadata": {
        "id": "dQC1Op_bvA4D"
      }
    },
    {
      "cell_type": "code",
      "source": [
        "movieData = copy_movieData\n",
        "movieData['content'] = movieData['genres'] + ' ' + movieData['overview']\n",
        "movieData = movieData.sample(n=10000, random_state=42)"
      ],
      "metadata": {
        "id": "TpS6bSSCuyRo"
      },
      "execution_count": 98,
      "outputs": []
    },
    {
      "cell_type": "markdown",
      "source": [
        "Tuning and Training"
      ],
      "metadata": {
        "id": "8_uvdG7qvDdk"
      }
    },
    {
      "cell_type": "code",
      "source": [
        "nltk.download('stopwords')\n",
        "nltk.download('punkt')\n",
        "nltk.download('punkt_tab')\n",
        "stemmer = PorterStemmer()\n",
        "stop_words = set(stopwords.words('english'))\n",
        "\n",
        "def clean_text(text):\n",
        "    # Remove non-alphanumeric characters\n",
        "    text = re.sub(r'[^a-zA-Z\\s]', '', text, re.I)\n",
        "\n",
        "    # Convert to lowercase\n",
        "    text = text.lower()\n",
        "\n",
        "    # Tokenize the text into words\n",
        "    words = word_tokenize(text)\n",
        "\n",
        "    # Remove stop words and stem the remaining words\n",
        "    cleaned_words = [stemmer.stem(word) for word in words if word not in stop_words]\n",
        "\n",
        "    cleaned_text = ' '.join(cleaned_words)\n",
        "\n",
        "    return cleaned_text\n",
        "\n",
        "# Apply text cleaning to the 'content' column\n",
        "movieData['cleaned_content'] = movieData['content'].apply(clean_text)\n",
        "\n",
        "# TF-IDF for content-based features on the cleaned text\n",
        "tfidf = TfidfVectorizer(max_features=5000)\n",
        "tfidf_matrix = tfidf.fit_transform(movieData['cleaned_content'])\n",
        "print(f'TF-IDF matrix shape: {tfidf_matrix.shape}')\n",
        "\n",
        "# Create the target variable 'liked' based on rating\n",
        "movieData['liked'] = (movieData['rating'] >= 3.5).astype(int)\n",
        "\n",
        "# Prepare features and target for the model\n",
        "X = tfidf_matrix.toarray()\n",
        "y = movieData['liked'].values\n",
        "\n",
        "# Split the data into train and test sets\n",
        "X_train, X_test, y_train, y_test = train_test_split(X, y, test_size=0.2, random_state=42)\n",
        "\n",
        "# Hyperparameter tuning using GridSearchCV for Logistic Regression\n",
        "param_grid = {\n",
        "    'C': [0.01, 0.1, 1, 10, 100],\n",
        "    'solver': ['liblinear', 'newton-cg']\n",
        "}\n",
        "\n",
        "log_reg = LogisticRegression(penalty='l2')\n",
        "\n",
        "grid_search_lr = GridSearchCV(log_reg, param_grid, cv=5, verbose=1, n_jobs=-1, scoring='accuracy')\n",
        "grid_search_lr.fit(X_train, y_train)\n",
        "\n",
        "best_log_reg = grid_search_lr.best_estimator_\n",
        "best_params_lr = grid_search_lr.best_params_\n",
        "best_score_lr = grid_search_lr.best_score_\n",
        "\n",
        "print(f\"Best Logistic Regression Parameters: {best_params_lr}\")\n",
        "y_pred_train = best_log_reg.predict(X_train)\n",
        "y_pred_test = best_log_reg.predict(X_test)\n",
        "\n",
        "precision_lr = precision_score(y_test, y_pred_test)\n",
        "recall_lr = recall_score(y_test, y_pred_test)\n",
        "roc_auc_lr = roc_auc_score(y_test, y_pred_test)\n",
        "\n",
        "print(f'Precision (Logistic Regression): {precision_lr:.4f}')\n",
        "print(f'Recall (Logistic Regression): {recall_lr:.4f}')\n",
        "print(f'ROC-AUC (Logistic Regression): {roc_auc_lr:.4f}')\n",
        "\n",
        "# Hyperparameter tuning for PCA and Logistic Regression (after PCA)\n",
        "best_pca = PCA(n_components=0.95)\n",
        "X_train_pca = best_pca.fit_transform(X_train)\n",
        "X_test_pca = best_pca.transform(X_test)\n",
        "\n",
        "param_grid_lr = {\n",
        "    'C': [0.01, 0.1, 1, 10, 100],\n",
        "    'solver': ['liblinear', 'newton-cg']\n",
        "}\n",
        "\n",
        "grid_search_lr = GridSearchCV(log_reg, param_grid_lr, cv=5, verbose=1, n_jobs=-1, scoring='accuracy')\n",
        "grid_search_lr.fit(X_train_pca, y_train)\n",
        "\n",
        "best_log_reg_pca = grid_search_lr.best_estimator_\n",
        "best_params_lr = grid_search_lr.best_params_\n",
        "best_score_lr = grid_search_lr.best_score_\n",
        "\n",
        "print(f\"Best Logistic Regression Parameters (after PCA): {best_params_lr}\")\n",
        "\n",
        "y_pred_train_pca = best_log_reg_pca.predict(X_train_pca)\n",
        "y_pred_test_pca = best_log_reg_pca.predict(X_test_pca)\n",
        "precision_lr_pca = precision_score(y_test, y_pred_test_pca)\n",
        "recall_lr_pca = recall_score(y_test, y_pred_test_pca)\n",
        "roc_auc_lr_pca = roc_auc_score(y_test, y_pred_test_pca)\n",
        "\n",
        "print(f'Precision (after PCA): {precision_lr_pca:.4f}')\n",
        "print(f'Recall (after PCA): {recall_lr_pca:.4f}')\n",
        "print(f'ROC-AUC (after PCA): {roc_auc_lr_pca:.4f}')"
      ],
      "metadata": {
        "colab": {
          "base_uri": "https://localhost:8080/"
        },
        "id": "I-s-trJuuzIr",
        "outputId": "a04c780e-6d39-43b9-aea7-80e0803b5eca"
      },
      "execution_count": 99,
      "outputs": [
        {
          "output_type": "stream",
          "name": "stderr",
          "text": [
            "[nltk_data] Downloading package stopwords to /root/nltk_data...\n",
            "[nltk_data]   Package stopwords is already up-to-date!\n",
            "[nltk_data] Downloading package punkt to /root/nltk_data...\n",
            "[nltk_data]   Package punkt is already up-to-date!\n",
            "[nltk_data] Downloading package punkt_tab to /root/nltk_data...\n",
            "[nltk_data]   Package punkt_tab is already up-to-date!\n"
          ]
        },
        {
          "output_type": "stream",
          "name": "stdout",
          "text": [
            "TF-IDF matrix shape: (10000, 2890)\n",
            "Fitting 5 folds for each of 10 candidates, totalling 50 fits\n",
            "Best Logistic Regression Parameters: {'C': 10, 'solver': 'liblinear'}\n",
            "Precision (Logistic Regression): 0.6864\n",
            "Recall (Logistic Regression): 0.8137\n",
            "ROC-AUC (Logistic Regression): 0.6298\n",
            "Fitting 5 folds for each of 10 candidates, totalling 50 fits\n",
            "Best Logistic Regression Parameters (after PCA): {'C': 1, 'solver': 'newton-cg'}\n",
            "Precision (after PCA): 0.6713\n",
            "Recall (after PCA): 0.8120\n",
            "ROC-AUC (after PCA): 0.6096\n"
          ]
        }
      ]
    },
    {
      "cell_type": "markdown",
      "source": [
        "Evaluation"
      ],
      "metadata": {
        "id": "JmGHboV8vG_O"
      }
    },
    {
      "cell_type": "code",
      "source": [
        "# Function to compute RMSE, MAE, and NDCG for classification\n",
        "def compute_classification_metrics(y_true, y_pred_proba, k=10):\n",
        "    # Calculate RMSE based on predicted probabilities\n",
        "    rmse = np.sqrt(mean_squared_error(y_true, y_pred_proba))\n",
        "\n",
        "    # Calculate MAE based on predicted probabilities\n",
        "    mae = mean_absolute_error(y_true, y_pred_proba)\n",
        "\n",
        "    # Compute NDCG (Normalized Discounted Cumulative Gain)\n",
        "    # i am using the true values as relevance scores, and the predicted probabilities as predicted scores\n",
        "    ndcg = ndcg_score([y_true], [y_pred_proba], k=k)\n",
        "\n",
        "    return {\n",
        "        'RMSE (Classification)': rmse,\n",
        "        'MAE (Classification)': mae,\n",
        "        'NDCG (Classification)': ndcg\n",
        "    }\n",
        "\n",
        "# Predict probabilities for class 1 (liked) using Logistic Regression without PCA\n",
        "y_pred_test_proba = best_log_reg.predict_proba(X_test)[:, 1]  # Predicted probabilities for class 1 (liked)\n",
        "\n",
        "# Compute RMSE, MAE, and NDCG for Logistic Regression without PCA\n",
        "metrics_classification_lr = compute_classification_metrics(y_test, y_pred_test_proba)\n",
        "\n",
        "# Predict probabilities for class 1 (liked) using Logistic Regression with PCA\n",
        "y_pred_test_pca_proba = best_log_reg_pca.predict_proba(X_test_pca)[:, 1]  # Predicted probabilities for class 1 (liked) after PCA\n",
        "\n",
        "# Compute RMSE, MAE, and NDCG for Logistic Regression with PCA\n",
        "metrics_classification_lr_pca = compute_classification_metrics(y_test, y_pred_test_pca_proba)\n",
        "\n",
        "# Print the evaluation metrics for Logistic Regression without PCA\n",
        "print(\"Logistic Regression Metrics (without PCA):\")\n",
        "for metric, value in metrics_classification_lr.items():\n",
        "    print(f\"{metric}: {value:.4f}\")\n",
        "\n",
        "# Print the evaluation metrics for Logistic Regression with PCA\n",
        "print(\"\\nLogistic Regression Metrics (with PCA):\")\n",
        "for metric, value in metrics_classification_lr_pca.items():\n",
        "    print(f\"{metric}: {value:.4f}\")\n"
      ],
      "metadata": {
        "colab": {
          "base_uri": "https://localhost:8080/"
        },
        "id": "Thiv0b_6u0Du",
        "outputId": "f39664df-f09f-475e-ffa8-0fa1546b4a86"
      },
      "execution_count": 100,
      "outputs": [
        {
          "output_type": "stream",
          "name": "stdout",
          "text": [
            "Logistic Regression Metrics (without PCA):\n",
            "RMSE (Classification): 0.4626\n",
            "MAE (Classification): 0.4120\n",
            "NDCG (Classification): 0.7500\n",
            "\n",
            "Logistic Regression Metrics (with PCA):\n",
            "RMSE (Classification): 0.4659\n",
            "MAE (Classification): 0.4256\n",
            "NDCG (Classification): 0.7500\n"
          ]
        }
      ]
    },
    {
      "cell_type": "code",
      "source": [
        "metrics_lr = {\n",
        "    'Precision': precision_lr,\n",
        "    'Recall': recall_lr,\n",
        "    'ROC-AUC': roc_auc_lr,\n",
        "    'RMSE': metrics_classification_lr['RMSE (Classification)'],\n",
        "    'MAE': metrics_classification_lr['MAE (Classification)'],\n",
        "    'NDCG': metrics_classification_lr['NDCG (Classification)']\n",
        "}\n",
        "\n",
        "metrics_lr_pca = {\n",
        "    'Precision': precision_lr_pca,\n",
        "    'Recall': recall_lr_pca,\n",
        "    'ROC-AUC': roc_auc_lr_pca,\n",
        "    'RMSE': metrics_classification_lr_pca['RMSE (Classification)'],\n",
        "    'MAE': metrics_classification_lr_pca['MAE (Classification)'],\n",
        "    'NDCG': metrics_classification_lr_pca['NDCG (Classification)']\n",
        "}\n",
        "\n",
        "# Creating the bar plot\n",
        "labels = ['Precision', 'Recall', 'ROC-AUC', 'RMSE', 'MAE', 'NDCG']\n",
        "log_reg_values = [metrics_lr['Precision'], metrics_lr['Recall'], metrics_lr['ROC-AUC'], metrics_lr['RMSE'], metrics_lr['MAE'], metrics_lr['NDCG']]\n",
        "log_reg_pca_values = [metrics_lr_pca['Precision'], metrics_lr_pca['Recall'], metrics_lr_pca['ROC-AUC'], metrics_lr_pca['RMSE'], metrics_lr_pca['MAE'], metrics_lr_pca['NDCG']]\n",
        "\n",
        "x = range(len(labels))\n",
        "\n",
        "# Plotting the comparison\n",
        "fig, ax = plt.subplots(figsize=(10, 6))\n",
        "bar_width = 0.35\n",
        "ax.bar(x, log_reg_values, bar_width, label='Logistic Regression', color='b')\n",
        "ax.bar([p + bar_width for p in x], log_reg_pca_values, bar_width, label='Logistic Regression with PCA', color='r')\n",
        "\n",
        "ax.set_xlabel('Metrics')\n",
        "ax.set_ylabel('Values')\n",
        "ax.set_title('Comparison of Evaluation Metrics for Logistic Regression Models')\n",
        "ax.set_xticks([p + bar_width / 2 for p in x])\n",
        "ax.set_xticklabels(labels)\n",
        "ax.legend()\n",
        "\n",
        "# Show the plot\n",
        "plt.tight_layout()\n",
        "plt.show()\n"
      ],
      "metadata": {
        "colab": {
          "base_uri": "https://localhost:8080/",
          "height": 0
        },
        "id": "2EsIeAQ4dAGJ",
        "outputId": "be95a5eb-6aa4-4a4b-9ff8-b5bc5dda4f8b"
      },
      "execution_count": 101,
      "outputs": [
        {
          "output_type": "display_data",
          "data": {
            "text/plain": [
              "<Figure size 1000x600 with 1 Axes>"
            ],
            "image/png": "[encoded data removed]"
          },
          "metadata": {}
        }
      ]
    },
    {
      "cell_type": "markdown",
      "source": [
        "Example Use Case"
      ],
      "metadata": {
        "id": "GU488BryvJk5"
      }
    },
    {
      "cell_type": "code",
      "source": [
        "#Recommendation function for printing top recommendations to a user using logistic regression with PCA\n",
        "def recommend_items(user_id, model, ratings_df, movieData, tfidf, top_n=10):\n",
        "\n",
        "    user_ratings = ratings_df[ratings_df['userId'] == user_id]\n",
        "\n",
        "    # Get the content-based features for all movies\n",
        "    all_dramas = movieData[['movieId', 'content', 'original_title']]\n",
        "\n",
        "    # Predict the likelihood of the user liking all dramas they haven't rated yet\n",
        "    unseen_dramas = all_dramas[~all_dramas['movieId'].isin(user_ratings['movieId'])]\n",
        "\n",
        "    # Ensuring no duplicates in the unseen dramas\n",
        "    unseen_dramas = unseen_dramas.drop_duplicates(subset=['movieId'])\n",
        "\n",
        "    # Transform the content into TF-IDF features\n",
        "    unseen_dramas_tfidf = tfidf.transform(unseen_dramas['content'])\n",
        "\n",
        "    # Ensuring the unseen data has the same number of features as the training data\n",
        "    if unseen_dramas_tfidf.shape[1] != X.shape[1]:\n",
        "        raise ValueError(f\"Unseen data has a different number of features: {unseen_dramas_tfidf.shape[1]} != {X.shape[1]}\")\n",
        "\n",
        "    # Predict the probability of liking each unseen drama using raw TF-IDF features\n",
        "    predictions = model.predict_proba(unseen_dramas_tfidf)[:, 1]\n",
        "\n",
        "    top_indices = predictions.argsort()[-top_n:][::-1]\n",
        "\n",
        "    # Get unique movies for recommendations\n",
        "    recommended_dramas = unseen_dramas.iloc[top_indices].drop_duplicates(subset=['movieId'])\n",
        "\n",
        "    # Get the movie names and their predicted ratings corresponding to the recommended IDs\n",
        "    recommended_movie_names = recommended_dramas['original_title'].values\n",
        "    predicted_ratings = predictions[top_indices]  # These are the predicted ratings for each recommendation\n",
        "\n",
        "    return recommended_movie_names, predicted_ratings\n",
        "\n",
        "ratings_df = movieData[['userId', 'movieId', 'rating']]\n",
        "recommended_items, relevance_scores = recommend_items(user_id=41507, model=best_log_reg, ratings_df=ratings_df, movieData=movieData, tfidf=tfidf, top_n=10)\n",
        "\n",
        "print(\"Top Recommended items for user 41507:\")\n",
        "for item, score in zip(recommended_items, relevance_scores):\n",
        "    print(f\"{item} | Predicted Rating: {score:.4f}\")\n",
        "\n",
        "def ndcg_at_k(relevance_scores, k=10):\n",
        "    \"\"\"\n",
        "    Calculate NDCG@k\n",
        "    relevance_scores: Predicted relevance scores (e.g., probability of liking)\n",
        "    k: Top-k recommendations\n",
        "    \"\"\"\n",
        "    dcg_k = np.sum((2 ** relevance_scores[:k] - 1) / np.log2(np.arange(2, k + 2)))\n",
        "\n",
        "    ideal_relevance_scores = np.sort(relevance_scores)[::-1]\n",
        "    idcg_k = np.sum((2 ** ideal_relevance_scores[:k] - 1) / np.log2(np.arange(2, k + 2)))\n",
        "\n",
        "    return dcg_k / idcg_k if idcg_k > 0 else 0.0\n",
        "\n",
        "# Calculate NDCG@10\n",
        "ndcg_score = ndcg_at_k(relevance_scores, k=10)\n",
        "print(f'NDCG@10 for this user: {ndcg_score:.4f}')"
      ],
      "metadata": {
        "colab": {
          "base_uri": "https://localhost:8080/"
        },
        "id": "nd4bh9jmu07Y",
        "outputId": "16af660f-e6c9-4bc6-e06b-874b2fd55715"
      },
      "execution_count": 102,
      "outputs": [
        {
          "output_type": "stream",
          "name": "stdout",
          "text": [
            "Top Recommended items for user 41507:\n",
            "The Million Dollar Hotel | Predicted Rating: 0.9006\n",
            "The Big Sleep | Predicted Rating: 0.8583\n",
            "The Thomas Crown Affair | Predicted Rating: 0.8560\n",
            "Terminator 3: Rise of the Machines | Predicted Rating: 0.8381\n",
            "Sleepless in Seattle | Predicted Rating: 0.8252\n",
            "K-19: The Widowmaker | Predicted Rating: 0.8143\n",
            "Notes on a Scandal | Predicted Rating: 0.7924\n",
            "Star 80 | Predicted Rating: 0.7873\n",
            "The Sixth Sense | Predicted Rating: 0.7624\n",
            "Murder She Said | Predicted Rating: 0.7554\n",
            "NDCG@10 for this user: 1.0000\n"
          ]
        }
      ]
    },
    {
      "cell_type": "code",
      "source": [
        "# Function to recommend movies based on Logistic Regression (without PCA)\n",
        "def recommend_movies(user_id, model, ratings_df, movieData, tfidf, top_n=10):\n",
        "\n",
        "    user_rated_movies = ratings_df[ratings_df['userId'] == user_id]['movieId'].tolist()\n",
        "\n",
        "    unseen_movies = movieData[~movieData['movieId'].isin(user_rated_movies)].copy()\n",
        "\n",
        "    unseen_movies = unseen_movies.drop_duplicates(subset=['movieId'])\n",
        "\n",
        "    # TF-IDF vectors\n",
        "    unseen_movies_tfidf = tfidf.transform(unseen_movies['content'])\n",
        "\n",
        "    # Predict the probability of the user liking each unseen movie\n",
        "    predictions = model.predict_proba(unseen_movies_tfidf)[:, 1]\n",
        "\n",
        "    unseen_movies['predicted_proba'] = predictions\n",
        "\n",
        "    top_recommendations = unseen_movies.sort_values(by='predicted_proba', ascending=False).head(top_n)\n",
        "\n",
        "    # Get movie names and their predicted probabilities\n",
        "    recommended_movie_names = top_recommendations['original_title'].values\n",
        "    predicted_scores = top_recommendations['predicted_proba'].values\n",
        "\n",
        "    return recommended_movie_names, predicted_scores\n",
        "\n",
        "ratings_df = movieData[['userId', 'movieId', 'rating']]\n",
        "user_id = 41507\n",
        "\n",
        "# Get top 10 recommendations\n",
        "recommended_items, relevance_scores = recommend_movies(user_id, best_log_reg, ratings_df, movieData, tfidf, top_n=10)\n",
        "\n",
        "print(f\"\\n Top Movie Recommendations for User {user_id}:\")\n",
        "for item, score in zip(recommended_items, relevance_scores):\n",
        "    print(f\" {item} | Predicted Rating: {score:.4f}\")\n",
        "\n",
        "def ndcg_at_k(relevance_scores, k=10):\n",
        "    \"\"\"\n",
        "    Compute Normalized Discounted Cumulative Gain (NDCG) at rank K.\n",
        "    \"\"\"\n",
        "    dcg_k = np.sum((2 ** relevance_scores[:k] - 1) / np.log2(np.arange(2, k + 2)))\n",
        "\n",
        "    ideal_relevance_scores = np.sort(relevance_scores)[::-1]  # Ideal order (highest scores first)\n",
        "    idcg_k = np.sum((2 ** ideal_relevance_scores[:k] - 1) / np.log2(np.arange(2, k + 2)))\n",
        "\n",
        "    return dcg_k / idcg_k if idcg_k > 0 else 0.0\n",
        "\n",
        "# Compute NDCG@10\n",
        "ndcg_score = ndcg_at_k(relevance_scores, k=10)\n",
        "print(f'\\n NDCG@10 for User {user_id}: {ndcg_score:.4f}')\n"
      ],
      "metadata": {
        "colab": {
          "base_uri": "https://localhost:8080/"
        },
        "id": "cxxVCBURu2R7",
        "outputId": "3efdf9ea-a435-4e2d-831a-aa4f2e442b1d"
      },
      "execution_count": 103,
      "outputs": [
        {
          "output_type": "stream",
          "name": "stdout",
          "text": [
            "\n",
            " Top Movie Recommendations for User 41507:\n",
            " The Million Dollar Hotel | Predicted Rating: 0.9006\n",
            " The Big Sleep | Predicted Rating: 0.8583\n",
            " The Thomas Crown Affair | Predicted Rating: 0.8560\n",
            " Terminator 3: Rise of the Machines | Predicted Rating: 0.8381\n",
            " Sleepless in Seattle | Predicted Rating: 0.8252\n",
            " K-19: The Widowmaker | Predicted Rating: 0.8143\n",
            " Notes on a Scandal | Predicted Rating: 0.7924\n",
            " Star 80 | Predicted Rating: 0.7873\n",
            " The Sixth Sense | Predicted Rating: 0.7624\n",
            " Murder She Said | Predicted Rating: 0.7554\n",
            "\n",
            " NDCG@10 for User 41507: 1.0000\n"
          ]
        }
      ]
    },
    {
      "cell_type": "code",
      "source": [
        "# Function to perform bad recommendation of movies based on Logistic Regression (without PCA)\n",
        "def recommend_movies(user_id, model, ratings_df, movieData, tfidf, top_n=10):\n",
        "    user_rated_movies = ratings_df[ratings_df['userId'] == user_id]['movieId'].tolist()\n",
        "\n",
        "    unseen_movies = movieData[~movieData['movieId'].isin(user_rated_movies)].copy()\n",
        "\n",
        "    unseen_movies = unseen_movies.drop_duplicates(subset=['movieId'])\n",
        "\n",
        "    # TF-IDF vectors\n",
        "    unseen_movies_tfidf = tfidf.transform(unseen_movies['content'])\n",
        "\n",
        "    # Predict the probability of the user liking each unseen movie\n",
        "    predictions = model.predict_proba(unseen_movies_tfidf)[:, 1]\n",
        "\n",
        "    unseen_movies['predicted_proba'] = predictions\n",
        "\n",
        "    # Sort movies by predicted probability in ascending order (low to high)\n",
        "    top_recommendations = unseen_movies.sort_values(by='predicted_proba', ascending=True).head(top_n)\n",
        "\n",
        "    # Get movie names and their predicted probabilities\n",
        "    recommended_movie_names = top_recommendations['original_title'].values\n",
        "    predicted_scores = top_recommendations['predicted_proba'].values\n",
        "\n",
        "    return recommended_movie_names, predicted_scores\n",
        "\n",
        "ratings_df = movieData[['userId', 'movieId', 'rating']]\n",
        "user_id = 37422\n",
        "\n",
        "# Get top 10 recommendations (now ordered from low to high predicted rating)\n",
        "recommended_items, relevance_scores = recommend_movies(user_id, best_log_reg, ratings_df, movieData, tfidf, top_n=10)\n",
        "\n",
        "print(f\"\\nBad Movie Recommendations for User {user_id}:\")\n",
        "for item, score in zip(recommended_items, relevance_scores):\n",
        "    print(f\" {item} | Predicted Rating: {score:.4f}\")"
      ],
      "metadata": {
        "colab": {
          "base_uri": "https://localhost:8080/"
        },
        "id": "a43bOo8PdGR1",
        "outputId": "2e26ef25-bc0b-4a77-e4e4-99b4bfcbd2d6"
      },
      "execution_count": 104,
      "outputs": [
        {
          "output_type": "stream",
          "name": "stdout",
          "text": [
            "\n",
            "Bad Movie Recommendations for User 37422:\n",
            " Monty Python and the Holy Grail | Predicted Rating: 0.1328\n",
            " Star Trek V: The Final Frontier | Predicted Rating: 0.1791\n",
            " Klute | Predicted Rating: 0.2240\n",
            " Imagine Me & You | Predicted Rating: 0.2482\n",
            " Lost in Translation | Predicted Rating: 0.2662\n",
            " Lucky Number Slevin | Predicted Rating: 0.2677\n",
            " The Day After Tomorrow | Predicted Rating: 0.3124\n",
            " Whale Rider | Predicted Rating: 0.3126\n",
            " Short Circuit | Predicted Rating: 0.3243\n",
            " Back to the Future Part III | Predicted Rating: 0.3287\n"
          ]
        }
      ]
    },
    {
      "cell_type": "markdown",
      "source": [
        "## **Neural Collaborative Filtering (NCF)**"
      ],
      "metadata": {
        "id": "74x8q_-Gnm4b"
      }
    },
    {
      "cell_type": "markdown",
      "source": [
        "Preprocessing"
      ],
      "metadata": {
        "id": "t8PF8QTzpQB7"
      }
    },
    {
      "cell_type": "code",
      "source": [
        "movieData = copy_movieData\n",
        "\n",
        "# Map user and movie IDs to integers\n",
        "user_encoder = LabelEncoder()\n",
        "movie_encoder = LabelEncoder()\n",
        "\n",
        "movieData['userId'] = user_encoder.fit_transform(movieData['userId'])\n",
        "movieData['movieId'] = movie_encoder.fit_transform(movieData['movieId'])\n",
        "\n",
        "# Normalize ratings to [0, 1]\n",
        "movieData['rating'] = movieData['rating'] / 5.0\n",
        "\n",
        "# Split the data into train, validation, and test sets\n",
        "train_data, test_data = train_test_split(movieData, test_size=0.2, random_state=42)\n",
        "train_data, val_data = train_test_split(train_data, test_size=0.1, random_state=42)\n",
        "\n",
        "# Extract user IDs, movie IDs, and ratings\n",
        "train_users = train_data['userId'].values\n",
        "train_movies = train_data['movieId'].values\n",
        "train_ratings = train_data['rating'].values\n",
        "\n",
        "val_users = val_data['userId'].values\n",
        "val_movies = val_data['movieId'].values\n",
        "val_ratings = val_data['rating'].values\n",
        "\n",
        "test_users = test_data['userId'].values\n",
        "test_movies = test_data['movieId'].values\n",
        "test_ratings = test_data['rating'].values"
      ],
      "metadata": {
        "id": "dyTYQ1d9n_uz"
      },
      "execution_count": 105,
      "outputs": []
    },
    {
      "cell_type": "markdown",
      "source": [
        "NCF Model"
      ],
      "metadata": {
        "id": "SHlLLem-pa3x"
      }
    },
    {
      "cell_type": "code",
      "source": [
        "def build_ncf(num_users, num_movies, embedding_size, mlp_layers):\n",
        "    # Input layers\n",
        "    user_input = Input(shape=(1,), dtype='int32', name='user_input')\n",
        "    movie_input = Input(shape=(1,), dtype='int32', name='movie_input')\n",
        "\n",
        "    # Embedding layers\n",
        "    user_embedding = Embedding(input_dim=num_users, output_dim=embedding_size, name='user_embedding')(user_input)\n",
        "    movie_embedding = Embedding(input_dim=num_movies, output_dim=embedding_size, name='movie_embedding')(movie_input)\n",
        "\n",
        "    # Flatten embeddings\n",
        "    user_embedding = Flatten()(user_embedding)\n",
        "    movie_embedding = Flatten()(movie_embedding)\n",
        "\n",
        "    # GMF path\n",
        "    gmf = Multiply()([user_embedding, movie_embedding])\n",
        "\n",
        "    # MLP path\n",
        "    mlp_input = Concatenate()([user_embedding, movie_embedding])\n",
        "    mlp_output = Dense(mlp_layers[0], activation='relu')(mlp_input)\n",
        "    for layer_size in mlp_layers[1:]:\n",
        "        mlp_output = Dense(layer_size, activation='relu')(mlp_output)\n",
        "\n",
        "    # Concatenate GMF and MLP\n",
        "    combined = Concatenate()([gmf, mlp_output])\n",
        "\n",
        "    # Output layer\n",
        "    output = Dense(1, activation='sigmoid', name='output')(combined)\n",
        "\n",
        "    # Define the model\n",
        "    model = Model(inputs=[user_input, movie_input], outputs=output)\n",
        "    return model\n",
        "\n",
        "num_users = movieData['userId'].nunique()\n",
        "num_movies = movieData['movieId'].nunique()\n",
        "embedding_size = 32\n",
        "mlp_layers = [64, 32, 16]\n",
        "\n",
        "model = build_ncf(num_users, num_movies, embedding_size, mlp_layers)\n",
        "model.summary()"
      ],
      "metadata": {
        "colab": {
          "base_uri": "https://localhost:8080/",
          "height": 0
        },
        "id": "bOLTYTFJpRz7",
        "outputId": "d231a4fa-b73a-4a55-c5b9-cc4e8976e4d7"
      },
      "execution_count": 106,
      "outputs": [
        {
          "output_type": "display_data",
          "data": {
            "text/plain": [
              "\u001b[1mModel: \"functional_4\"\u001b[0m\n"
            ],
            "text/html": [
              "<pre style=\"white-space:pre;overflow-x:auto;line-height:normal;font-family:Menlo,'DejaVu Sans Mono',consolas,'Courier New',monospace\"><span style=\"font-weight: bold\">Model: \"functional_4\"</span>\n",
              "</pre>\n"
            ]
          },
          "metadata": {}
        },
        {
          "output_type": "display_data",
          "data": {
            "text/plain": [
              "┏━━━━━━━━━━━━━━━━━━━━━━━━━━━┳━━━━━━━━━━━━━━━━━━━━━━━━┳━━━━━━━━━━━━━━━━┳━━━━━━━━━━━━━━━━━━━━━━━━┓\n",
              "┃\u001b[1m \u001b[0m\u001b[1mLayer (type)             \u001b[0m\u001b[1m \u001b[0m┃\u001b[1m \u001b[0m\u001b[1mOutput Shape          \u001b[0m\u001b[1m \u001b[0m┃\u001b[1m \u001b[0m\u001b[1m       Param #\u001b[0m\u001b[1m \u001b[0m┃\u001b[1m \u001b[0m\u001b[1mConnected to          \u001b[0m\u001b[1m \u001b[0m┃\n",
              "┡━━━━━━━━━━━━━━━━━━━━━━━━━━━╇━━━━━━━━━━━━━━━━━━━━━━━━╇━━━━━━━━━━━━━━━━╇━━━━━━━━━━━━━━━━━━━━━━━━┩\n",
              "│ user_input (\u001b[38;5;33mInputLayer\u001b[0m)   │ (\u001b[38;5;45mNone\u001b[0m, \u001b[38;5;34m1\u001b[0m)              │              \u001b[38;5;34m0\u001b[0m │ -                      │\n",
              "├───────────────────────────┼────────────────────────┼────────────────┼────────────────────────┤\n",
              "│ movie_input (\u001b[38;5;33mInputLayer\u001b[0m)  │ (\u001b[38;5;45mNone\u001b[0m, \u001b[38;5;34m1\u001b[0m)              │              \u001b[38;5;34m0\u001b[0m │ -                      │\n",
              "├───────────────────────────┼────────────────────────┼────────────────┼────────────────────────┤\n",
              "│ user_embedding            │ (\u001b[38;5;45mNone\u001b[0m, \u001b[38;5;34m1\u001b[0m, \u001b[38;5;34m32\u001b[0m)          │         \u001b[38;5;34m24,768\u001b[0m │ user_input[\u001b[38;5;34m0\u001b[0m][\u001b[38;5;34m0\u001b[0m]       │\n",
              "│ (\u001b[38;5;33mEmbedding\u001b[0m)               │                        │                │                        │\n",
              "├───────────────────────────┼────────────────────────┼────────────────┼────────────────────────┤\n",
              "│ movie_embedding           │ (\u001b[38;5;45mNone\u001b[0m, \u001b[38;5;34m1\u001b[0m, \u001b[38;5;34m32\u001b[0m)          │          \u001b[38;5;34m6,784\u001b[0m │ movie_input[\u001b[38;5;34m0\u001b[0m][\u001b[38;5;34m0\u001b[0m]      │\n",
              "│ (\u001b[38;5;33mEmbedding\u001b[0m)               │                        │                │                        │\n",
              "├───────────────────────────┼────────────────────────┼────────────────┼────────────────────────┤\n",
              "│ flatten_8 (\u001b[38;5;33mFlatten\u001b[0m)       │ (\u001b[38;5;45mNone\u001b[0m, \u001b[38;5;34m32\u001b[0m)             │              \u001b[38;5;34m0\u001b[0m │ user_embedding[\u001b[38;5;34m0\u001b[0m][\u001b[38;5;34m0\u001b[0m]   │\n",
              "├───────────────────────────┼────────────────────────┼────────────────┼────────────────────────┤\n",
              "│ flatten_9 (\u001b[38;5;33mFlatten\u001b[0m)       │ (\u001b[38;5;45mNone\u001b[0m, \u001b[38;5;34m32\u001b[0m)             │              \u001b[38;5;34m0\u001b[0m │ movie_embedding[\u001b[38;5;34m0\u001b[0m][\u001b[38;5;34m0\u001b[0m]  │\n",
              "├───────────────────────────┼────────────────────────┼────────────────┼────────────────────────┤\n",
              "│ concatenate_8             │ (\u001b[38;5;45mNone\u001b[0m, \u001b[38;5;34m64\u001b[0m)             │              \u001b[38;5;34m0\u001b[0m │ flatten_8[\u001b[38;5;34m0\u001b[0m][\u001b[38;5;34m0\u001b[0m],       │\n",
              "│ (\u001b[38;5;33mConcatenate\u001b[0m)             │                        │                │ flatten_9[\u001b[38;5;34m0\u001b[0m][\u001b[38;5;34m0\u001b[0m]        │\n",
              "├───────────────────────────┼────────────────────────┼────────────────┼────────────────────────┤\n",
              "│ dense_8 (\u001b[38;5;33mDense\u001b[0m)           │ (\u001b[38;5;45mNone\u001b[0m, \u001b[38;5;34m64\u001b[0m)             │          \u001b[38;5;34m4,160\u001b[0m │ concatenate_8[\u001b[38;5;34m0\u001b[0m][\u001b[38;5;34m0\u001b[0m]    │\n",
              "├───────────────────────────┼────────────────────────┼────────────────┼────────────────────────┤\n",
              "│ dense_9 (\u001b[38;5;33mDense\u001b[0m)           │ (\u001b[38;5;45mNone\u001b[0m, \u001b[38;5;34m32\u001b[0m)             │          \u001b[38;5;34m2,080\u001b[0m │ dense_8[\u001b[38;5;34m0\u001b[0m][\u001b[38;5;34m0\u001b[0m]          │\n",
              "├───────────────────────────┼────────────────────────┼────────────────┼────────────────────────┤\n",
              "│ multiply_4 (\u001b[38;5;33mMultiply\u001b[0m)     │ (\u001b[38;5;45mNone\u001b[0m, \u001b[38;5;34m32\u001b[0m)             │              \u001b[38;5;34m0\u001b[0m │ flatten_8[\u001b[38;5;34m0\u001b[0m][\u001b[38;5;34m0\u001b[0m],       │\n",
              "│                           │                        │                │ flatten_9[\u001b[38;5;34m0\u001b[0m][\u001b[38;5;34m0\u001b[0m]        │\n",
              "├───────────────────────────┼────────────────────────┼────────────────┼────────────────────────┤\n",
              "│ dense_10 (\u001b[38;5;33mDense\u001b[0m)          │ (\u001b[38;5;45mNone\u001b[0m, \u001b[38;5;34m16\u001b[0m)             │            \u001b[38;5;34m528\u001b[0m │ dense_9[\u001b[38;5;34m0\u001b[0m][\u001b[38;5;34m0\u001b[0m]          │\n",
              "├───────────────────────────┼────────────────────────┼────────────────┼────────────────────────┤\n",
              "│ concatenate_9             │ (\u001b[38;5;45mNone\u001b[0m, \u001b[38;5;34m48\u001b[0m)             │              \u001b[38;5;34m0\u001b[0m │ multiply_4[\u001b[38;5;34m0\u001b[0m][\u001b[38;5;34m0\u001b[0m],      │\n",
              "│ (\u001b[38;5;33mConcatenate\u001b[0m)             │                        │                │ dense_10[\u001b[38;5;34m0\u001b[0m][\u001b[38;5;34m0\u001b[0m]         │\n",
              "├───────────────────────────┼────────────────────────┼────────────────┼────────────────────────┤\n",
              "│ output (\u001b[38;5;33mDense\u001b[0m)            │ (\u001b[38;5;45mNone\u001b[0m, \u001b[38;5;34m1\u001b[0m)              │             \u001b[38;5;34m49\u001b[0m │ concatenate_9[\u001b[38;5;34m0\u001b[0m][\u001b[38;5;34m0\u001b[0m]    │\n",
              "└───────────────────────────┴────────────────────────┴────────────────┴────────────────────────┘\n"
            ],
            "text/html": [
              "<pre style=\"white-space:pre;overflow-x:auto;line-height:normal;font-family:Menlo,'DejaVu Sans Mono',consolas,'Courier New',monospace\">┏━━━━━━━━━━━━━━━━━━━━━━━━━━━┳━━━━━━━━━━━━━━━━━━━━━━━━┳━━━━━━━━━━━━━━━━┳━━━━━━━━━━━━━━━━━━━━━━━━┓\n",
              "┃<span style=\"font-weight: bold\"> Layer (type)              </span>┃<span style=\"font-weight: bold\"> Output Shape           </span>┃<span style=\"font-weight: bold\">        Param # </span>┃<span style=\"font-weight: bold\"> Connected to           </span>┃\n",
              "┡━━━━━━━━━━━━━━━━━━━━━━━━━━━╇━━━━━━━━━━━━━━━━━━━━━━━━╇━━━━━━━━━━━━━━━━╇━━━━━━━━━━━━━━━━━━━━━━━━┩\n",
              "│ user_input (<span style=\"color: #0087ff; text-decoration-color: #0087ff\">InputLayer</span>)   │ (<span style=\"color: #00d7ff; text-decoration-color: #00d7ff\">None</span>, <span style=\"color: #00af00; text-decoration-color: #00af00\">1</span>)              │              <span style=\"color: #00af00; text-decoration-color: #00af00\">0</span> │ -                      │\n",
              "├───────────────────────────┼────────────────────────┼────────────────┼────────────────────────┤\n",
              "│ movie_input (<span style=\"color: #0087ff; text-decoration-color: #0087ff\">InputLayer</span>)  │ (<span style=\"color: #00d7ff; text-decoration-color: #00d7ff\">None</span>, <span style=\"color: #00af00; text-decoration-color: #00af00\">1</span>)              │              <span style=\"color: #00af00; text-decoration-color: #00af00\">0</span> │ -                      │\n",
              "├───────────────────────────┼────────────────────────┼────────────────┼────────────────────────┤\n",
              "│ user_embedding            │ (<span style=\"color: #00d7ff; text-decoration-color: #00d7ff\">None</span>, <span style=\"color: #00af00; text-decoration-color: #00af00\">1</span>, <span style=\"color: #00af00; text-decoration-color: #00af00\">32</span>)          │         <span style=\"color: #00af00; text-decoration-color: #00af00\">24,768</span> │ user_input[<span style=\"color: #00af00; text-decoration-color: #00af00\">0</span>][<span style=\"color: #00af00; text-decoration-color: #00af00\">0</span>]       │\n",
              "│ (<span style=\"color: #0087ff; text-decoration-color: #0087ff\">Embedding</span>)               │                        │                │                        │\n",
              "├───────────────────────────┼────────────────────────┼────────────────┼────────────────────────┤\n",
              "│ movie_embedding           │ (<span style=\"color: #00d7ff; text-decoration-color: #00d7ff\">None</span>, <span style=\"color: #00af00; text-decoration-color: #00af00\">1</span>, <span style=\"color: #00af00; text-decoration-color: #00af00\">32</span>)          │          <span style=\"color: #00af00; text-decoration-color: #00af00\">6,784</span> │ movie_input[<span style=\"color: #00af00; text-decoration-color: #00af00\">0</span>][<span style=\"color: #00af00; text-decoration-color: #00af00\">0</span>]      │\n",
              "│ (<span style=\"color: #0087ff; text-decoration-color: #0087ff\">Embedding</span>)               │                        │                │                        │\n",
              "├───────────────────────────┼────────────────────────┼────────────────┼────────────────────────┤\n",
              "│ flatten_8 (<span style=\"color: #0087ff; text-decoration-color: #0087ff\">Flatten</span>)       │ (<span style=\"color: #00d7ff; text-decoration-color: #00d7ff\">None</span>, <span style=\"color: #00af00; text-decoration-color: #00af00\">32</span>)             │              <span style=\"color: #00af00; text-decoration-color: #00af00\">0</span> │ user_embedding[<span style=\"color: #00af00; text-decoration-color: #00af00\">0</span>][<span style=\"color: #00af00; text-decoration-color: #00af00\">0</span>]   │\n",
              "├───────────────────────────┼────────────────────────┼────────────────┼────────────────────────┤\n",
              "│ flatten_9 (<span style=\"color: #0087ff; text-decoration-color: #0087ff\">Flatten</span>)       │ (<span style=\"color: #00d7ff; text-decoration-color: #00d7ff\">None</span>, <span style=\"color: #00af00; text-decoration-color: #00af00\">32</span>)             │              <span style=\"color: #00af00; text-decoration-color: #00af00\">0</span> │ movie_embedding[<span style=\"color: #00af00; text-decoration-color: #00af00\">0</span>][<span style=\"color: #00af00; text-decoration-color: #00af00\">0</span>]  │\n",
              "├───────────────────────────┼────────────────────────┼────────────────┼────────────────────────┤\n",
              "│ concatenate_8             │ (<span style=\"color: #00d7ff; text-decoration-color: #00d7ff\">None</span>, <span style=\"color: #00af00; text-decoration-color: #00af00\">64</span>)             │              <span style=\"color: #00af00; text-decoration-color: #00af00\">0</span> │ flatten_8[<span style=\"color: #00af00; text-decoration-color: #00af00\">0</span>][<span style=\"color: #00af00; text-decoration-color: #00af00\">0</span>],       │\n",
              "│ (<span style=\"color: #0087ff; text-decoration-color: #0087ff\">Concatenate</span>)             │                        │                │ flatten_9[<span style=\"color: #00af00; text-decoration-color: #00af00\">0</span>][<span style=\"color: #00af00; text-decoration-color: #00af00\">0</span>]        │\n",
              "├───────────────────────────┼────────────────────────┼────────────────┼────────────────────────┤\n",
              "│ dense_8 (<span style=\"color: #0087ff; text-decoration-color: #0087ff\">Dense</span>)           │ (<span style=\"color: #00d7ff; text-decoration-color: #00d7ff\">None</span>, <span style=\"color: #00af00; text-decoration-color: #00af00\">64</span>)             │          <span style=\"color: #00af00; text-decoration-color: #00af00\">4,160</span> │ concatenate_8[<span style=\"color: #00af00; text-decoration-color: #00af00\">0</span>][<span style=\"color: #00af00; text-decoration-color: #00af00\">0</span>]    │\n",
              "├───────────────────────────┼────────────────────────┼────────────────┼────────────────────────┤\n",
              "│ dense_9 (<span style=\"color: #0087ff; text-decoration-color: #0087ff\">Dense</span>)           │ (<span style=\"color: #00d7ff; text-decoration-color: #00d7ff\">None</span>, <span style=\"color: #00af00; text-decoration-color: #00af00\">32</span>)             │          <span style=\"color: #00af00; text-decoration-color: #00af00\">2,080</span> │ dense_8[<span style=\"color: #00af00; text-decoration-color: #00af00\">0</span>][<span style=\"color: #00af00; text-decoration-color: #00af00\">0</span>]          │\n",
              "├───────────────────────────┼────────────────────────┼────────────────┼────────────────────────┤\n",
              "│ multiply_4 (<span style=\"color: #0087ff; text-decoration-color: #0087ff\">Multiply</span>)     │ (<span style=\"color: #00d7ff; text-decoration-color: #00d7ff\">None</span>, <span style=\"color: #00af00; text-decoration-color: #00af00\">32</span>)             │              <span style=\"color: #00af00; text-decoration-color: #00af00\">0</span> │ flatten_8[<span style=\"color: #00af00; text-decoration-color: #00af00\">0</span>][<span style=\"color: #00af00; text-decoration-color: #00af00\">0</span>],       │\n",
              "│                           │                        │                │ flatten_9[<span style=\"color: #00af00; text-decoration-color: #00af00\">0</span>][<span style=\"color: #00af00; text-decoration-color: #00af00\">0</span>]        │\n",
              "├───────────────────────────┼────────────────────────┼────────────────┼────────────────────────┤\n",
              "│ dense_10 (<span style=\"color: #0087ff; text-decoration-color: #0087ff\">Dense</span>)          │ (<span style=\"color: #00d7ff; text-decoration-color: #00d7ff\">None</span>, <span style=\"color: #00af00; text-decoration-color: #00af00\">16</span>)             │            <span style=\"color: #00af00; text-decoration-color: #00af00\">528</span> │ dense_9[<span style=\"color: #00af00; text-decoration-color: #00af00\">0</span>][<span style=\"color: #00af00; text-decoration-color: #00af00\">0</span>]          │\n",
              "├───────────────────────────┼────────────────────────┼────────────────┼────────────────────────┤\n",
              "│ concatenate_9             │ (<span style=\"color: #00d7ff; text-decoration-color: #00d7ff\">None</span>, <span style=\"color: #00af00; text-decoration-color: #00af00\">48</span>)             │              <span style=\"color: #00af00; text-decoration-color: #00af00\">0</span> │ multiply_4[<span style=\"color: #00af00; text-decoration-color: #00af00\">0</span>][<span style=\"color: #00af00; text-decoration-color: #00af00\">0</span>],      │\n",
              "│ (<span style=\"color: #0087ff; text-decoration-color: #0087ff\">Concatenate</span>)             │                        │                │ dense_10[<span style=\"color: #00af00; text-decoration-color: #00af00\">0</span>][<span style=\"color: #00af00; text-decoration-color: #00af00\">0</span>]         │\n",
              "├───────────────────────────┼────────────────────────┼────────────────┼────────────────────────┤\n",
              "│ output (<span style=\"color: #0087ff; text-decoration-color: #0087ff\">Dense</span>)            │ (<span style=\"color: #00d7ff; text-decoration-color: #00d7ff\">None</span>, <span style=\"color: #00af00; text-decoration-color: #00af00\">1</span>)              │             <span style=\"color: #00af00; text-decoration-color: #00af00\">49</span> │ concatenate_9[<span style=\"color: #00af00; text-decoration-color: #00af00\">0</span>][<span style=\"color: #00af00; text-decoration-color: #00af00\">0</span>]    │\n",
              "└───────────────────────────┴────────────────────────┴────────────────┴────────────────────────┘\n",
              "</pre>\n"
            ]
          },
          "metadata": {}
        },
        {
          "output_type": "display_data",
          "data": {
            "text/plain": [
              "\u001b[1m Total params: \u001b[0m\u001b[38;5;34m38,369\u001b[0m (149.88 KB)\n"
            ],
            "text/html": [
              "<pre style=\"white-space:pre;overflow-x:auto;line-height:normal;font-family:Menlo,'DejaVu Sans Mono',consolas,'Courier New',monospace\"><span style=\"font-weight: bold\"> Total params: </span><span style=\"color: #00af00; text-decoration-color: #00af00\">38,369</span> (149.88 KB)\n",
              "</pre>\n"
            ]
          },
          "metadata": {}
        },
        {
          "output_type": "display_data",
          "data": {
            "text/plain": [
              "\u001b[1m Trainable params: \u001b[0m\u001b[38;5;34m38,369\u001b[0m (149.88 KB)\n"
            ],
            "text/html": [
              "<pre style=\"white-space:pre;overflow-x:auto;line-height:normal;font-family:Menlo,'DejaVu Sans Mono',consolas,'Courier New',monospace\"><span style=\"font-weight: bold\"> Trainable params: </span><span style=\"color: #00af00; text-decoration-color: #00af00\">38,369</span> (149.88 KB)\n",
              "</pre>\n"
            ]
          },
          "metadata": {}
        },
        {
          "output_type": "display_data",
          "data": {
            "text/plain": [
              "\u001b[1m Non-trainable params: \u001b[0m\u001b[38;5;34m0\u001b[0m (0.00 B)\n"
            ],
            "text/html": [
              "<pre style=\"white-space:pre;overflow-x:auto;line-height:normal;font-family:Menlo,'DejaVu Sans Mono',consolas,'Courier New',monospace\"><span style=\"font-weight: bold\"> Non-trainable params: </span><span style=\"color: #00af00; text-decoration-color: #00af00\">0</span> (0.00 B)\n",
              "</pre>\n"
            ]
          },
          "metadata": {}
        }
      ]
    },
    {
      "cell_type": "markdown",
      "source": [
        "Compiling the model"
      ],
      "metadata": {
        "id": "hTI0HPjKpe64"
      }
    },
    {
      "cell_type": "code",
      "source": [
        "# Compile the model\n",
        "model.compile(optimizer='adam', loss='binary_crossentropy', metrics=['mae'])\n",
        "\n",
        "# Prepare TensorFlow datasets\n",
        "train_dataset = tf.data.Dataset.from_tensor_slices(((train_users, train_movies), train_ratings))\n",
        "val_dataset = tf.data.Dataset.from_tensor_slices(((val_users, val_movies), val_ratings))\n",
        "\n",
        "# Batch and shuffle the datasets\n",
        "train_dataset = train_dataset.batch(64).shuffle(10000)\n",
        "val_dataset = val_dataset.batch(64)\n",
        "\n",
        "# Train the model\n",
        "history = model.fit(train_dataset, validation_data=val_dataset, epochs=10)"
      ],
      "metadata": {
        "colab": {
          "base_uri": "https://localhost:8080/"
        },
        "id": "xEt-Fxzipc0P",
        "outputId": "64ed1e37-f586-4bc8-a244-6805ea8f327b"
      },
      "execution_count": 107,
      "outputs": [
        {
          "output_type": "stream",
          "name": "stdout",
          "text": [
            "Epoch 1/10\n",
            "\u001b[1m1125/1125\u001b[0m \u001b[32m━━━━━━━━━━━━━━━━━━━━\u001b[0m\u001b[37m\u001b[0m \u001b[1m7s\u001b[0m 3ms/step - loss: 0.5979 - mae: 0.1500 - val_loss: 0.5809 - val_mae: 0.1291\n",
            "Epoch 2/10\n",
            "\u001b[1m1125/1125\u001b[0m \u001b[32m━━━━━━━━━━━━━━━━━━━━\u001b[0m\u001b[37m\u001b[0m \u001b[1m3s\u001b[0m 3ms/step - loss: 0.5741 - mae: 0.1263 - val_loss: 0.5785 - val_mae: 0.1267\n",
            "Epoch 3/10\n",
            "\u001b[1m1125/1125\u001b[0m \u001b[32m━━━━━━━━━━━━━━━━━━━━\u001b[0m\u001b[37m\u001b[0m \u001b[1m4s\u001b[0m 3ms/step - loss: 0.5714 - mae: 0.1237 - val_loss: 0.5764 - val_mae: 0.1258\n",
            "Epoch 4/10\n",
            "\u001b[1m1125/1125\u001b[0m \u001b[32m━━━━━━━━━━━━━━━━━━━━\u001b[0m\u001b[37m\u001b[0m \u001b[1m6s\u001b[0m 4ms/step - loss: 0.5703 - mae: 0.1216 - val_loss: 0.5763 - val_mae: 0.1238\n",
            "Epoch 5/10\n",
            "\u001b[1m1125/1125\u001b[0m \u001b[32m━━━━━━━━━━━━━━━━━━━━\u001b[0m\u001b[37m\u001b[0m \u001b[1m3s\u001b[0m 3ms/step - loss: 0.5678 - mae: 0.1190 - val_loss: 0.5753 - val_mae: 0.1241\n",
            "Epoch 6/10\n",
            "\u001b[1m1125/1125\u001b[0m \u001b[32m━━━━━━━━━━━━━━━━━━━━\u001b[0m\u001b[37m\u001b[0m \u001b[1m5s\u001b[0m 3ms/step - loss: 0.5639 - mae: 0.1173 - val_loss: 0.5746 - val_mae: 0.1231\n",
            "Epoch 7/10\n",
            "\u001b[1m1125/1125\u001b[0m \u001b[32m━━━━━━━━━━━━━━━━━━━━\u001b[0m\u001b[37m\u001b[0m \u001b[1m6s\u001b[0m 3ms/step - loss: 0.5630 - mae: 0.1141 - val_loss: 0.5743 - val_mae: 0.1223\n",
            "Epoch 8/10\n",
            "\u001b[1m1125/1125\u001b[0m \u001b[32m━━━━━━━━━━━━━━━━━━━━\u001b[0m\u001b[37m\u001b[0m \u001b[1m4s\u001b[0m 3ms/step - loss: 0.5613 - mae: 0.1124 - val_loss: 0.5746 - val_mae: 0.1225\n",
            "Epoch 9/10\n",
            "\u001b[1m1125/1125\u001b[0m \u001b[32m━━━━━━━━━━━━━━━━━━━━\u001b[0m\u001b[37m\u001b[0m \u001b[1m3s\u001b[0m 3ms/step - loss: 0.5583 - mae: 0.1101 - val_loss: 0.5751 - val_mae: 0.1248\n",
            "Epoch 10/10\n",
            "\u001b[1m1125/1125\u001b[0m \u001b[32m━━━━━━━━━━━━━━━━━━━━\u001b[0m\u001b[37m\u001b[0m \u001b[1m4s\u001b[0m 4ms/step - loss: 0.5547 - mae: 0.1082 - val_loss: 0.5754 - val_mae: 0.1239\n"
          ]
        }
      ]
    },
    {
      "cell_type": "code",
      "source": [
        "# Prepare test dataset\n",
        "test_dataset = tf.data.Dataset.from_tensor_slices(((test_users, test_movies), test_ratings))\n",
        "test_dataset = test_dataset.batch(64)\n",
        "\n",
        "# Evaluate the model\n",
        "test_loss, test_mae = model.evaluate(test_dataset)\n",
        "print(f\"Test Loss: {test_loss}, Test MAE: {test_mae}\")"
      ],
      "metadata": {
        "colab": {
          "base_uri": "https://localhost:8080/"
        },
        "id": "OiS3VPyMpjEM",
        "outputId": "905bde5f-e6df-4901-9e58-be248b4ad4a7"
      },
      "execution_count": 108,
      "outputs": [
        {
          "output_type": "stream",
          "name": "stdout",
          "text": [
            "\u001b[1m313/313\u001b[0m \u001b[32m━━━━━━━━━━━━━━━━━━━━\u001b[0m\u001b[37m\u001b[0m \u001b[1m1s\u001b[0m 2ms/step - loss: 0.5719 - mae: 0.1243\n",
            "Test Loss: 0.5710552930831909, Test MAE: 0.1238349974155426\n"
          ]
        }
      ]
    },
    {
      "cell_type": "markdown",
      "source": [
        "Hyper Parameter Tuning"
      ],
      "metadata": {
        "id": "FBr4Mg4Bpktf"
      }
    },
    {
      "cell_type": "code",
      "source": [
        "pip install keras-tuner"
      ],
      "metadata": {
        "colab": {
          "base_uri": "https://localhost:8080/"
        },
        "id": "BoMgOVU4pmuN",
        "outputId": "f170300b-23d2-461a-9154-8df3e72426ee"
      },
      "execution_count": 109,
      "outputs": [
        {
          "output_type": "stream",
          "name": "stdout",
          "text": [
            "Requirement already satisfied: keras-tuner in /usr/local/lib/python3.11/dist-packages (1.4.7)\n",
            "Requirement already satisfied: keras in /usr/local/lib/python3.11/dist-packages (from keras-tuner) (3.8.0)\n",
            "Requirement already satisfied: packaging in /usr/local/lib/python3.11/dist-packages (from keras-tuner) (24.2)\n",
            "Requirement already satisfied: requests in /usr/local/lib/python3.11/dist-packages (from keras-tuner) (2.32.3)\n",
            "Requirement already satisfied: kt-legacy in /usr/local/lib/python3.11/dist-packages (from keras-tuner) (1.0.5)\n",
            "Requirement already satisfied: absl-py in /usr/local/lib/python3.11/dist-packages (from keras->keras-tuner) (1.4.0)\n",
            "Requirement already satisfied: numpy in /usr/local/lib/python3.11/dist-packages (from keras->keras-tuner) (1.26.4)\n",
            "Requirement already satisfied: rich in /usr/local/lib/python3.11/dist-packages (from keras->keras-tuner) (13.9.4)\n",
            "Requirement already satisfied: namex in /usr/local/lib/python3.11/dist-packages (from keras->keras-tuner) (0.0.8)\n",
            "Requirement already satisfied: h5py in /usr/local/lib/python3.11/dist-packages (from keras->keras-tuner) (3.12.1)\n",
            "Requirement already satisfied: optree in /usr/local/lib/python3.11/dist-packages (from keras->keras-tuner) (0.14.1)\n",
            "Requirement already satisfied: ml-dtypes in /usr/local/lib/python3.11/dist-packages (from keras->keras-tuner) (0.4.1)\n",
            "Requirement already satisfied: charset-normalizer<4,>=2 in /usr/local/lib/python3.11/dist-packages (from requests->keras-tuner) (3.4.1)\n",
            "Requirement already satisfied: idna<4,>=2.5 in /usr/local/lib/python3.11/dist-packages (from requests->keras-tuner) (3.10)\n",
            "Requirement already satisfied: urllib3<3,>=1.21.1 in /usr/local/lib/python3.11/dist-packages (from requests->keras-tuner) (2.3.0)\n",
            "Requirement already satisfied: certifi>=2017.4.17 in /usr/local/lib/python3.11/dist-packages (from requests->keras-tuner) (2025.1.31)\n",
            "Requirement already satisfied: typing-extensions>=4.5.0 in /usr/local/lib/python3.11/dist-packages (from optree->keras->keras-tuner) (4.12.2)\n",
            "Requirement already satisfied: markdown-it-py>=2.2.0 in /usr/local/lib/python3.11/dist-packages (from rich->keras->keras-tuner) (3.0.0)\n",
            "Requirement already satisfied: pygments<3.0.0,>=2.13.0 in /usr/local/lib/python3.11/dist-packages (from rich->keras->keras-tuner) (2.18.0)\n",
            "Requirement already satisfied: mdurl~=0.1 in /usr/local/lib/python3.11/dist-packages (from markdown-it-py>=2.2.0->rich->keras->keras-tuner) (0.1.2)\n"
          ]
        }
      ]
    },
    {
      "cell_type": "code",
      "source": [
        "import tensorflow as tf\n",
        "from tensorflow.keras.layers import Input, Embedding, Multiply, Concatenate, Dense, Flatten, Dropout\n",
        "from tensorflow.keras.models import Model\n",
        "import keras_tuner as kt\n",
        "\n",
        "def build_tunable_model(hp):\n",
        "    # Tunable hyperparameters\n",
        "    embedding_size = hp.Int('embedding_size', min_value=16, max_value=128, step=16)\n",
        "    mlp_layers = hp.Int('mlp_layers', min_value=1, max_value=3)\n",
        "    layer_size = hp.Int('layer_size', min_value=32, max_value=128, step=32)\n",
        "    dropout_rate = hp.Float('dropout_rate', min_value=0.1, max_value=0.5, step=0.1)\n",
        "    learning_rate = hp.Choice('learning_rate', values=[1e-2, 1e-3, 1e-4])\n",
        "\n",
        "    # Input layers\n",
        "    user_input = Input(shape=(1,), dtype='int32', name='user_input')\n",
        "    movie_input = Input(shape=(1,), dtype='int32', name='movie_input')\n",
        "\n",
        "    # Embedding layers\n",
        "    user_embedding = Embedding(input_dim=num_users, output_dim=embedding_size, name='user_embedding')(user_input)\n",
        "    movie_embedding = Embedding(input_dim=num_movies, output_dim=embedding_size, name='movie_embedding')(movie_input)\n",
        "\n",
        "    # Flatten embeddings\n",
        "    user_embedding = Flatten()(user_embedding)\n",
        "    movie_embedding = Flatten()(movie_embedding)\n",
        "\n",
        "    # GMF path\n",
        "    gmf = Multiply()([user_embedding, movie_embedding])\n",
        "\n",
        "    # MLP path\n",
        "    mlp_input = Concatenate()([user_embedding, movie_embedding])\n",
        "    mlp_output = Dense(layer_size, activation='relu')(mlp_input)\n",
        "    mlp_output = Dropout(dropout_rate)(mlp_output)\n",
        "    for _ in range(mlp_layers - 1):\n",
        "        mlp_output = Dense(layer_size, activation='relu')(mlp_output)\n",
        "        mlp_output = Dropout(dropout_rate)(mlp_output)\n",
        "\n",
        "    # Concatenate GMF and MLP\n",
        "    combined = Concatenate()([gmf, mlp_output])\n",
        "\n",
        "    # Output layer\n",
        "    output = Dense(1, activation='sigmoid', name='output')(combined)\n",
        "\n",
        "    # Define the model\n",
        "    model = Model(inputs=[user_input, movie_input], outputs=output)\n",
        "\n",
        "    # Compile the model\n",
        "    model.compile(\n",
        "        optimizer=tf.keras.optimizers.Adam(learning_rate=learning_rate),\n",
        "        loss='binary_crossentropy',\n",
        "        metrics=['mae']\n",
        "    )\n",
        "    return model"
      ],
      "metadata": {
        "id": "-1huGljmpqAM"
      },
      "execution_count": 110,
      "outputs": []
    },
    {
      "cell_type": "code",
      "source": [
        "# Define the tuner\n",
        "tuner = kt.RandomSearch(\n",
        "    build_tunable_model,\n",
        "    objective='val_mae',\n",
        "    max_trials=10,\n",
        "    executions_per_trial=1,\n",
        "    directory='ncf_tuning',\n",
        "    project_name='ncf'\n",
        ")\n",
        "\n",
        "# Perform hyperparameter search\n",
        "tuner.search(\n",
        "    train_dataset,\n",
        "    validation_data=val_dataset,\n",
        "    epochs=10,\n",
        "    callbacks=[tf.keras.callbacks.EarlyStopping(monitor='val_loss', patience=3)]\n",
        ")\n",
        "\n",
        "# Get the best hyperparameters\n",
        "best_hps = tuner.get_best_hyperparameters(num_trials=1)[0]\n",
        "print(f\"\"\"\n",
        "Best hyperparameters:\n",
        "- Embedding size: {best_hps.get('embedding_size')}\n",
        "- MLP layers: {best_hps.get('mlp_layers')}\n",
        "- Layer size: {best_hps.get('layer_size')}\n",
        "- Dropout rate: {best_hps.get('dropout_rate')}\n",
        "- Learning rate: {best_hps.get('learning_rate')}\n",
        "\"\"\")"
      ],
      "metadata": {
        "colab": {
          "base_uri": "https://localhost:8080/"
        },
        "id": "kVrnmayTpraC",
        "outputId": "2b043535-cf3d-4d86-a164-76542bc4572a"
      },
      "execution_count": 111,
      "outputs": [
        {
          "output_type": "stream",
          "name": "stdout",
          "text": [
            "Reloading Tuner from ncf_tuning/ncf/tuner0.json\n",
            "\n",
            "Best hyperparameters:\n",
            "- Embedding size: 32\n",
            "- MLP layers: 1\n",
            "- Layer size: 128\n",
            "- Dropout rate: 0.2\n",
            "- Learning rate: 0.001\n",
            "\n"
          ]
        }
      ]
    },
    {
      "cell_type": "markdown",
      "source": [
        "Conducting Regularization using Best Parameters"
      ],
      "metadata": {
        "id": "XI10ECpupuMT"
      }
    },
    {
      "cell_type": "code",
      "source": [
        "from tensorflow.keras.regularizers import l2\n",
        "\n",
        "def build_regularized_model(embedding_size, mlp_layers, layer_size, dropout_rate, learning_rate, l2_lambda=0.01):\n",
        "    # Input layers\n",
        "    user_input = Input(shape=(1,), dtype='int32', name='user_input')\n",
        "    movie_input = Input(shape=(1,), dtype='int32', name='movie_input')\n",
        "\n",
        "    # Embedding layers with L2 regularization\n",
        "    user_embedding = Embedding(\n",
        "        input_dim=num_users,\n",
        "        output_dim=embedding_size,\n",
        "        embeddings_regularizer=l2(l2_lambda),\n",
        "        name='user_embedding'\n",
        "    )(user_input)\n",
        "    movie_embedding = Embedding(\n",
        "        input_dim=num_movies,\n",
        "        output_dim=embedding_size,\n",
        "        embeddings_regularizer=l2(l2_lambda),\n",
        "        name='movie_embedding'\n",
        "    )(movie_input)\n",
        "\n",
        "    # Flatten embeddings\n",
        "    user_embedding = Flatten()(user_embedding)\n",
        "    movie_embedding = Flatten()(movie_embedding)\n",
        "\n",
        "    # GMF path\n",
        "    gmf = Multiply()([user_embedding, movie_embedding])\n",
        "\n",
        "    # MLP path with L2 regularization\n",
        "    mlp_input = Concatenate()([user_embedding, movie_embedding])\n",
        "    mlp_output = Dense(layer_size, activation='relu', kernel_regularizer=l2(l2_lambda))(mlp_input)\n",
        "    mlp_output = Dropout(dropout_rate)(mlp_output)\n",
        "    for _ in range(mlp_layers - 1):\n",
        "        mlp_output = Dense(layer_size, activation='relu', kernel_regularizer=l2(l2_lambda))(mlp_output)\n",
        "        mlp_output = Dropout(dropout_rate)(mlp_output)\n",
        "\n",
        "    # Concatenate GMF and MLP\n",
        "    combined = Concatenate()([gmf, mlp_output])\n",
        "\n",
        "    # Output layer\n",
        "    output = Dense(1, activation='sigmoid', name='output')(combined)\n",
        "\n",
        "    # Define the model\n",
        "    model = Model(inputs=[user_input, movie_input], outputs=output)\n",
        "\n",
        "    # Compile the model\n",
        "    model.compile(\n",
        "        optimizer=tf.keras.optimizers.Adam(learning_rate=learning_rate),\n",
        "        loss='binary_crossentropy',\n",
        "        metrics=['mae']\n",
        "    )\n",
        "    return model"
      ],
      "metadata": {
        "id": "SpVoYo6zptwa"
      },
      "execution_count": 112,
      "outputs": []
    },
    {
      "cell_type": "code",
      "source": [
        "# Build the model with the best hyperparameters\n",
        "model = build_regularized_model(\n",
        "    embedding_size=best_hps.get('embedding_size'),\n",
        "    mlp_layers=best_hps.get('mlp_layers'),\n",
        "    layer_size=best_hps.get('layer_size'),\n",
        "    dropout_rate=best_hps.get('dropout_rate'),\n",
        "    learning_rate=best_hps.get('learning_rate'),\n",
        "    l2_lambda=0.01\n",
        ")\n",
        "\n",
        "# Train the model\n",
        "history = model.fit(\n",
        "    train_dataset,\n",
        "    validation_data=val_dataset,\n",
        "    epochs=50,\n",
        "    callbacks=[tf.keras.callbacks.EarlyStopping(monitor='val_loss', patience=5)]\n",
        ")"
      ],
      "metadata": {
        "colab": {
          "base_uri": "https://localhost:8080/"
        },
        "id": "VmEp8sd4p2da",
        "outputId": "72683dd5-3f83-4ebb-e0c8-8319212a4bc3"
      },
      "execution_count": 113,
      "outputs": [
        {
          "output_type": "stream",
          "name": "stdout",
          "text": [
            "Epoch 1/50\n",
            "\u001b[1m1125/1125\u001b[0m \u001b[32m━━━━━━━━━━━━━━━━━━━━\u001b[0m\u001b[37m\u001b[0m \u001b[1m13s\u001b[0m 8ms/step - loss: 0.7845 - mae: 0.1750 - val_loss: 0.6126 - val_mae: 0.1641\n",
            "Epoch 2/50\n",
            "\u001b[1m1125/1125\u001b[0m \u001b[32m━━━━━━━━━━━━━━━━━━━━\u001b[0m\u001b[37m\u001b[0m \u001b[1m9s\u001b[0m 7ms/step - loss: 0.6111 - mae: 0.1622 - val_loss: 0.6126 - val_mae: 0.1642\n",
            "Epoch 3/50\n",
            "\u001b[1m1125/1125\u001b[0m \u001b[32m━━━━━━━━━━━━━━━━━━━━\u001b[0m\u001b[37m\u001b[0m \u001b[1m10s\u001b[0m 7ms/step - loss: 0.6108 - mae: 0.1628 - val_loss: 0.6126 - val_mae: 0.1627\n",
            "Epoch 4/50\n",
            "\u001b[1m1125/1125\u001b[0m \u001b[32m━━━━━━━━━━━━━━━━━━━━\u001b[0m\u001b[37m\u001b[0m \u001b[1m10s\u001b[0m 7ms/step - loss: 0.6107 - mae: 0.1632 - val_loss: 0.6126 - val_mae: 0.1633\n",
            "Epoch 5/50\n",
            "\u001b[1m1125/1125\u001b[0m \u001b[32m━━━━━━━━━━━━━━━━━━━━\u001b[0m\u001b[37m\u001b[0m \u001b[1m4s\u001b[0m 3ms/step - loss: 0.6096 - mae: 0.1631 - val_loss: 0.6128 - val_mae: 0.1649\n",
            "Epoch 6/50\n",
            "\u001b[1m1125/1125\u001b[0m \u001b[32m━━━━━━━━━━━━━━━━━━━━\u001b[0m\u001b[37m\u001b[0m \u001b[1m3s\u001b[0m 3ms/step - loss: 0.6109 - mae: 0.1625 - val_loss: 0.6131 - val_mae: 0.1634\n",
            "Epoch 7/50\n",
            "\u001b[1m1125/1125\u001b[0m \u001b[32m━━━━━━━━━━━━━━━━━━━━\u001b[0m\u001b[37m\u001b[0m \u001b[1m5s\u001b[0m 4ms/step - loss: 0.6113 - mae: 0.1636 - val_loss: 0.6126 - val_mae: 0.1628\n",
            "Epoch 8/50\n",
            "\u001b[1m1125/1125\u001b[0m \u001b[32m━━━━━━━━━━━━━━━━━━━━\u001b[0m\u001b[37m\u001b[0m \u001b[1m3s\u001b[0m 3ms/step - loss: 0.6097 - mae: 0.1620 - val_loss: 0.6126 - val_mae: 0.1633\n",
            "Epoch 9/50\n",
            "\u001b[1m1125/1125\u001b[0m \u001b[32m━━━━━━━━━━━━━━━━━━━━\u001b[0m\u001b[37m\u001b[0m \u001b[1m3s\u001b[0m 3ms/step - loss: 0.6106 - mae: 0.1632 - val_loss: 0.6127 - val_mae: 0.1630\n",
            "Epoch 10/50\n",
            "\u001b[1m1125/1125\u001b[0m \u001b[32m━━━━━━━━━━━━━━━━━━━━\u001b[0m\u001b[37m\u001b[0m \u001b[1m3s\u001b[0m 3ms/step - loss: 0.6116 - mae: 0.1627 - val_loss: 0.6127 - val_mae: 0.1630\n",
            "Epoch 11/50\n",
            "\u001b[1m1125/1125\u001b[0m \u001b[32m━━━━━━━━━━━━━━━━━━━━\u001b[0m\u001b[37m\u001b[0m \u001b[1m6s\u001b[0m 3ms/step - loss: 0.6108 - mae: 0.1627 - val_loss: 0.6126 - val_mae: 0.1629\n",
            "Epoch 12/50\n",
            "\u001b[1m1125/1125\u001b[0m \u001b[32m━━━━━━━━━━━━━━━━━━━━\u001b[0m\u001b[37m\u001b[0m \u001b[1m3s\u001b[0m 3ms/step - loss: 0.6103 - mae: 0.1627 - val_loss: 0.6127 - val_mae: 0.1630\n",
            "Epoch 13/50\n",
            "\u001b[1m1125/1125\u001b[0m \u001b[32m━━━━━━━━━━━━━━━━━━━━\u001b[0m\u001b[37m\u001b[0m \u001b[1m6s\u001b[0m 3ms/step - loss: 0.6098 - mae: 0.1628 - val_loss: 0.6126 - val_mae: 0.1629\n",
            "Epoch 14/50\n",
            "\u001b[1m1125/1125\u001b[0m \u001b[32m━━━━━━━━━━━━━━━━━━━━\u001b[0m\u001b[37m\u001b[0m \u001b[1m4s\u001b[0m 3ms/step - loss: 0.6110 - mae: 0.1628 - val_loss: 0.6126 - val_mae: 0.1628\n",
            "Epoch 15/50\n",
            "\u001b[1m1125/1125\u001b[0m \u001b[32m━━━━━━━━━━━━━━━━━━━━\u001b[0m\u001b[37m\u001b[0m \u001b[1m4s\u001b[0m 3ms/step - loss: 0.6115 - mae: 0.1626 - val_loss: 0.6126 - val_mae: 0.1627\n",
            "Epoch 16/50\n",
            "\u001b[1m1125/1125\u001b[0m \u001b[32m━━━━━━━━━━━━━━━━━━━━\u001b[0m\u001b[37m\u001b[0m \u001b[1m3s\u001b[0m 3ms/step - loss: 0.6104 - mae: 0.1620 - val_loss: 0.6126 - val_mae: 0.1637\n",
            "Epoch 17/50\n",
            "\u001b[1m1125/1125\u001b[0m \u001b[32m━━━━━━━━━━━━━━━━━━━━\u001b[0m\u001b[37m\u001b[0m \u001b[1m5s\u001b[0m 4ms/step - loss: 0.6099 - mae: 0.1629 - val_loss: 0.6128 - val_mae: 0.1632\n",
            "Epoch 18/50\n",
            "\u001b[1m1125/1125\u001b[0m \u001b[32m━━━━━━━━━━━━━━━━━━━━\u001b[0m\u001b[37m\u001b[0m \u001b[1m4s\u001b[0m 3ms/step - loss: 0.6101 - mae: 0.1623 - val_loss: 0.6126 - val_mae: 0.1627\n"
          ]
        }
      ]
    },
    {
      "cell_type": "code",
      "source": [
        "# Prepare test dataset\n",
        "test_dataset = tf.data.Dataset.from_tensor_slices(((test_users, test_movies), test_ratings))\n",
        "test_dataset = test_dataset.batch(64)\n",
        "\n",
        "# Evaluate the model\n",
        "test_loss, test_mae = model.evaluate(test_dataset)\n",
        "print(f\"Test Loss: {test_loss}, Test MAE: {test_mae}\")"
      ],
      "metadata": {
        "colab": {
          "base_uri": "https://localhost:8080/"
        },
        "id": "4ZXJotXyp3bi",
        "outputId": "3b004bda-e25a-4151-87e7-90b044eda9cf"
      },
      "execution_count": 114,
      "outputs": [
        {
          "output_type": "stream",
          "name": "stdout",
          "text": [
            "\u001b[1m313/313\u001b[0m \u001b[32m━━━━━━━━━━━━━━━━━━━━\u001b[0m\u001b[37m\u001b[0m \u001b[1m1s\u001b[0m 3ms/step - loss: 0.6118 - mae: 0.1637\n",
            "Test Loss: 0.6097362637519836, Test MAE: 0.1626116931438446\n"
          ]
        }
      ]
    },
    {
      "cell_type": "markdown",
      "source": [
        "Handling Imbalanced Data"
      ],
      "metadata": {
        "id": "6HRukwQcp5MI"
      }
    },
    {
      "cell_type": "code",
      "source": [
        "# Replace 0 with median for budget and revenue\n",
        "movieData['budget'] = movieData['budget'].replace(0, movieData['budget'].median())\n",
        "movieData['revenue'] = movieData['revenue'].replace(0, movieData['revenue'].median())"
      ],
      "metadata": {
        "id": "8c4wAhCQp4k-"
      },
      "execution_count": 115,
      "outputs": []
    },
    {
      "cell_type": "code",
      "source": [
        "import numpy as np\n",
        "# Apply log transformation to skewed columns\n",
        "movieData['budget'] = np.log1p(movieData['budget'])\n",
        "movieData['revenue'] = np.log1p(movieData['revenue'])\n",
        "movieData['popularity'] = np.log1p(movieData['popularity'])"
      ],
      "metadata": {
        "id": "w4F2FTTPqnD8"
      },
      "execution_count": 116,
      "outputs": []
    },
    {
      "cell_type": "code",
      "source": [
        "from sklearn.preprocessing import StandardScaler\n",
        "\n",
        "# Select metadata columns\n",
        "metadata_columns = ['budget', 'popularity', 'revenue', 'runtime', 'vote_average', 'vote_count']\n",
        "\n",
        "# Normalize metadata\n",
        "scaler = StandardScaler()\n",
        "movieData[metadata_columns] = scaler.fit_transform(movieData[metadata_columns])"
      ],
      "metadata": {
        "id": "QHeydRatqrg-"
      },
      "execution_count": 117,
      "outputs": []
    },
    {
      "cell_type": "code",
      "source": [
        "class RMSE(tf.keras.metrics.Metric):\n",
        "    def __init__(self, name='rmse', **kwargs):\n",
        "        super(RMSE, self).__init__(name=name, **kwargs)\n",
        "        self.mse = tf.keras.metrics.MeanSquaredError()\n",
        "\n",
        "    def update_state(self, y_true, y_pred, sample_weight=None):\n",
        "        self.mse.update_state(y_true, y_pred, sample_weight)\n",
        "\n",
        "    def result(self):\n",
        "        return tf.sqrt(self.mse.result())\n",
        "\n",
        "    def reset_states(self):\n",
        "        self.mse.reset_states()"
      ],
      "metadata": {
        "id": "TIlrXYsiqsUE"
      },
      "execution_count": 118,
      "outputs": []
    },
    {
      "cell_type": "code",
      "source": [
        "from tensorflow.keras.layers import Input, Embedding, Multiply, Concatenate, Dense, Flatten, Dropout\n",
        "from tensorflow.keras.models import Model\n",
        "\n",
        "def build_hybrid_model(num_users, num_movies, embedding_size, mlp_layers, num_metadata_features):\n",
        "    # Input layers\n",
        "    user_input = Input(shape=(1,), dtype='int32', name='user_input')\n",
        "    movie_input = Input(shape=(1,), dtype='int32', name='movie_input')\n",
        "    metadata_input = Input(shape=(num_metadata_features,), dtype='float32', name='metadata_input')\n",
        "\n",
        "    # Embedding layers\n",
        "    user_embedding = Embedding(input_dim=num_users, output_dim=embedding_size, name='user_embedding')(user_input)\n",
        "    movie_embedding = Embedding(input_dim=num_movies, output_dim=embedding_size, name='movie_embedding')(movie_input)\n",
        "\n",
        "    # Flatten embeddings\n",
        "    user_embedding = Flatten()(user_embedding)\n",
        "    movie_embedding = Flatten()(movie_embedding)\n",
        "\n",
        "    # GMF path\n",
        "    gmf = Multiply()([user_embedding, movie_embedding])\n",
        "\n",
        "    # MLP path\n",
        "    mlp_input = Concatenate()([user_embedding, movie_embedding, metadata_input])\n",
        "    mlp_output = Dense(mlp_layers[0], activation='relu')(mlp_input)\n",
        "    mlp_output = Dropout(0.2)(mlp_output)\n",
        "    for layer_size in mlp_layers[1:]:\n",
        "        mlp_output = Dense(layer_size, activation='relu')(mlp_output)\n",
        "        mlp_output = Dropout(0.2)(mlp_output)\n",
        "\n",
        "    # Concatenate GMF and MLP\n",
        "    combined = Concatenate()([gmf, mlp_output])\n",
        "\n",
        "    # Output layer\n",
        "    output = Dense(1, activation='linear', name='output')(combined)\n",
        "\n",
        "    # Define the model\n",
        "    model = Model(inputs=[user_input, movie_input, metadata_input], outputs=output)\n",
        "    return model"
      ],
      "metadata": {
        "id": "XhMvuZz5qxKP"
      },
      "execution_count": 119,
      "outputs": []
    },
    {
      "cell_type": "code",
      "source": [
        "from sklearn.model_selection import train_test_split\n",
        "\n",
        "# Split the data into train, validation, and test sets\n",
        "train_data, test_data = train_test_split(movieData, test_size=0.2, random_state=42)\n",
        "train_data, val_data = train_test_split(train_data, test_size=0.1, random_state=42)\n",
        "\n",
        "# Extract user IDs, movie IDs, metadata, and ratings\n",
        "train_users = train_data['userId'].values\n",
        "train_movies = train_data['movieId'].values\n",
        "train_metadata = train_data[metadata_columns].values\n",
        "train_ratings = train_data['rating'].values\n",
        "\n",
        "val_users = val_data['userId'].values\n",
        "val_movies = val_data['movieId'].values\n",
        "val_metadata = val_data[metadata_columns].values\n",
        "val_ratings = val_data['rating'].values\n",
        "\n",
        "test_users = test_data['userId'].values\n",
        "test_movies = test_data['movieId'].values\n",
        "test_metadata = test_data[metadata_columns].values\n",
        "test_ratings = test_data['rating'].values"
      ],
      "metadata": {
        "id": "7kcJ6uVBqyZ1"
      },
      "execution_count": 120,
      "outputs": []
    },
    {
      "cell_type": "code",
      "source": [
        "from sklearn.metrics import mean_squared_error\n",
        "# Build the hybrid model\n",
        "num_users = movieData['userId'].nunique()\n",
        "num_movies = movieData['movieId'].nunique()\n",
        "embedding_size = 32\n",
        "mlp_layers = [64, 32]\n",
        "num_metadata_features = len(metadata_columns)\n",
        "\n",
        "model = build_hybrid_model(num_users, num_movies, embedding_size, mlp_layers, num_metadata_features)\n",
        "\n",
        "# Compile the model\n",
        "model.compile(\n",
        "    optimizer='adam',\n",
        "    loss='mean_squared_error',\n",
        "    metrics=[RMSE()]\n",
        ")\n",
        "\n",
        "# Prepare TensorFlow datasets\n",
        "train_dataset = tf.data.Dataset.from_tensor_slices(((train_users, train_movies, train_metadata), train_ratings))\n",
        "val_dataset = tf.data.Dataset.from_tensor_slices(((val_users, val_movies, val_metadata), val_ratings))\n",
        "\n",
        "# Batch and shuffle the datasets\n",
        "train_dataset = train_dataset.batch(64).shuffle(10000)\n",
        "val_dataset = val_dataset.batch(64)\n",
        "\n",
        "# Train the model\n",
        "history = model.fit(\n",
        "    train_dataset,\n",
        "    validation_data=val_dataset,\n",
        "    epochs=50\n",
        ")"
      ],
      "metadata": {
        "colab": {
          "base_uri": "https://localhost:8080/"
        },
        "id": "dL3j4Ronq1HU",
        "outputId": "52fc4123-77e3-42a4-a9a1-bfbd5f152727"
      },
      "execution_count": 121,
      "outputs": [
        {
          "output_type": "stream",
          "name": "stdout",
          "text": [
            "Epoch 1/50\n",
            "\u001b[1m1125/1125\u001b[0m \u001b[32m━━━━━━━━━━━━━━━━━━━━\u001b[0m\u001b[37m\u001b[0m \u001b[1m13s\u001b[0m 8ms/step - loss: 0.0794 - rmse: 0.2727 - val_loss: 0.0295 - val_rmse: 0.1718\n",
            "Epoch 2/50\n",
            "\u001b[1m1125/1125\u001b[0m \u001b[32m━━━━━━━━━━━━━━━━━━━━\u001b[0m\u001b[37m\u001b[0m \u001b[1m8s\u001b[0m 6ms/step - loss: 0.0325 - rmse: 0.1802 - val_loss: 0.0287 - val_rmse: 0.1695\n",
            "Epoch 3/50\n",
            "\u001b[1m1125/1125\u001b[0m \u001b[32m━━━━━━━━━━━━━━━━━━━━\u001b[0m\u001b[37m\u001b[0m \u001b[1m15s\u001b[0m 10ms/step - loss: 0.0284 - rmse: 0.1686 - val_loss: 0.0276 - val_rmse: 0.1660\n",
            "Epoch 4/50\n",
            "\u001b[1m1125/1125\u001b[0m \u001b[32m━━━━━━━━━━━━━━━━━━━━\u001b[0m\u001b[37m\u001b[0m \u001b[1m10s\u001b[0m 8ms/step - loss: 0.0261 - rmse: 0.1616 - val_loss: 0.0269 - val_rmse: 0.1639\n",
            "Epoch 5/50\n",
            "\u001b[1m1125/1125\u001b[0m \u001b[32m━━━━━━━━━━━━━━━━━━━━\u001b[0m\u001b[37m\u001b[0m \u001b[1m5s\u001b[0m 4ms/step - loss: 0.0231 - rmse: 0.1521 - val_loss: 0.0267 - val_rmse: 0.1634\n",
            "Epoch 6/50\n",
            "\u001b[1m1125/1125\u001b[0m \u001b[32m━━━━━━━━━━━━━━━━━━━━\u001b[0m\u001b[37m\u001b[0m \u001b[1m5s\u001b[0m 4ms/step - loss: 0.0206 - rmse: 0.1434 - val_loss: 0.0268 - val_rmse: 0.1637\n",
            "Epoch 7/50\n",
            "\u001b[1m1125/1125\u001b[0m \u001b[32m━━━━━━━━━━━━━━━━━━━━\u001b[0m\u001b[37m\u001b[0m \u001b[1m3s\u001b[0m 3ms/step - loss: 0.0179 - rmse: 0.1338 - val_loss: 0.0278 - val_rmse: 0.1668\n",
            "Epoch 8/50\n",
            "\u001b[1m1125/1125\u001b[0m \u001b[32m━━━━━━━━━━━━━━━━━━━━\u001b[0m\u001b[37m\u001b[0m \u001b[1m5s\u001b[0m 3ms/step - loss: 0.0161 - rmse: 0.1267 - val_loss: 0.0288 - val_rmse: 0.1696\n",
            "Epoch 9/50\n",
            "\u001b[1m1125/1125\u001b[0m \u001b[32m━━━━━━━━━━━━━━━━━━━━\u001b[0m\u001b[37m\u001b[0m \u001b[1m6s\u001b[0m 3ms/step - loss: 0.0145 - rmse: 0.1203 - val_loss: 0.0297 - val_rmse: 0.1723\n",
            "Epoch 10/50\n",
            "\u001b[1m1125/1125\u001b[0m \u001b[32m━━━━━━━━━━━━━━━━━━━━\u001b[0m\u001b[37m\u001b[0m \u001b[1m3s\u001b[0m 3ms/step - loss: 0.0137 - rmse: 0.1168 - val_loss: 0.0306 - val_rmse: 0.1751\n",
            "Epoch 11/50\n",
            "\u001b[1m1125/1125\u001b[0m \u001b[32m━━━━━━━━━━━━━━━━━━━━\u001b[0m\u001b[37m\u001b[0m \u001b[1m3s\u001b[0m 3ms/step - loss: 0.0127 - rmse: 0.1129 - val_loss: 0.0315 - val_rmse: 0.1775\n",
            "Epoch 12/50\n",
            "\u001b[1m1125/1125\u001b[0m \u001b[32m━━━━━━━━━━━━━━━━━━━━\u001b[0m\u001b[37m\u001b[0m \u001b[1m4s\u001b[0m 3ms/step - loss: 0.0124 - rmse: 0.1111 - val_loss: 0.0323 - val_rmse: 0.1798\n",
            "Epoch 13/50\n",
            "\u001b[1m1125/1125\u001b[0m \u001b[32m━━━━━━━━━━━━━━━━━━━━\u001b[0m\u001b[37m\u001b[0m \u001b[1m4s\u001b[0m 3ms/step - loss: 0.0119 - rmse: 0.1089 - val_loss: 0.0330 - val_rmse: 0.1817\n",
            "Epoch 14/50\n",
            "\u001b[1m1125/1125\u001b[0m \u001b[32m━━━━━━━━━━━━━━━━━━━━\u001b[0m\u001b[37m\u001b[0m \u001b[1m3s\u001b[0m 2ms/step - loss: 0.0115 - rmse: 0.1071 - val_loss: 0.0338 - val_rmse: 0.1838\n",
            "Epoch 15/50\n",
            "\u001b[1m1125/1125\u001b[0m \u001b[32m━━━━━━━━━━━━━━━━━━━━\u001b[0m\u001b[37m\u001b[0m \u001b[1m3s\u001b[0m 3ms/step - loss: 0.0113 - rmse: 0.1060 - val_loss: 0.0342 - val_rmse: 0.1850\n",
            "Epoch 16/50\n",
            "\u001b[1m1125/1125\u001b[0m \u001b[32m━━━━━━━━━━━━━━━━━━━━\u001b[0m\u001b[37m\u001b[0m \u001b[1m4s\u001b[0m 3ms/step - loss: 0.0109 - rmse: 0.1046 - val_loss: 0.0350 - val_rmse: 0.1870\n",
            "Epoch 17/50\n",
            "\u001b[1m1125/1125\u001b[0m \u001b[32m━━━━━━━━━━━━━━━━━━━━\u001b[0m\u001b[37m\u001b[0m \u001b[1m4s\u001b[0m 3ms/step - loss: 0.0109 - rmse: 0.1043 - val_loss: 0.0352 - val_rmse: 0.1877\n",
            "Epoch 18/50\n",
            "\u001b[1m1125/1125\u001b[0m \u001b[32m━━━━━━━━━━━━━━━━━━━━\u001b[0m\u001b[37m\u001b[0m \u001b[1m3s\u001b[0m 3ms/step - loss: 0.0107 - rmse: 0.1033 - val_loss: 0.0357 - val_rmse: 0.1890\n",
            "Epoch 19/50\n",
            "\u001b[1m1125/1125\u001b[0m \u001b[32m━━━━━━━━━━━━━━━━━━━━\u001b[0m\u001b[37m\u001b[0m \u001b[1m6s\u001b[0m 3ms/step - loss: 0.0105 - rmse: 0.1025 - val_loss: 0.0362 - val_rmse: 0.1903\n",
            "Epoch 20/50\n",
            "\u001b[1m1125/1125\u001b[0m \u001b[32m━━━━━━━━━━━━━━━━━━━━\u001b[0m\u001b[37m\u001b[0m \u001b[1m5s\u001b[0m 3ms/step - loss: 0.0104 - rmse: 0.1017 - val_loss: 0.0365 - val_rmse: 0.1911\n",
            "Epoch 21/50\n",
            "\u001b[1m1125/1125\u001b[0m \u001b[32m━━━━━━━━━━━━━━━━━━━━\u001b[0m\u001b[37m\u001b[0m \u001b[1m5s\u001b[0m 3ms/step - loss: 0.0103 - rmse: 0.1015 - val_loss: 0.0369 - val_rmse: 0.1920\n",
            "Epoch 22/50\n",
            "\u001b[1m1125/1125\u001b[0m \u001b[32m━━━━━━━━━━━━━━━━━━━━\u001b[0m\u001b[37m\u001b[0m \u001b[1m4s\u001b[0m 3ms/step - loss: 0.0102 - rmse: 0.1012 - val_loss: 0.0373 - val_rmse: 0.1932\n",
            "Epoch 23/50\n",
            "\u001b[1m1125/1125\u001b[0m \u001b[32m━━━━━━━━━━━━━━━━━━━━\u001b[0m\u001b[37m\u001b[0m \u001b[1m5s\u001b[0m 3ms/step - loss: 0.0100 - rmse: 0.1000 - val_loss: 0.0376 - val_rmse: 0.1940\n",
            "Epoch 24/50\n",
            "\u001b[1m1125/1125\u001b[0m \u001b[32m━━━━━━━━━━━━━━━━━━━━\u001b[0m\u001b[37m\u001b[0m \u001b[1m4s\u001b[0m 3ms/step - loss: 0.0098 - rmse: 0.0992 - val_loss: 0.0380 - val_rmse: 0.1949\n",
            "Epoch 25/50\n",
            "\u001b[1m1125/1125\u001b[0m \u001b[32m━━━━━━━━━━━━━━━━━━━━\u001b[0m\u001b[37m\u001b[0m \u001b[1m4s\u001b[0m 3ms/step - loss: 0.0098 - rmse: 0.0991 - val_loss: 0.0381 - val_rmse: 0.1953\n",
            "Epoch 26/50\n",
            "\u001b[1m1125/1125\u001b[0m \u001b[32m━━━━━━━━━━━━━━━━━━━━\u001b[0m\u001b[37m\u001b[0m \u001b[1m4s\u001b[0m 3ms/step - loss: 0.0098 - rmse: 0.0992 - val_loss: 0.0385 - val_rmse: 0.1962\n",
            "Epoch 27/50\n",
            "\u001b[1m1125/1125\u001b[0m \u001b[32m━━━━━━━━━━━━━━━━━━━━\u001b[0m\u001b[37m\u001b[0m \u001b[1m3s\u001b[0m 3ms/step - loss: 0.0098 - rmse: 0.0990 - val_loss: 0.0387 - val_rmse: 0.1968\n",
            "Epoch 28/50\n",
            "\u001b[1m1125/1125\u001b[0m \u001b[32m━━━━━━━━━━━━━━━━━━━━\u001b[0m\u001b[37m\u001b[0m \u001b[1m3s\u001b[0m 3ms/step - loss: 0.0097 - rmse: 0.0983 - val_loss: 0.0388 - val_rmse: 0.1971\n",
            "Epoch 29/50\n",
            "\u001b[1m1125/1125\u001b[0m \u001b[32m━━━━━━━━━━━━━━━━━━━━\u001b[0m\u001b[37m\u001b[0m \u001b[1m5s\u001b[0m 4ms/step - loss: 0.0096 - rmse: 0.0981 - val_loss: 0.0393 - val_rmse: 0.1983\n",
            "Epoch 30/50\n",
            "\u001b[1m1125/1125\u001b[0m \u001b[32m━━━━━━━━━━━━━━━━━━━━\u001b[0m\u001b[37m\u001b[0m \u001b[1m4s\u001b[0m 3ms/step - loss: 0.0096 - rmse: 0.0977 - val_loss: 0.0399 - val_rmse: 0.1997\n",
            "Epoch 31/50\n",
            "\u001b[1m1125/1125\u001b[0m \u001b[32m━━━━━━━━━━━━━━━━━━━━\u001b[0m\u001b[37m\u001b[0m \u001b[1m3s\u001b[0m 3ms/step - loss: 0.0095 - rmse: 0.0974 - val_loss: 0.0398 - val_rmse: 0.1996\n",
            "Epoch 32/50\n",
            "\u001b[1m1125/1125\u001b[0m \u001b[32m━━━━━━━━━━━━━━━━━━━━\u001b[0m\u001b[37m\u001b[0m \u001b[1m3s\u001b[0m 3ms/step - loss: 0.0095 - rmse: 0.0973 - val_loss: 0.0400 - val_rmse: 0.2000\n",
            "Epoch 33/50\n",
            "\u001b[1m1125/1125\u001b[0m \u001b[32m━━━━━━━━━━━━━━━━━━━━\u001b[0m\u001b[37m\u001b[0m \u001b[1m5s\u001b[0m 3ms/step - loss: 0.0094 - rmse: 0.0971 - val_loss: 0.0401 - val_rmse: 0.2003\n",
            "Epoch 34/50\n",
            "\u001b[1m1125/1125\u001b[0m \u001b[32m━━━━━━━━━━━━━━━━━━━━\u001b[0m\u001b[37m\u001b[0m \u001b[1m5s\u001b[0m 3ms/step - loss: 0.0094 - rmse: 0.0970 - val_loss: 0.0405 - val_rmse: 0.2012\n",
            "Epoch 35/50\n",
            "\u001b[1m1125/1125\u001b[0m \u001b[32m━━━━━━━━━━━━━━━━━━━━\u001b[0m\u001b[37m\u001b[0m \u001b[1m4s\u001b[0m 3ms/step - loss: 0.0093 - rmse: 0.0964 - val_loss: 0.0407 - val_rmse: 0.2017\n",
            "Epoch 36/50\n",
            "\u001b[1m1125/1125\u001b[0m \u001b[32m━━━━━━━━━━━━━━━━━━━━\u001b[0m\u001b[37m\u001b[0m \u001b[1m5s\u001b[0m 3ms/step - loss: 0.0092 - rmse: 0.0959 - val_loss: 0.0409 - val_rmse: 0.2022\n",
            "Epoch 37/50\n",
            "\u001b[1m1125/1125\u001b[0m \u001b[32m━━━━━━━━━━━━━━━━━━━━\u001b[0m\u001b[37m\u001b[0m \u001b[1m5s\u001b[0m 3ms/step - loss: 0.0093 - rmse: 0.0963 - val_loss: 0.0409 - val_rmse: 0.2021\n",
            "Epoch 38/50\n",
            "\u001b[1m1125/1125\u001b[0m \u001b[32m━━━━━━━━━━━━━━━━━━━━\u001b[0m\u001b[37m\u001b[0m \u001b[1m4s\u001b[0m 3ms/step - loss: 0.0091 - rmse: 0.0956 - val_loss: 0.0410 - val_rmse: 0.2026\n",
            "Epoch 39/50\n",
            "\u001b[1m1125/1125\u001b[0m \u001b[32m━━━━━━━━━━━━━━━━━━━━\u001b[0m\u001b[37m\u001b[0m \u001b[1m4s\u001b[0m 3ms/step - loss: 0.0091 - rmse: 0.0955 - val_loss: 0.0413 - val_rmse: 0.2033\n",
            "Epoch 40/50\n",
            "\u001b[1m1125/1125\u001b[0m \u001b[32m━━━━━━━━━━━━━━━━━━━━\u001b[0m\u001b[37m\u001b[0m \u001b[1m5s\u001b[0m 3ms/step - loss: 0.0091 - rmse: 0.0956 - val_loss: 0.0412 - val_rmse: 0.2030\n",
            "Epoch 41/50\n",
            "\u001b[1m1125/1125\u001b[0m \u001b[32m━━━━━━━━━━━━━━━━━━━━\u001b[0m\u001b[37m\u001b[0m \u001b[1m7s\u001b[0m 4ms/step - loss: 0.0091 - rmse: 0.0953 - val_loss: 0.0415 - val_rmse: 0.2038\n",
            "Epoch 42/50\n",
            "\u001b[1m1125/1125\u001b[0m \u001b[32m━━━━━━━━━━━━━━━━━━━━\u001b[0m\u001b[37m\u001b[0m \u001b[1m4s\u001b[0m 3ms/step - loss: 0.0090 - rmse: 0.0947 - val_loss: 0.0418 - val_rmse: 0.2044\n",
            "Epoch 43/50\n",
            "\u001b[1m1125/1125\u001b[0m \u001b[32m━━━━━━━━━━━━━━━━━━━━\u001b[0m\u001b[37m\u001b[0m \u001b[1m4s\u001b[0m 3ms/step - loss: 0.0090 - rmse: 0.0946 - val_loss: 0.0419 - val_rmse: 0.2048\n",
            "Epoch 44/50\n",
            "\u001b[1m1125/1125\u001b[0m \u001b[32m━━━━━━━━━━━━━━━━━━━━\u001b[0m\u001b[37m\u001b[0m \u001b[1m6s\u001b[0m 4ms/step - loss: 0.0090 - rmse: 0.0946 - val_loss: 0.0421 - val_rmse: 0.2051\n",
            "Epoch 45/50\n",
            "\u001b[1m1125/1125\u001b[0m \u001b[32m━━━━━━━━━━━━━━━━━━━━\u001b[0m\u001b[37m\u001b[0m \u001b[1m3s\u001b[0m 3ms/step - loss: 0.0090 - rmse: 0.0949 - val_loss: 0.0419 - val_rmse: 0.2048\n",
            "Epoch 46/50\n",
            "\u001b[1m1125/1125\u001b[0m \u001b[32m━━━━━━━━━━━━━━━━━━━━\u001b[0m\u001b[37m\u001b[0m \u001b[1m5s\u001b[0m 3ms/step - loss: 0.0089 - rmse: 0.0944 - val_loss: 0.0421 - val_rmse: 0.2053\n",
            "Epoch 47/50\n",
            "\u001b[1m1125/1125\u001b[0m \u001b[32m━━━━━━━━━━━━━━━━━━━━\u001b[0m\u001b[37m\u001b[0m \u001b[1m5s\u001b[0m 4ms/step - loss: 0.0089 - rmse: 0.0941 - val_loss: 0.0422 - val_rmse: 0.2055\n",
            "Epoch 48/50\n",
            "\u001b[1m1125/1125\u001b[0m \u001b[32m━━━━━━━━━━━━━━━━━━━━\u001b[0m\u001b[37m\u001b[0m \u001b[1m3s\u001b[0m 3ms/step - loss: 0.0089 - rmse: 0.0941 - val_loss: 0.0425 - val_rmse: 0.2061\n",
            "Epoch 49/50\n",
            "\u001b[1m1125/1125\u001b[0m \u001b[32m━━━━━━━━━━━━━━━━━━━━\u001b[0m\u001b[37m\u001b[0m \u001b[1m3s\u001b[0m 3ms/step - loss: 0.0088 - rmse: 0.0940 - val_loss: 0.0426 - val_rmse: 0.2065\n",
            "Epoch 50/50\n",
            "\u001b[1m1125/1125\u001b[0m \u001b[32m━━━━━━━━━━━━━━━━━━━━\u001b[0m\u001b[37m\u001b[0m \u001b[1m3s\u001b[0m 3ms/step - loss: 0.0088 - rmse: 0.0936 - val_loss: 0.0429 - val_rmse: 0.2072\n"
          ]
        }
      ]
    },
    {
      "cell_type": "markdown",
      "source": [
        "Implementing Early stopping and Decreasing Model Complexity (Trying to reduce Overfitting)\n",
        "Using same Parameters"
      ],
      "metadata": {
        "id": "6tFpYjKRq52l"
      }
    },
    {
      "cell_type": "code",
      "source": [
        "from tensorflow.keras.regularizers import l2\n",
        "from tensorflow.keras.layers import Input, Embedding, Multiply, Concatenate, Dense, Flatten, Dropout\n",
        "\n",
        "def build_hybrid_model(num_users, num_movies, embedding_size, mlp_layers, num_metadata_features):\n",
        "    # Input layers\n",
        "    user_input = Input(shape=(1,), dtype='int32', name='user_input')\n",
        "    movie_input = Input(shape=(1,), dtype='int32', name='movie_input')\n",
        "    metadata_input = Input(shape=(num_metadata_features,), dtype='float32', name='metadata_input')\n",
        "\n",
        "    # Embedding layers with L2 regularization\n",
        "    user_embedding = Embedding(\n",
        "        input_dim=num_users,\n",
        "        output_dim=embedding_size,\n",
        "        embeddings_regularizer=l2(0.01),\n",
        "        name='user_embedding'\n",
        "    )(user_input)\n",
        "    movie_embedding = Embedding(\n",
        "        input_dim=num_movies,\n",
        "        output_dim=embedding_size,\n",
        "        embeddings_regularizer=l2(0.01),\n",
        "        name='movie_embedding'\n",
        "    )(movie_input)\n",
        "\n",
        "    # Flatten embeddings\n",
        "    user_embedding = Flatten()(user_embedding)\n",
        "    movie_embedding = Flatten()(movie_embedding)\n",
        "\n",
        "    # GMF path\n",
        "    gmf = Multiply()([user_embedding, movie_embedding])\n",
        "\n",
        "    # MLP path with L2 regularization and dropout\n",
        "    mlp_input = Concatenate()([user_embedding, movie_embedding, metadata_input])\n",
        "    mlp_output = Dense(mlp_layers[0], activation='relu', kernel_regularizer=l2(0.01))(mlp_input)\n",
        "    mlp_output = Dropout(0.3)(mlp_output)\n",
        "    for layer_size in mlp_layers[1:]:\n",
        "        mlp_output = Dense(layer_size, activation='relu', kernel_regularizer=l2(0.01))(mlp_output)\n",
        "        mlp_output = Dropout(0.3)(mlp_output)\n",
        "\n",
        "    # Concatenate GMF and MLP\n",
        "    combined = Concatenate()([gmf, mlp_output])\n",
        "\n",
        "    # Output layer\n",
        "    output = Dense(1, activation='linear', name='output')(combined)\n",
        "\n",
        "    # Define the model\n",
        "    model = Model(inputs=[user_input, movie_input, metadata_input], outputs=output)\n",
        "    return model"
      ],
      "metadata": {
        "id": "6h0GvzJLq9fA"
      },
      "execution_count": 122,
      "outputs": []
    },
    {
      "cell_type": "code",
      "source": [
        "# Build the hybrid model\n",
        "num_users = movieData['userId'].nunique()\n",
        "num_movies = movieData['movieId'].nunique()\n",
        "embedding_size = 32\n",
        "mlp_layers = [64, 32]\n",
        "num_metadata_features = len(metadata_columns)\n",
        "\n",
        "model = build_hybrid_model(num_users, num_movies, embedding_size, mlp_layers, num_metadata_features)\n",
        "\n",
        "# Compile the model\n",
        "model.compile(\n",
        "    optimizer='adam',\n",
        "    loss='mean_squared_error',\n",
        "    metrics=[RMSE()]\n",
        ")"
      ],
      "metadata": {
        "id": "RdBzm1IjrA2r"
      },
      "execution_count": 123,
      "outputs": []
    },
    {
      "cell_type": "code",
      "source": [
        "from tensorflow.keras.callbacks import EarlyStopping\n",
        "\n",
        "# Define early stopping\n",
        "early_stopping = EarlyStopping(\n",
        "    monitor='val_rmse',\n",
        "    mode='min',\n",
        "    patience=5,\n",
        "    restore_best_weights=True\n",
        ")\n",
        "\n",
        "# Train the model with early stopping\n",
        "history = model.fit(\n",
        "    train_dataset,\n",
        "    validation_data=val_dataset,\n",
        "    epochs=50,\n",
        "    callbacks=[early_stopping]\n",
        ")"
      ],
      "metadata": {
        "colab": {
          "base_uri": "https://localhost:8080/"
        },
        "id": "61I4Hj_2rENP",
        "outputId": "a63d6558-61c0-4507-8b08-158756cb2fa0"
      },
      "execution_count": 124,
      "outputs": [
        {
          "output_type": "stream",
          "name": "stdout",
          "text": [
            "Epoch 1/50\n",
            "\u001b[1m1125/1125\u001b[0m \u001b[32m━━━━━━━━━━━━━━━━━━━━\u001b[0m\u001b[37m\u001b[0m \u001b[1m6s\u001b[0m 3ms/step - loss: 0.4182 - rmse: 0.3069 - val_loss: 0.0419 - val_rmse: 0.2035\n",
            "Epoch 2/50\n",
            "\u001b[1m1125/1125\u001b[0m \u001b[32m━━━━━━━━━━━━━━━━━━━━\u001b[0m\u001b[37m\u001b[0m \u001b[1m3s\u001b[0m 3ms/step - loss: 0.0459 - rmse: 0.2134 - val_loss: 0.0422 - val_rmse: 0.2046\n",
            "Epoch 3/50\n",
            "\u001b[1m1125/1125\u001b[0m \u001b[32m━━━━━━━━━━━━━━━━━━━━\u001b[0m\u001b[37m\u001b[0m \u001b[1m4s\u001b[0m 4ms/step - loss: 0.0427 - rmse: 0.2060 - val_loss: 0.0417 - val_rmse: 0.2037\n",
            "Epoch 4/50\n",
            "\u001b[1m1125/1125\u001b[0m \u001b[32m━━━━━━━━━━━━━━━━━━━━\u001b[0m\u001b[37m\u001b[0m \u001b[1m4s\u001b[0m 3ms/step - loss: 0.0418 - rmse: 0.2040 - val_loss: 0.0417 - val_rmse: 0.2038\n",
            "Epoch 5/50\n",
            "\u001b[1m1125/1125\u001b[0m \u001b[32m━━━━━━━━━━━━━━━━━━━━\u001b[0m\u001b[37m\u001b[0m \u001b[1m3s\u001b[0m 3ms/step - loss: 0.0414 - rmse: 0.2032 - val_loss: 0.0417 - val_rmse: 0.2040\n",
            "Epoch 6/50\n",
            "\u001b[1m1125/1125\u001b[0m \u001b[32m━━━━━━━━━━━━━━━━━━━━\u001b[0m\u001b[37m\u001b[0m \u001b[1m3s\u001b[0m 3ms/step - loss: 0.0417 - rmse: 0.2039 - val_loss: 0.0417 - val_rmse: 0.2041\n"
          ]
        }
      ]
    },
    {
      "cell_type": "code",
      "source": [
        "import matplotlib.pyplot as plt\n",
        "\n",
        "# Plot training and validation loss\n",
        "plt.plot(history.history['loss'], label='Training Loss')\n",
        "plt.plot(history.history['val_loss'], label='Validation Loss')\n",
        "plt.title('Training and Validation Loss')\n",
        "plt.xlabel('Epochs')\n",
        "plt.ylabel('Loss')\n",
        "plt.legend()\n",
        "plt.show()"
      ],
      "metadata": {
        "colab": {
          "base_uri": "https://localhost:8080/",
          "height": 0
        },
        "id": "HOl3T4OorFNy",
        "outputId": "1c212bbc-e78d-4730-ddbf-93ca57a57849"
      },
      "execution_count": 125,
      "outputs": [
        {
          "output_type": "display_data",
          "data": {
            "text/plain": [
              "<Figure size 640x480 with 1 Axes>"
            ],
            "image/png": "[encoded data removed]"
          },
          "metadata": {}
        }
      ]
    },
    {
      "cell_type": "markdown",
      "source": [
        "Generating Recommendations"
      ],
      "metadata": {
        "id": "84Z4YLyjrGny"
      }
    },
    {
      "cell_type": "code",
      "source": [
        "def generate_recommendations(user_id, model, data, metadata_columns, top_n=10):\n",
        "    # Get the list of all movie IDs\n",
        "    all_movie_ids = data['movieId'].unique()\n",
        "\n",
        "    # Get the list of movie IDs that the user has already rated\n",
        "    rated_movie_ids = data[data['userId'] == user_id]['movieId'].unique()\n",
        "\n",
        "    # Get the list of movie IDs that the user hasn't rated yet\n",
        "    unrated_movie_ids = np.setdiff1d(all_movie_ids, rated_movie_ids)\n",
        "\n",
        "    # Prepare the metadata for the unrated movies\n",
        "    # Drop duplicates to ensure one row per movie\n",
        "    unrated_movie_metadata = (\n",
        "        data[data['movieId'].isin(unrated_movie_ids)]\n",
        "        .drop_duplicates(subset=['movieId'])[metadata_columns]\n",
        "        .values\n",
        "    )\n",
        "\n",
        "    # Prepare the input data for the model\n",
        "    user_ids = np.array([user_id] * len(unrated_movie_ids))\n",
        "    movie_ids = unrated_movie_ids\n",
        "\n",
        "    # Predict the ratings\n",
        "    predicted_ratings = model.predict([user_ids, movie_ids, unrated_movie_metadata])\n",
        "\n",
        "    # Combine the movie IDs with their predicted ratings\n",
        "    movie_ratings = list(zip(unrated_movie_ids, predicted_ratings.flatten()))\n",
        "\n",
        "    # Sort the movies by predicted rating in descending order\n",
        "    sorted_movie_ratings = sorted(movie_ratings, key=lambda x: x[1], reverse=True)\n",
        "\n",
        "    # Get the top-N recommendations\n",
        "    top_n_recommendations = sorted_movie_ratings[:top_n]\n",
        "\n",
        "    # Print the top-N recommendations\n",
        "    print(f\"Top-{top_n} Recommendations for User {user_id}:\")\n",
        "    for movie_id, rating in top_n_recommendations:\n",
        "        movie_title = data[data['movieId'] == movie_id]['original_title'].values[0]\n",
        "        print(f\"Movie: {movie_title}, Predicted Rating: {rating:.4f}\")\n",
        "\n",
        "# Example usage\n",
        "user_id = 0 # User_id as needed\n",
        "generate_recommendations(user_id, model, movieData, metadata_columns, top_n=10)"
      ],
      "metadata": {
        "id": "c7x_6_k-rI1t",
        "outputId": "a9548f29-107b-4e19-ed98-313069046be8",
        "colab": {
          "base_uri": "https://localhost:8080/"
        }
      },
      "execution_count": 126,
      "outputs": [
        {
          "output_type": "stream",
          "name": "stdout",
          "text": [
            "\u001b[1m4/4\u001b[0m \u001b[32m━━━━━━━━━━━━━━━━━━━━\u001b[0m\u001b[37m\u001b[0m \u001b[1m0s\u001b[0m 51ms/step\n",
            "Top-10 Recommendations for User 0:\n",
            "Movie: Boogie Nights, Predicted Rating: 0.7126\n",
            "Movie: Sweet Sixteen, Predicted Rating: 0.7047\n",
            "Movie: And Then There Were None, Predicted Rating: 0.7017\n",
            "Movie: Wag the Dog, Predicted Rating: 0.7010\n",
            "Movie: A Bridge Too Far, Predicted Rating: 0.6981\n",
            "Movie: Sister Act, Predicted Rating: 0.6969\n",
            "Movie: Jack & Sarah, Predicted Rating: 0.6962\n",
            "Movie: Cat on a Hot Tin Roof, Predicted Rating: 0.6956\n",
            "Movie: 88 Minutes, Predicted Rating: 0.6949\n",
            "Movie: Ghost Dog: The Way of the Samurai, Predicted Rating: 0.6948\n"
          ]
        }
      ]
    },
    {
      "cell_type": "code",
      "source": [
        "# Extract test data\n",
        "test_users = test_data['userId'].values\n",
        "test_movies = test_data['movieId'].values\n",
        "test_metadata = test_data[metadata_columns].values\n",
        "test_ratings = test_data['rating'].values\n",
        "\n",
        "# Prepare the test dataset\n",
        "test_dataset = tf.data.Dataset.from_tensor_slices(((test_users, test_movies, test_metadata), test_ratings))\n",
        "test_dataset = test_dataset.batch(64)"
      ],
      "metadata": {
        "id": "tl2CVRBOrLre"
      },
      "execution_count": 127,
      "outputs": []
    },
    {
      "cell_type": "code",
      "source": [
        "from sklearn.metrics import mean_squared_error, mean_absolute_error, precision_score, recall_score, roc_auc_score, ndcg_score\n",
        "import numpy as np\n",
        "\n",
        "def binarize_predictions(predicted_ratings, user_mean_rating):\n",
        "    \"\"\"\n",
        "    Binarize predicted ratings using a threshold (e.g., user's mean rating).\n",
        "    \"\"\"\n",
        "    return (predicted_ratings > user_mean_rating).astype(int)\n",
        "\n",
        "def compute_metrics(y_true, y_pred, user_mean_rating):\n",
        "    \"\"\"\n",
        "    Compute RMSE, MAE, Precision, Recall, ROC-AUC, and NDCG.\n",
        "    \"\"\"\n",
        "    # Regression metrics\n",
        "    rmse = np.sqrt(mean_squared_error(y_true, y_pred))\n",
        "    mae = mean_absolute_error(y_true, y_pred)\n",
        "\n",
        "    # Binarize predictions for classification metrics\n",
        "    y_pred_binary = binarize_predictions(y_pred, user_mean_rating)\n",
        "    y_true_binary = binarize_predictions(y_true, user_mean_rating)\n",
        "\n",
        "    # Classification metrics\n",
        "    precision = precision_score(y_true_binary, y_pred_binary)\n",
        "    recall = recall_score(y_true_binary, y_pred_binary)\n",
        "    roc_auc = roc_auc_score(y_true_binary, y_pred)\n",
        "\n",
        "    # Ranking metric (NDCG)\n",
        "    ndcg = ndcg_score([y_true], [y_pred], k=10)\n",
        "\n",
        "    return {\n",
        "        'RMSE': rmse,\n",
        "        'MAE': mae,\n",
        "        'Precision': precision,\n",
        "        'Recall': recall,\n",
        "        'ROC-AUC': roc_auc,\n",
        "        'NDCG': ndcg,\n",
        "    }\n",
        "\n",
        "def evaluate_model(model, test_dataset, user_mean_rating):\n",
        "    \"\"\"\n",
        "    Evaluate the model on the test dataset.\n",
        "    \"\"\"\n",
        "    # Extract true ratings and predicted ratings\n",
        "    y_true = []\n",
        "    y_pred = []\n",
        "\n",
        "    for (user_ids, movie_ids, metadata), ratings in test_dataset:\n",
        "        # Predict ratings\n",
        "        predictions = model.predict([user_ids, movie_ids, metadata])\n",
        "        y_true.extend(ratings.numpy())\n",
        "        y_pred.extend(predictions.flatten())\n",
        "\n",
        "    # Convert to numpy arrays\n",
        "    y_true = np.array(y_true)\n",
        "    y_pred = np.array(y_pred)\n",
        "\n",
        "    # Compute metrics\n",
        "    metrics = compute_metrics(y_true, y_pred, user_mean_rating)\n",
        "    return metrics\n",
        "\n",
        "# Compute the mean rating for the test users (used for binarization)\n",
        "user_mean_rating = np.mean(test_data['rating'].values)\n",
        "\n",
        "# Evaluate the hybrid NCF model\n",
        "ncf_metrics = evaluate_model(model, test_dataset, user_mean_rating)\n",
        "\n",
        "# Print the metrics\n",
        "print(\"Hybrid NCF Model Metrics:\")\n",
        "for metric, value in ncf_metrics.items():\n",
        "    print(f\"{metric}: {value:.4f}\")"
      ],
      "metadata": {
        "id": "XwzZ64X9rM7s",
        "outputId": "955c70d5-739f-4ca6-d287-3beab9cf5847",
        "colab": {
          "base_uri": "https://localhost:8080/"
        }
      },
      "execution_count": 128,
      "outputs": [
        {
          "output_type": "stream",
          "name": "stdout",
          "text": [
            "\u001b[1m2/2\u001b[0m \u001b[32m━━━━━━━━━━━━━━━━━━━━\u001b[0m\u001b[37m\u001b[0m \u001b[1m0s\u001b[0m 29ms/step\n",
            "\u001b[1m2/2\u001b[0m \u001b[32m━━━━━━━━━━━━━━━━━━━━\u001b[0m\u001b[37m\u001b[0m \u001b[1m0s\u001b[0m 32ms/step\n",
            "\u001b[1m2/2\u001b[0m \u001b[32m━━━━━━━━━━━━━━━━━━━━\u001b[0m\u001b[37m\u001b[0m \u001b[1m0s\u001b[0m 31ms/step\n",
            "\u001b[1m2/2\u001b[0m \u001b[32m━━━━━━━━━━━━━━━━━━━━\u001b[0m\u001b[37m\u001b[0m \u001b[1m0s\u001b[0m 29ms/step\n",
            "\u001b[1m2/2\u001b[0m \u001b[32m━━━━━━━━━━━━━━━━━━━━\u001b[0m\u001b[37m\u001b[0m \u001b[1m0s\u001b[0m 29ms/step\n",
            "\u001b[1m2/2\u001b[0m \u001b[32m━━━━━━━━━━━━━━━━━━━━\u001b[0m\u001b[37m\u001b[0m \u001b[1m0s\u001b[0m 33ms/step\n",
            "\u001b[1m2/2\u001b[0m \u001b[32m━━━━━━━━━━━━━━━━━━━━\u001b[0m\u001b[37m\u001b[0m \u001b[1m0s\u001b[0m 31ms/step\n",
            "\u001b[1m2/2\u001b[0m \u001b[32m━━━━━━━━━━━━━━━━━━━━\u001b[0m\u001b[37m\u001b[0m \u001b[1m0s\u001b[0m 31ms/step\n",
            "\u001b[1m2/2\u001b[0m \u001b[32m━━━━━━━━━━━━━━━━━━━━\u001b[0m\u001b[37m\u001b[0m \u001b[1m0s\u001b[0m 34ms/step\n",
            "\u001b[1m2/2\u001b[0m \u001b[32m━━━━━━━━━━━━━━━━━━━━\u001b[0m\u001b[37m\u001b[0m \u001b[1m0s\u001b[0m 30ms/step\n",
            "\u001b[1m2/2\u001b[0m \u001b[32m━━━━━━━━━━━━━━━━━━━━\u001b[0m\u001b[37m\u001b[0m \u001b[1m0s\u001b[0m 30ms/step\n",
            "\u001b[1m2/2\u001b[0m \u001b[32m━━━━━━━━━━━━━━━━━━━━\u001b[0m\u001b[37m\u001b[0m \u001b[1m0s\u001b[0m 31ms/step\n",
            "\u001b[1m2/2\u001b[0m \u001b[32m━━━━━━━━━━━━━━━━━━━━\u001b[0m\u001b[37m\u001b[0m \u001b[1m0s\u001b[0m 30ms/step\n",
            "\u001b[1m2/2\u001b[0m \u001b[32m━━━━━━━━━━━━━━━━━━━━\u001b[0m\u001b[37m\u001b[0m \u001b[1m0s\u001b[0m 30ms/step\n",
            "\u001b[1m2/2\u001b[0m \u001b[32m━━━━━━━━━━━━━━━━━━━━\u001b[0m\u001b[37m\u001b[0m \u001b[1m0s\u001b[0m 30ms/step\n",
            "\u001b[1m2/2\u001b[0m \u001b[32m━━━━━━━━━━━━━━━━━━━━\u001b[0m\u001b[37m\u001b[0m \u001b[1m0s\u001b[0m 36ms/step\n",
            "\u001b[1m2/2\u001b[0m \u001b[32m━━━━━━━━━━━━━━━━━━━━\u001b[0m\u001b[37m\u001b[0m \u001b[1m0s\u001b[0m 37ms/step\n",
            "\u001b[1m2/2\u001b[0m \u001b[32m━━━━━━━━━━━━━━━━━━━━\u001b[0m\u001b[37m\u001b[0m \u001b[1m0s\u001b[0m 30ms/step\n",
            "\u001b[1m2/2\u001b[0m \u001b[32m━━━━━━━━━━━━━━━━━━━━\u001b[0m\u001b[37m\u001b[0m \u001b[1m0s\u001b[0m 30ms/step\n",
            "\u001b[1m2/2\u001b[0m \u001b[32m━━━━━━━━━━━━━━━━━━━━\u001b[0m\u001b[37m\u001b[0m \u001b[1m0s\u001b[0m 32ms/step\n",
            "\u001b[1m2/2\u001b[0m \u001b[32m━━━━━━━━━━━━━━━━━━━━\u001b[0m\u001b[37m\u001b[0m \u001b[1m0s\u001b[0m 33ms/step\n",
            "\u001b[1m2/2\u001b[0m \u001b[32m━━━━━━━━━━━━━━━━━━━━\u001b[0m\u001b[37m\u001b[0m \u001b[1m0s\u001b[0m 22ms/step\n",
            "\u001b[1m2/2\u001b[0m \u001b[32m━━━━━━━━━━━━━━━━━━━━\u001b[0m\u001b[37m\u001b[0m \u001b[1m0s\u001b[0m 29ms/step\n",
            "\u001b[1m2/2\u001b[0m \u001b[32m━━━━━━━━━━━━━━━━━━━━\u001b[0m\u001b[37m\u001b[0m \u001b[1m0s\u001b[0m 21ms/step\n",
            "\u001b[1m2/2\u001b[0m \u001b[32m━━━━━━━━━━━━━━━━━━━━\u001b[0m\u001b[37m\u001b[0m \u001b[1m0s\u001b[0m 21ms/step\n",
            "\u001b[1m2/2\u001b[0m \u001b[32m━━━━━━━━━━━━━━━━━━━━\u001b[0m\u001b[37m\u001b[0m \u001b[1m0s\u001b[0m 21ms/step\n",
            "\u001b[1m2/2\u001b[0m \u001b[32m━━━━━━━━━━━━━━━━━━━━\u001b[0m\u001b[37m\u001b[0m \u001b[1m0s\u001b[0m 21ms/step\n",
            "\u001b[1m2/2\u001b[0m \u001b[32m━━━━━━━━━━━━━━━━━━━━\u001b[0m\u001b[37m\u001b[0m \u001b[1m0s\u001b[0m 25ms/step\n",
            "\u001b[1m2/2\u001b[0m \u001b[32m━━━━━━━━━━━━━━━━━━━━\u001b[0m\u001b[37m\u001b[0m \u001b[1m0s\u001b[0m 21ms/step\n",
            "\u001b[1m2/2\u001b[0m \u001b[32m━━━━━━━━━━━━━━━━━━━━\u001b[0m\u001b[37m\u001b[0m \u001b[1m0s\u001b[0m 22ms/step\n",
            "\u001b[1m2/2\u001b[0m \u001b[32m━━━━━━━━━━━━━━━━━━━━\u001b[0m\u001b[37m\u001b[0m \u001b[1m0s\u001b[0m 21ms/step\n",
            "\u001b[1m2/2\u001b[0m \u001b[32m━━━━━━━━━━━━━━━━━━━━\u001b[0m\u001b[37m\u001b[0m \u001b[1m0s\u001b[0m 23ms/step\n",
            "\u001b[1m2/2\u001b[0m \u001b[32m━━━━━━━━━━━━━━━━━━━━\u001b[0m\u001b[37m\u001b[0m \u001b[1m0s\u001b[0m 21ms/step\n",
            "\u001b[1m2/2\u001b[0m \u001b[32m━━━━━━━━━━━━━━━━━━━━\u001b[0m\u001b[37m\u001b[0m \u001b[1m0s\u001b[0m 22ms/step\n",
            "\u001b[1m2/2\u001b[0m \u001b[32m━━━━━━━━━━━━━━━━━━━━\u001b[0m\u001b[37m\u001b[0m \u001b[1m0s\u001b[0m 21ms/step\n",
            "\u001b[1m2/2\u001b[0m \u001b[32m━━━━━━━━━━━━━━━━━━━━\u001b[0m\u001b[37m\u001b[0m \u001b[1m0s\u001b[0m 22ms/step\n",
            "\u001b[1m2/2\u001b[0m \u001b[32m━━━━━━━━━━━━━━━━━━━━\u001b[0m\u001b[37m\u001b[0m \u001b[1m0s\u001b[0m 21ms/step\n",
            "\u001b[1m2/2\u001b[0m \u001b[32m━━━━━━━━━━━━━━━━━━━━\u001b[0m\u001b[37m\u001b[0m \u001b[1m0s\u001b[0m 21ms/step\n",
            "\u001b[1m2/2\u001b[0m \u001b[32m━━━━━━━━━━━━━━━━━━━━\u001b[0m\u001b[37m\u001b[0m \u001b[1m0s\u001b[0m 21ms/step\n",
            "\u001b[1m2/2\u001b[0m \u001b[32m━━━━━━━━━━━━━━━━━━━━\u001b[0m\u001b[37m\u001b[0m \u001b[1m0s\u001b[0m 39ms/step\n",
            "\u001b[1m2/2\u001b[0m \u001b[32m━━━━━━━━━━━━━━━━━━━━\u001b[0m\u001b[37m\u001b[0m \u001b[1m0s\u001b[0m 20ms/step\n",
            "\u001b[1m2/2\u001b[0m \u001b[32m━━━━━━━━━━━━━━━━━━━━\u001b[0m\u001b[37m\u001b[0m \u001b[1m0s\u001b[0m 22ms/step\n",
            "\u001b[1m2/2\u001b[0m \u001b[32m━━━━━━━━━━━━━━━━━━━━\u001b[0m\u001b[37m\u001b[0m \u001b[1m0s\u001b[0m 23ms/step\n",
            "\u001b[1m2/2\u001b[0m \u001b[32m━━━━━━━━━━━━━━━━━━━━\u001b[0m\u001b[37m\u001b[0m \u001b[1m0s\u001b[0m 21ms/step\n",
            "\u001b[1m2/2\u001b[0m \u001b[32m━━━━━━━━━━━━━━━━━━━━\u001b[0m\u001b[37m\u001b[0m \u001b[1m0s\u001b[0m 21ms/step\n",
            "\u001b[1m2/2\u001b[0m \u001b[32m━━━━━━━━━━━━━━━━━━━━\u001b[0m\u001b[37m\u001b[0m \u001b[1m0s\u001b[0m 22ms/step\n",
            "\u001b[1m2/2\u001b[0m \u001b[32m━━━━━━━━━━━━━━━━━━━━\u001b[0m\u001b[37m\u001b[0m \u001b[1m0s\u001b[0m 22ms/step\n",
            "\u001b[1m2/2\u001b[0m \u001b[32m━━━━━━━━━━━━━━━━━━━━\u001b[0m\u001b[37m\u001b[0m \u001b[1m0s\u001b[0m 22ms/step\n",
            "\u001b[1m2/2\u001b[0m \u001b[32m━━━━━━━━━━━━━━━━━━━━\u001b[0m\u001b[37m\u001b[0m \u001b[1m0s\u001b[0m 26ms/step\n",
            "\u001b[1m2/2\u001b[0m \u001b[32m━━━━━━━━━━━━━━━━━━━━\u001b[0m\u001b[37m\u001b[0m \u001b[1m0s\u001b[0m 25ms/step\n",
            "\u001b[1m2/2\u001b[0m \u001b[32m━━━━━━━━━━━━━━━━━━━━\u001b[0m\u001b[37m\u001b[0m \u001b[1m0s\u001b[0m 21ms/step\n",
            "\u001b[1m2/2\u001b[0m \u001b[32m━━━━━━━━━━━━━━━━━━━━\u001b[0m\u001b[37m\u001b[0m \u001b[1m0s\u001b[0m 21ms/step\n",
            "\u001b[1m2/2\u001b[0m \u001b[32m━━━━━━━━━━━━━━━━━━━━\u001b[0m\u001b[37m\u001b[0m \u001b[1m0s\u001b[0m 22ms/step\n",
            "\u001b[1m2/2\u001b[0m \u001b[32m━━━━━━━━━━━━━━━━━━━━\u001b[0m\u001b[37m\u001b[0m \u001b[1m0s\u001b[0m 21ms/step\n",
            "\u001b[1m2/2\u001b[0m \u001b[32m━━━━━━━━━━━━━━━━━━━━\u001b[0m\u001b[37m\u001b[0m \u001b[1m0s\u001b[0m 21ms/step\n",
            "\u001b[1m2/2\u001b[0m \u001b[32m━━━━━━━━━━━━━━━━━━━━\u001b[0m\u001b[37m\u001b[0m \u001b[1m0s\u001b[0m 22ms/step\n",
            "\u001b[1m2/2\u001b[0m \u001b[32m━━━━━━━━━━━━━━━━━━━━\u001b[0m\u001b[37m\u001b[0m \u001b[1m0s\u001b[0m 23ms/step\n",
            "\u001b[1m2/2\u001b[0m \u001b[32m━━━━━━━━━━━━━━━━━━━━\u001b[0m\u001b[37m\u001b[0m \u001b[1m0s\u001b[0m 22ms/step\n",
            "\u001b[1m2/2\u001b[0m \u001b[32m━━━━━━━━━━━━━━━━━━━━\u001b[0m\u001b[37m\u001b[0m \u001b[1m0s\u001b[0m 22ms/step\n",
            "\u001b[1m2/2\u001b[0m \u001b[32m━━━━━━━━━━━━━━━━━━━━\u001b[0m\u001b[37m\u001b[0m \u001b[1m0s\u001b[0m 22ms/step\n",
            "\u001b[1m2/2\u001b[0m \u001b[32m━━━━━━━━━━━━━━━━━━━━\u001b[0m\u001b[37m\u001b[0m \u001b[1m0s\u001b[0m 21ms/step\n",
            "\u001b[1m2/2\u001b[0m \u001b[32m━━━━━━━━━━━━━━━━━━━━\u001b[0m\u001b[37m\u001b[0m \u001b[1m0s\u001b[0m 22ms/step\n",
            "\u001b[1m2/2\u001b[0m \u001b[32m━━━━━━━━━━━━━━━━━━━━\u001b[0m\u001b[37m\u001b[0m \u001b[1m0s\u001b[0m 22ms/step\n",
            "\u001b[1m2/2\u001b[0m \u001b[32m━━━━━━━━━━━━━━━━━━━━\u001b[0m\u001b[37m\u001b[0m \u001b[1m0s\u001b[0m 21ms/step\n",
            "\u001b[1m2/2\u001b[0m \u001b[32m━━━━━━━━━━━━━━━━━━━━\u001b[0m\u001b[37m\u001b[0m \u001b[1m0s\u001b[0m 22ms/step\n",
            "\u001b[1m2/2\u001b[0m \u001b[32m━━━━━━━━━━━━━━━━━━━━\u001b[0m\u001b[37m\u001b[0m \u001b[1m0s\u001b[0m 22ms/step\n",
            "\u001b[1m2/2\u001b[0m \u001b[32m━━━━━━━━━━━━━━━━━━━━\u001b[0m\u001b[37m\u001b[0m \u001b[1m0s\u001b[0m 23ms/step\n",
            "\u001b[1m2/2\u001b[0m \u001b[32m━━━━━━━━━━━━━━━━━━━━\u001b[0m\u001b[37m\u001b[0m \u001b[1m0s\u001b[0m 22ms/step\n",
            "\u001b[1m2/2\u001b[0m \u001b[32m━━━━━━━━━━━━━━━━━━━━\u001b[0m\u001b[37m\u001b[0m \u001b[1m0s\u001b[0m 22ms/step\n",
            "\u001b[1m2/2\u001b[0m \u001b[32m━━━━━━━━━━━━━━━━━━━━\u001b[0m\u001b[37m\u001b[0m \u001b[1m0s\u001b[0m 22ms/step\n",
            "\u001b[1m2/2\u001b[0m \u001b[32m━━━━━━━━━━━━━━━━━━━━\u001b[0m\u001b[37m\u001b[0m \u001b[1m0s\u001b[0m 22ms/step\n",
            "\u001b[1m2/2\u001b[0m \u001b[32m━━━━━━━━━━━━━━━━━━━━\u001b[0m\u001b[37m\u001b[0m \u001b[1m0s\u001b[0m 28ms/step\n",
            "\u001b[1m2/2\u001b[0m \u001b[32m━━━━━━━━━━━━━━━━━━━━\u001b[0m\u001b[37m\u001b[0m \u001b[1m0s\u001b[0m 23ms/step\n",
            "\u001b[1m2/2\u001b[0m \u001b[32m━━━━━━━━━━━━━━━━━━━━\u001b[0m\u001b[37m\u001b[0m \u001b[1m0s\u001b[0m 22ms/step\n",
            "\u001b[1m2/2\u001b[0m \u001b[32m━━━━━━━━━━━━━━━━━━━━\u001b[0m\u001b[37m\u001b[0m \u001b[1m0s\u001b[0m 21ms/step\n",
            "\u001b[1m2/2\u001b[0m \u001b[32m━━━━━━━━━━━━━━━━━━━━\u001b[0m\u001b[37m\u001b[0m \u001b[1m0s\u001b[0m 22ms/step\n",
            "\u001b[1m2/2\u001b[0m \u001b[32m━━━━━━━━━━━━━━━━━━━━\u001b[0m\u001b[37m\u001b[0m \u001b[1m0s\u001b[0m 21ms/step\n",
            "\u001b[1m2/2\u001b[0m \u001b[32m━━━━━━━━━━━━━━━━━━━━\u001b[0m\u001b[37m\u001b[0m \u001b[1m0s\u001b[0m 22ms/step\n",
            "\u001b[1m2/2\u001b[0m \u001b[32m━━━━━━━━━━━━━━━━━━━━\u001b[0m\u001b[37m\u001b[0m \u001b[1m0s\u001b[0m 22ms/step\n",
            "\u001b[1m2/2\u001b[0m \u001b[32m━━━━━━━━━━━━━━━━━━━━\u001b[0m\u001b[37m\u001b[0m \u001b[1m0s\u001b[0m 21ms/step\n",
            "\u001b[1m2/2\u001b[0m \u001b[32m━━━━━━━━━━━━━━━━━━━━\u001b[0m\u001b[37m\u001b[0m \u001b[1m0s\u001b[0m 21ms/step\n",
            "\u001b[1m2/2\u001b[0m \u001b[32m━━━━━━━━━━━━━━━━━━━━\u001b[0m\u001b[37m\u001b[0m \u001b[1m0s\u001b[0m 23ms/step\n",
            "\u001b[1m2/2\u001b[0m \u001b[32m━━━━━━━━━━━━━━━━━━━━\u001b[0m\u001b[37m\u001b[0m \u001b[1m0s\u001b[0m 22ms/step\n",
            "\u001b[1m2/2\u001b[0m \u001b[32m━━━━━━━━━━━━━━━━━━━━\u001b[0m\u001b[37m\u001b[0m \u001b[1m0s\u001b[0m 26ms/step\n",
            "\u001b[1m2/2\u001b[0m \u001b[32m━━━━━━━━━━━━━━━━━━━━\u001b[0m\u001b[37m\u001b[0m \u001b[1m0s\u001b[0m 22ms/step\n",
            "\u001b[1m2/2\u001b[0m \u001b[32m━━━━━━━━━━━━━━━━━━━━\u001b[0m\u001b[37m\u001b[0m \u001b[1m0s\u001b[0m 21ms/step\n",
            "\u001b[1m2/2\u001b[0m \u001b[32m━━━━━━━━━━━━━━━━━━━━\u001b[0m\u001b[37m\u001b[0m \u001b[1m0s\u001b[0m 21ms/step\n",
            "\u001b[1m2/2\u001b[0m \u001b[32m━━━━━━━━━━━━━━━━━━━━\u001b[0m\u001b[37m\u001b[0m \u001b[1m0s\u001b[0m 22ms/step\n",
            "\u001b[1m2/2\u001b[0m \u001b[32m━━━━━━━━━━━━━━━━━━━━\u001b[0m\u001b[37m\u001b[0m \u001b[1m0s\u001b[0m 23ms/step\n",
            "\u001b[1m2/2\u001b[0m \u001b[32m━━━━━━━━━━━━━━━━━━━━\u001b[0m\u001b[37m\u001b[0m \u001b[1m0s\u001b[0m 22ms/step\n",
            "\u001b[1m2/2\u001b[0m \u001b[32m━━━━━━━━━━━━━━━━━━━━\u001b[0m\u001b[37m\u001b[0m \u001b[1m0s\u001b[0m 26ms/step\n",
            "\u001b[1m2/2\u001b[0m \u001b[32m━━━━━━━━━━━━━━━━━━━━\u001b[0m\u001b[37m\u001b[0m \u001b[1m0s\u001b[0m 22ms/step\n",
            "\u001b[1m2/2\u001b[0m \u001b[32m━━━━━━━━━━━━━━━━━━━━\u001b[0m\u001b[37m\u001b[0m \u001b[1m0s\u001b[0m 35ms/step\n",
            "\u001b[1m2/2\u001b[0m \u001b[32m━━━━━━━━━━━━━━━━━━━━\u001b[0m\u001b[37m\u001b[0m \u001b[1m0s\u001b[0m 24ms/step\n",
            "\u001b[1m2/2\u001b[0m \u001b[32m━━━━━━━━━━━━━━━━━━━━\u001b[0m\u001b[37m\u001b[0m \u001b[1m0s\u001b[0m 23ms/step\n",
            "\u001b[1m2/2\u001b[0m \u001b[32m━━━━━━━━━━━━━━━━━━━━\u001b[0m\u001b[37m\u001b[0m \u001b[1m0s\u001b[0m 24ms/step\n",
            "\u001b[1m2/2\u001b[0m \u001b[32m━━━━━━━━━━━━━━━━━━━━\u001b[0m\u001b[37m\u001b[0m \u001b[1m0s\u001b[0m 21ms/step\n",
            "\u001b[1m2/2\u001b[0m \u001b[32m━━━━━━━━━━━━━━━━━━━━\u001b[0m\u001b[37m\u001b[0m \u001b[1m0s\u001b[0m 23ms/step\n",
            "\u001b[1m2/2\u001b[0m \u001b[32m━━━━━━━━━━━━━━━━━━━━\u001b[0m\u001b[37m\u001b[0m \u001b[1m0s\u001b[0m 32ms/step\n",
            "\u001b[1m2/2\u001b[0m \u001b[32m━━━━━━━━━━━━━━━━━━━━\u001b[0m\u001b[37m\u001b[0m \u001b[1m0s\u001b[0m 22ms/step\n",
            "\u001b[1m2/2\u001b[0m \u001b[32m━━━━━━━━━━━━━━━━━━━━\u001b[0m\u001b[37m\u001b[0m \u001b[1m0s\u001b[0m 37ms/step\n",
            "\u001b[1m2/2\u001b[0m \u001b[32m━━━━━━━━━━━━━━━━━━━━\u001b[0m\u001b[37m\u001b[0m \u001b[1m0s\u001b[0m 22ms/step\n",
            "\u001b[1m2/2\u001b[0m \u001b[32m━━━━━━━━━━━━━━━━━━━━\u001b[0m\u001b[37m\u001b[0m \u001b[1m0s\u001b[0m 21ms/step\n",
            "\u001b[1m2/2\u001b[0m \u001b[32m━━━━━━━━━━━━━━━━━━━━\u001b[0m\u001b[37m\u001b[0m \u001b[1m0s\u001b[0m 22ms/step\n",
            "\u001b[1m2/2\u001b[0m \u001b[32m━━━━━━━━━━━━━━━━━━━━\u001b[0m\u001b[37m\u001b[0m \u001b[1m0s\u001b[0m 21ms/step\n",
            "\u001b[1m2/2\u001b[0m \u001b[32m━━━━━━━━━━━━━━━━━━━━\u001b[0m\u001b[37m\u001b[0m \u001b[1m0s\u001b[0m 23ms/step\n",
            "\u001b[1m2/2\u001b[0m \u001b[32m━━━━━━━━━━━━━━━━━━━━\u001b[0m\u001b[37m\u001b[0m \u001b[1m0s\u001b[0m 32ms/step\n",
            "\u001b[1m2/2\u001b[0m \u001b[32m━━━━━━━━━━━━━━━━━━━━\u001b[0m\u001b[37m\u001b[0m \u001b[1m0s\u001b[0m 33ms/step\n",
            "\u001b[1m2/2\u001b[0m \u001b[32m━━━━━━━━━━━━━━━━━━━━\u001b[0m\u001b[37m\u001b[0m \u001b[1m0s\u001b[0m 33ms/step\n",
            "\u001b[1m2/2\u001b[0m \u001b[32m━━━━━━━━━━━━━━━━━━━━\u001b[0m\u001b[37m\u001b[0m \u001b[1m0s\u001b[0m 28ms/step\n",
            "\u001b[1m2/2\u001b[0m \u001b[32m━━━━━━━━━━━━━━━━━━━━\u001b[0m\u001b[37m\u001b[0m \u001b[1m0s\u001b[0m 28ms/step\n",
            "\u001b[1m2/2\u001b[0m \u001b[32m━━━━━━━━━━━━━━━━━━━━\u001b[0m\u001b[37m\u001b[0m \u001b[1m0s\u001b[0m 29ms/step\n",
            "\u001b[1m2/2\u001b[0m \u001b[32m━━━━━━━━━━━━━━━━━━━━\u001b[0m\u001b[37m\u001b[0m \u001b[1m0s\u001b[0m 32ms/step\n",
            "\u001b[1m2/2\u001b[0m \u001b[32m━━━━━━━━━━━━━━━━━━━━\u001b[0m\u001b[37m\u001b[0m \u001b[1m0s\u001b[0m 29ms/step\n",
            "\u001b[1m2/2\u001b[0m \u001b[32m━━━━━━━━━━━━━━━━━━━━\u001b[0m\u001b[37m\u001b[0m \u001b[1m0s\u001b[0m 37ms/step\n",
            "\u001b[1m2/2\u001b[0m \u001b[32m━━━━━━━━━━━━━━━━━━━━\u001b[0m\u001b[37m\u001b[0m \u001b[1m0s\u001b[0m 41ms/step\n",
            "\u001b[1m2/2\u001b[0m \u001b[32m━━━━━━━━━━━━━━━━━━━━\u001b[0m\u001b[37m\u001b[0m \u001b[1m0s\u001b[0m 33ms/step\n",
            "\u001b[1m2/2\u001b[0m \u001b[32m━━━━━━━━━━━━━━━━━━━━\u001b[0m\u001b[37m\u001b[0m \u001b[1m0s\u001b[0m 34ms/step\n",
            "\u001b[1m2/2\u001b[0m \u001b[32m━━━━━━━━━━━━━━━━━━━━\u001b[0m\u001b[37m\u001b[0m \u001b[1m0s\u001b[0m 29ms/step\n",
            "\u001b[1m2/2\u001b[0m \u001b[32m━━━━━━━━━━━━━━━━━━━━\u001b[0m\u001b[37m\u001b[0m \u001b[1m0s\u001b[0m 29ms/step\n",
            "\u001b[1m2/2\u001b[0m \u001b[32m━━━━━━━━━━━━━━━━━━━━\u001b[0m\u001b[37m\u001b[0m \u001b[1m0s\u001b[0m 31ms/step\n",
            "\u001b[1m2/2\u001b[0m \u001b[32m━━━━━━━━━━━━━━━━━━━━\u001b[0m\u001b[37m\u001b[0m \u001b[1m0s\u001b[0m 29ms/step\n",
            "\u001b[1m2/2\u001b[0m \u001b[32m━━━━━━━━━━━━━━━━━━━━\u001b[0m\u001b[37m\u001b[0m \u001b[1m0s\u001b[0m 31ms/step\n",
            "\u001b[1m2/2\u001b[0m \u001b[32m━━━━━━━━━━━━━━━━━━━━\u001b[0m\u001b[37m\u001b[0m \u001b[1m0s\u001b[0m 32ms/step\n",
            "\u001b[1m2/2\u001b[0m \u001b[32m━━━━━━━━━━━━━━━━━━━━\u001b[0m\u001b[37m\u001b[0m \u001b[1m0s\u001b[0m 36ms/step\n",
            "\u001b[1m2/2\u001b[0m \u001b[32m━━━━━━━━━━━━━━━━━━━━\u001b[0m\u001b[37m\u001b[0m \u001b[1m0s\u001b[0m 36ms/step\n",
            "\u001b[1m2/2\u001b[0m \u001b[32m━━━━━━━━━━━━━━━━━━━━\u001b[0m\u001b[37m\u001b[0m \u001b[1m0s\u001b[0m 31ms/step\n",
            "\u001b[1m2/2\u001b[0m \u001b[32m━━━━━━━━━━━━━━━━━━━━\u001b[0m\u001b[37m\u001b[0m \u001b[1m0s\u001b[0m 35ms/step\n",
            "\u001b[1m2/2\u001b[0m \u001b[32m━━━━━━━━━━━━━━━━━━━━\u001b[0m\u001b[37m\u001b[0m \u001b[1m0s\u001b[0m 35ms/step\n",
            "\u001b[1m2/2\u001b[0m \u001b[32m━━━━━━━━━━━━━━━━━━━━\u001b[0m\u001b[37m\u001b[0m \u001b[1m0s\u001b[0m 41ms/step\n",
            "\u001b[1m2/2\u001b[0m \u001b[32m━━━━━━━━━━━━━━━━━━━━\u001b[0m\u001b[37m\u001b[0m \u001b[1m0s\u001b[0m 25ms/step\n",
            "\u001b[1m2/2\u001b[0m \u001b[32m━━━━━━━━━━━━━━━━━━━━\u001b[0m\u001b[37m\u001b[0m \u001b[1m0s\u001b[0m 23ms/step\n",
            "\u001b[1m2/2\u001b[0m \u001b[32m━━━━━━━━━━━━━━━━━━━━\u001b[0m\u001b[37m\u001b[0m \u001b[1m0s\u001b[0m 22ms/step\n",
            "\u001b[1m2/2\u001b[0m \u001b[32m━━━━━━━━━━━━━━━━━━━━\u001b[0m\u001b[37m\u001b[0m \u001b[1m0s\u001b[0m 23ms/step\n",
            "\u001b[1m2/2\u001b[0m \u001b[32m━━━━━━━━━━━━━━━━━━━━\u001b[0m\u001b[37m\u001b[0m \u001b[1m0s\u001b[0m 29ms/step\n",
            "\u001b[1m2/2\u001b[0m \u001b[32m━━━━━━━━━━━━━━━━━━━━\u001b[0m\u001b[37m\u001b[0m \u001b[1m0s\u001b[0m 22ms/step\n",
            "\u001b[1m2/2\u001b[0m \u001b[32m━━━━━━━━━━━━━━━━━━━━\u001b[0m\u001b[37m\u001b[0m \u001b[1m0s\u001b[0m 21ms/step\n",
            "\u001b[1m2/2\u001b[0m \u001b[32m━━━━━━━━━━━━━━━━━━━━\u001b[0m\u001b[37m\u001b[0m \u001b[1m0s\u001b[0m 23ms/step\n",
            "\u001b[1m2/2\u001b[0m \u001b[32m━━━━━━━━━━━━━━━━━━━━\u001b[0m\u001b[37m\u001b[0m \u001b[1m0s\u001b[0m 33ms/step\n",
            "\u001b[1m2/2\u001b[0m \u001b[32m━━━━━━━━━━━━━━━━━━━━\u001b[0m\u001b[37m\u001b[0m \u001b[1m0s\u001b[0m 21ms/step\n",
            "\u001b[1m2/2\u001b[0m \u001b[32m━━━━━━━━━━━━━━━━━━━━\u001b[0m\u001b[37m\u001b[0m \u001b[1m0s\u001b[0m 22ms/step\n",
            "\u001b[1m2/2\u001b[0m \u001b[32m━━━━━━━━━━━━━━━━━━━━\u001b[0m\u001b[37m\u001b[0m \u001b[1m0s\u001b[0m 24ms/step\n",
            "\u001b[1m2/2\u001b[0m \u001b[32m━━━━━━━━━━━━━━━━━━━━\u001b[0m\u001b[37m\u001b[0m \u001b[1m0s\u001b[0m 22ms/step\n",
            "\u001b[1m2/2\u001b[0m \u001b[32m━━━━━━━━━━━━━━━━━━━━\u001b[0m\u001b[37m\u001b[0m \u001b[1m0s\u001b[0m 23ms/step\n",
            "\u001b[1m2/2\u001b[0m \u001b[32m━━━━━━━━━━━━━━━━━━━━\u001b[0m\u001b[37m\u001b[0m \u001b[1m0s\u001b[0m 22ms/step\n",
            "\u001b[1m2/2\u001b[0m \u001b[32m━━━━━━━━━━━━━━━━━━━━\u001b[0m\u001b[37m\u001b[0m \u001b[1m0s\u001b[0m 24ms/step\n",
            "\u001b[1m2/2\u001b[0m \u001b[32m━━━━━━━━━━━━━━━━━━━━\u001b[0m\u001b[37m\u001b[0m \u001b[1m0s\u001b[0m 22ms/step\n",
            "\u001b[1m2/2\u001b[0m \u001b[32m━━━━━━━━━━━━━━━━━━━━\u001b[0m\u001b[37m\u001b[0m \u001b[1m0s\u001b[0m 22ms/step\n",
            "\u001b[1m2/2\u001b[0m \u001b[32m━━━━━━━━━━━━━━━━━━━━\u001b[0m\u001b[37m\u001b[0m \u001b[1m0s\u001b[0m 25ms/step\n",
            "\u001b[1m2/2\u001b[0m \u001b[32m━━━━━━━━━━━━━━━━━━━━\u001b[0m\u001b[37m\u001b[0m \u001b[1m0s\u001b[0m 22ms/step\n",
            "\u001b[1m2/2\u001b[0m \u001b[32m━━━━━━━━━━━━━━━━━━━━\u001b[0m\u001b[37m\u001b[0m \u001b[1m0s\u001b[0m 22ms/step\n",
            "\u001b[1m2/2\u001b[0m \u001b[32m━━━━━━━━━━━━━━━━━━━━\u001b[0m\u001b[37m\u001b[0m \u001b[1m0s\u001b[0m 22ms/step\n",
            "\u001b[1m2/2\u001b[0m \u001b[32m━━━━━━━━━━━━━━━━━━━━\u001b[0m\u001b[37m\u001b[0m \u001b[1m0s\u001b[0m 24ms/step\n",
            "\u001b[1m2/2\u001b[0m \u001b[32m━━━━━━━━━━━━━━━━━━━━\u001b[0m\u001b[37m\u001b[0m \u001b[1m0s\u001b[0m 24ms/step\n",
            "\u001b[1m2/2\u001b[0m \u001b[32m━━━━━━━━━━━━━━━━━━━━\u001b[0m\u001b[37m\u001b[0m \u001b[1m0s\u001b[0m 22ms/step\n",
            "\u001b[1m2/2\u001b[0m \u001b[32m━━━━━━━━━━━━━━━━━━━━\u001b[0m\u001b[37m\u001b[0m \u001b[1m0s\u001b[0m 23ms/step\n",
            "\u001b[1m2/2\u001b[0m \u001b[32m━━━━━━━━━━━━━━━━━━━━\u001b[0m\u001b[37m\u001b[0m \u001b[1m0s\u001b[0m 23ms/step\n",
            "\u001b[1m2/2\u001b[0m \u001b[32m━━━━━━━━━━━━━━━━━━━━\u001b[0m\u001b[37m\u001b[0m \u001b[1m0s\u001b[0m 23ms/step\n",
            "\u001b[1m2/2\u001b[0m \u001b[32m━━━━━━━━━━━━━━━━━━━━\u001b[0m\u001b[37m\u001b[0m \u001b[1m0s\u001b[0m 22ms/step\n",
            "\u001b[1m2/2\u001b[0m \u001b[32m━━━━━━━━━━━━━━━━━━━━\u001b[0m\u001b[37m\u001b[0m \u001b[1m0s\u001b[0m 24ms/step\n",
            "\u001b[1m2/2\u001b[0m \u001b[32m━━━━━━━━━━━━━━━━━━━━\u001b[0m\u001b[37m\u001b[0m \u001b[1m0s\u001b[0m 22ms/step\n",
            "\u001b[1m2/2\u001b[0m \u001b[32m━━━━━━━━━━━━━━━━━━━━\u001b[0m\u001b[37m\u001b[0m \u001b[1m0s\u001b[0m 23ms/step\n",
            "\u001b[1m2/2\u001b[0m \u001b[32m━━━━━━━━━━━━━━━━━━━━\u001b[0m\u001b[37m\u001b[0m \u001b[1m0s\u001b[0m 23ms/step\n",
            "\u001b[1m2/2\u001b[0m \u001b[32m━━━━━━━━━━━━━━━━━━━━\u001b[0m\u001b[37m\u001b[0m \u001b[1m0s\u001b[0m 22ms/step\n",
            "\u001b[1m2/2\u001b[0m \u001b[32m━━━━━━━━━━━━━━━━━━━━\u001b[0m\u001b[37m\u001b[0m \u001b[1m0s\u001b[0m 26ms/step\n",
            "\u001b[1m2/2\u001b[0m \u001b[32m━━━━━━━━━━━━━━━━━━━━\u001b[0m\u001b[37m\u001b[0m \u001b[1m0s\u001b[0m 23ms/step\n",
            "\u001b[1m2/2\u001b[0m \u001b[32m━━━━━━━━━━━━━━━━━━━━\u001b[0m\u001b[37m\u001b[0m \u001b[1m0s\u001b[0m 22ms/step\n",
            "\u001b[1m2/2\u001b[0m \u001b[32m━━━━━━━━━━━━━━━━━━━━\u001b[0m\u001b[37m\u001b[0m \u001b[1m0s\u001b[0m 21ms/step\n",
            "\u001b[1m2/2\u001b[0m \u001b[32m━━━━━━━━━━━━━━━━━━━━\u001b[0m\u001b[37m\u001b[0m \u001b[1m0s\u001b[0m 22ms/step\n",
            "\u001b[1m2/2\u001b[0m \u001b[32m━━━━━━━━━━━━━━━━━━━━\u001b[0m\u001b[37m\u001b[0m \u001b[1m0s\u001b[0m 26ms/step\n",
            "\u001b[1m2/2\u001b[0m \u001b[32m━━━━━━━━━━━━━━━━━━━━\u001b[0m\u001b[37m\u001b[0m \u001b[1m0s\u001b[0m 23ms/step\n",
            "\u001b[1m2/2\u001b[0m \u001b[32m━━━━━━━━━━━━━━━━━━━━\u001b[0m\u001b[37m\u001b[0m \u001b[1m0s\u001b[0m 28ms/step\n",
            "\u001b[1m2/2\u001b[0m \u001b[32m━━━━━━━━━━━━━━━━━━━━\u001b[0m\u001b[37m\u001b[0m \u001b[1m0s\u001b[0m 23ms/step\n",
            "\u001b[1m2/2\u001b[0m \u001b[32m━━━━━━━━━━━━━━━━━━━━\u001b[0m\u001b[37m\u001b[0m \u001b[1m0s\u001b[0m 22ms/step\n",
            "\u001b[1m2/2\u001b[0m \u001b[32m━━━━━━━━━━━━━━━━━━━━\u001b[0m\u001b[37m\u001b[0m \u001b[1m0s\u001b[0m 25ms/step\n",
            "\u001b[1m2/2\u001b[0m \u001b[32m━━━━━━━━━━━━━━━━━━━━\u001b[0m\u001b[37m\u001b[0m \u001b[1m0s\u001b[0m 21ms/step\n",
            "\u001b[1m2/2\u001b[0m \u001b[32m━━━━━━━━━━━━━━━━━━━━\u001b[0m\u001b[37m\u001b[0m \u001b[1m0s\u001b[0m 34ms/step\n",
            "\u001b[1m2/2\u001b[0m \u001b[32m━━━━━━━━━━━━━━━━━━━━\u001b[0m\u001b[37m\u001b[0m \u001b[1m0s\u001b[0m 23ms/step\n",
            "\u001b[1m2/2\u001b[0m \u001b[32m━━━━━━━━━━━━━━━━━━━━\u001b[0m\u001b[37m\u001b[0m \u001b[1m0s\u001b[0m 22ms/step\n",
            "\u001b[1m2/2\u001b[0m \u001b[32m━━━━━━━━━━━━━━━━━━━━\u001b[0m\u001b[37m\u001b[0m \u001b[1m0s\u001b[0m 22ms/step\n",
            "\u001b[1m2/2\u001b[0m \u001b[32m━━━━━━━━━━━━━━━━━━━━\u001b[0m\u001b[37m\u001b[0m \u001b[1m0s\u001b[0m 23ms/step\n",
            "\u001b[1m2/2\u001b[0m \u001b[32m━━━━━━━━━━━━━━━━━━━━\u001b[0m\u001b[37m\u001b[0m \u001b[1m0s\u001b[0m 22ms/step\n",
            "\u001b[1m2/2\u001b[0m \u001b[32m━━━━━━━━━━━━━━━━━━━━\u001b[0m\u001b[37m\u001b[0m \u001b[1m0s\u001b[0m 25ms/step\n",
            "\u001b[1m2/2\u001b[0m \u001b[32m━━━━━━━━━━━━━━━━━━━━\u001b[0m\u001b[37m\u001b[0m \u001b[1m0s\u001b[0m 22ms/step\n",
            "\u001b[1m2/2\u001b[0m \u001b[32m━━━━━━━━━━━━━━━━━━━━\u001b[0m\u001b[37m\u001b[0m \u001b[1m0s\u001b[0m 22ms/step\n",
            "\u001b[1m2/2\u001b[0m \u001b[32m━━━━━━━━━━━━━━━━━━━━\u001b[0m\u001b[37m\u001b[0m \u001b[1m0s\u001b[0m 28ms/step\n",
            "\u001b[1m2/2\u001b[0m \u001b[32m━━━━━━━━━━━━━━━━━━━━\u001b[0m\u001b[37m\u001b[0m \u001b[1m0s\u001b[0m 21ms/step\n",
            "\u001b[1m2/2\u001b[0m \u001b[32m━━━━━━━━━━━━━━━━━━━━\u001b[0m\u001b[37m\u001b[0m \u001b[1m0s\u001b[0m 23ms/step\n",
            "\u001b[1m2/2\u001b[0m \u001b[32m━━━━━━━━━━━━━━━━━━━━\u001b[0m\u001b[37m\u001b[0m \u001b[1m0s\u001b[0m 22ms/step\n",
            "\u001b[1m2/2\u001b[0m \u001b[32m━━━━━━━━━━━━━━━━━━━━\u001b[0m\u001b[37m\u001b[0m \u001b[1m0s\u001b[0m 23ms/step\n",
            "\u001b[1m2/2\u001b[0m \u001b[32m━━━━━━━━━━━━━━━━━━━━\u001b[0m\u001b[37m\u001b[0m \u001b[1m0s\u001b[0m 23ms/step\n",
            "\u001b[1m2/2\u001b[0m \u001b[32m━━━━━━━━━━━━━━━━━━━━\u001b[0m\u001b[37m\u001b[0m \u001b[1m0s\u001b[0m 23ms/step\n",
            "\u001b[1m2/2\u001b[0m \u001b[32m━━━━━━━━━━━━━━━━━━━━\u001b[0m\u001b[37m\u001b[0m \u001b[1m0s\u001b[0m 23ms/step\n",
            "\u001b[1m2/2\u001b[0m \u001b[32m━━━━━━━━━━━━━━━━━━━━\u001b[0m\u001b[37m\u001b[0m \u001b[1m0s\u001b[0m 22ms/step\n",
            "\u001b[1m2/2\u001b[0m \u001b[32m━━━━━━━━━━━━━━━━━━━━\u001b[0m\u001b[37m\u001b[0m \u001b[1m0s\u001b[0m 25ms/step\n",
            "\u001b[1m2/2\u001b[0m \u001b[32m━━━━━━━━━━━━━━━━━━━━\u001b[0m\u001b[37m\u001b[0m \u001b[1m0s\u001b[0m 22ms/step\n",
            "\u001b[1m2/2\u001b[0m \u001b[32m━━━━━━━━━━━━━━━━━━━━\u001b[0m\u001b[37m\u001b[0m \u001b[1m0s\u001b[0m 23ms/step\n",
            "\u001b[1m2/2\u001b[0m \u001b[32m━━━━━━━━━━━━━━━━━━━━\u001b[0m\u001b[37m\u001b[0m \u001b[1m0s\u001b[0m 25ms/step\n",
            "\u001b[1m2/2\u001b[0m \u001b[32m━━━━━━━━━━━━━━━━━━━━\u001b[0m\u001b[37m\u001b[0m \u001b[1m0s\u001b[0m 21ms/step\n",
            "\u001b[1m2/2\u001b[0m \u001b[32m━━━━━━━━━━━━━━━━━━━━\u001b[0m\u001b[37m\u001b[0m \u001b[1m0s\u001b[0m 24ms/step\n",
            "\u001b[1m2/2\u001b[0m \u001b[32m━━━━━━━━━━━━━━━━━━━━\u001b[0m\u001b[37m\u001b[0m \u001b[1m0s\u001b[0m 22ms/step\n",
            "\u001b[1m2/2\u001b[0m \u001b[32m━━━━━━━━━━━━━━━━━━━━\u001b[0m\u001b[37m\u001b[0m \u001b[1m0s\u001b[0m 23ms/step\n",
            "\u001b[1m2/2\u001b[0m \u001b[32m━━━━━━━━━━━━━━━━━━━━\u001b[0m\u001b[37m\u001b[0m \u001b[1m0s\u001b[0m 25ms/step\n",
            "\u001b[1m2/2\u001b[0m \u001b[32m━━━━━━━━━━━━━━━━━━━━\u001b[0m\u001b[37m\u001b[0m \u001b[1m0s\u001b[0m 24ms/step\n",
            "\u001b[1m2/2\u001b[0m \u001b[32m━━━━━━━━━━━━━━━━━━━━\u001b[0m\u001b[37m\u001b[0m \u001b[1m0s\u001b[0m 23ms/step\n",
            "\u001b[1m2/2\u001b[0m \u001b[32m━━━━━━━━━━━━━━━━━━━━\u001b[0m\u001b[37m\u001b[0m \u001b[1m0s\u001b[0m 22ms/step\n",
            "\u001b[1m2/2\u001b[0m \u001b[32m━━━━━━━━━━━━━━━━━━━━\u001b[0m\u001b[37m\u001b[0m \u001b[1m0s\u001b[0m 23ms/step\n",
            "\u001b[1m2/2\u001b[0m \u001b[32m━━━━━━━━━━━━━━━━━━━━\u001b[0m\u001b[37m\u001b[0m \u001b[1m0s\u001b[0m 24ms/step\n",
            "\u001b[1m2/2\u001b[0m \u001b[32m━━━━━━━━━━━━━━━━━━━━\u001b[0m\u001b[37m\u001b[0m \u001b[1m0s\u001b[0m 22ms/step\n",
            "\u001b[1m2/2\u001b[0m \u001b[32m━━━━━━━━━━━━━━━━━━━━\u001b[0m\u001b[37m\u001b[0m \u001b[1m0s\u001b[0m 24ms/step\n",
            "\u001b[1m2/2\u001b[0m \u001b[32m━━━━━━━━━━━━━━━━━━━━\u001b[0m\u001b[37m\u001b[0m \u001b[1m0s\u001b[0m 21ms/step\n",
            "\u001b[1m2/2\u001b[0m \u001b[32m━━━━━━━━━━━━━━━━━━━━\u001b[0m\u001b[37m\u001b[0m \u001b[1m0s\u001b[0m 22ms/step\n",
            "\u001b[1m2/2\u001b[0m \u001b[32m━━━━━━━━━━━━━━━━━━━━\u001b[0m\u001b[37m\u001b[0m \u001b[1m0s\u001b[0m 22ms/step\n",
            "\u001b[1m2/2\u001b[0m \u001b[32m━━━━━━━━━━━━━━━━━━━━\u001b[0m\u001b[37m\u001b[0m \u001b[1m0s\u001b[0m 25ms/step\n",
            "\u001b[1m2/2\u001b[0m \u001b[32m━━━━━━━━━━━━━━━━━━━━\u001b[0m\u001b[37m\u001b[0m \u001b[1m0s\u001b[0m 24ms/step\n",
            "\u001b[1m2/2\u001b[0m \u001b[32m━━━━━━━━━━━━━━━━━━━━\u001b[0m\u001b[37m\u001b[0m \u001b[1m0s\u001b[0m 23ms/step\n",
            "\u001b[1m2/2\u001b[0m \u001b[32m━━━━━━━━━━━━━━━━━━━━\u001b[0m\u001b[37m\u001b[0m \u001b[1m0s\u001b[0m 25ms/step\n",
            "\u001b[1m2/2\u001b[0m \u001b[32m━━━━━━━━━━━━━━━━━━━━\u001b[0m\u001b[37m\u001b[0m \u001b[1m0s\u001b[0m 22ms/step\n",
            "\u001b[1m2/2\u001b[0m \u001b[32m━━━━━━━━━━━━━━━━━━━━\u001b[0m\u001b[37m\u001b[0m \u001b[1m0s\u001b[0m 37ms/step\n",
            "\u001b[1m2/2\u001b[0m \u001b[32m━━━━━━━━━━━━━━━━━━━━\u001b[0m\u001b[37m\u001b[0m \u001b[1m0s\u001b[0m 36ms/step\n",
            "\u001b[1m2/2\u001b[0m \u001b[32m━━━━━━━━━━━━━━━━━━━━\u001b[0m\u001b[37m\u001b[0m \u001b[1m0s\u001b[0m 40ms/step\n",
            "\u001b[1m2/2\u001b[0m \u001b[32m━━━━━━━━━━━━━━━━━━━━\u001b[0m\u001b[37m\u001b[0m \u001b[1m0s\u001b[0m 34ms/step\n",
            "\u001b[1m2/2\u001b[0m \u001b[32m━━━━━━━━━━━━━━━━━━━━\u001b[0m\u001b[37m\u001b[0m \u001b[1m0s\u001b[0m 35ms/step\n",
            "\u001b[1m2/2\u001b[0m \u001b[32m━━━━━━━━━━━━━━━━━━━━\u001b[0m\u001b[37m\u001b[0m \u001b[1m0s\u001b[0m 36ms/step\n",
            "\u001b[1m2/2\u001b[0m \u001b[32m━━━━━━━━━━━━━━━━━━━━\u001b[0m\u001b[37m\u001b[0m \u001b[1m0s\u001b[0m 29ms/step\n",
            "\u001b[1m2/2\u001b[0m \u001b[32m━━━━━━━━━━━━━━━━━━━━\u001b[0m\u001b[37m\u001b[0m \u001b[1m0s\u001b[0m 30ms/step\n",
            "\u001b[1m2/2\u001b[0m \u001b[32m━━━━━━━━━━━━━━━━━━━━\u001b[0m\u001b[37m\u001b[0m \u001b[1m0s\u001b[0m 38ms/step\n",
            "\u001b[1m2/2\u001b[0m \u001b[32m━━━━━━━━━━━━━━━━━━━━\u001b[0m\u001b[37m\u001b[0m \u001b[1m0s\u001b[0m 45ms/step\n",
            "\u001b[1m2/2\u001b[0m \u001b[32m━━━━━━━━━━━━━━━━━━━━\u001b[0m\u001b[37m\u001b[0m \u001b[1m0s\u001b[0m 39ms/step\n",
            "\u001b[1m2/2\u001b[0m \u001b[32m━━━━━━━━━━━━━━━━━━━━\u001b[0m\u001b[37m\u001b[0m \u001b[1m0s\u001b[0m 38ms/step\n",
            "\u001b[1m2/2\u001b[0m \u001b[32m━━━━━━━━━━━━━━━━━━━━\u001b[0m\u001b[37m\u001b[0m \u001b[1m0s\u001b[0m 34ms/step\n",
            "\u001b[1m2/2\u001b[0m \u001b[32m━━━━━━━━━━━━━━━━━━━━\u001b[0m\u001b[37m\u001b[0m \u001b[1m0s\u001b[0m 35ms/step\n",
            "\u001b[1m2/2\u001b[0m \u001b[32m━━━━━━━━━━━━━━━━━━━━\u001b[0m\u001b[37m\u001b[0m \u001b[1m0s\u001b[0m 40ms/step\n",
            "\u001b[1m2/2\u001b[0m \u001b[32m━━━━━━━━━━━━━━━━━━━━\u001b[0m\u001b[37m\u001b[0m \u001b[1m0s\u001b[0m 34ms/step\n",
            "\u001b[1m2/2\u001b[0m \u001b[32m━━━━━━━━━━━━━━━━━━━━\u001b[0m\u001b[37m\u001b[0m \u001b[1m0s\u001b[0m 38ms/step\n",
            "\u001b[1m2/2\u001b[0m \u001b[32m━━━━━━━━━━━━━━━━━━━━\u001b[0m\u001b[37m\u001b[0m \u001b[1m0s\u001b[0m 30ms/step\n",
            "\u001b[1m2/2\u001b[0m \u001b[32m━━━━━━━━━━━━━━━━━━━━\u001b[0m\u001b[37m\u001b[0m \u001b[1m0s\u001b[0m 38ms/step\n",
            "\u001b[1m2/2\u001b[0m \u001b[32m━━━━━━━━━━━━━━━━━━━━\u001b[0m\u001b[37m\u001b[0m \u001b[1m0s\u001b[0m 43ms/step\n",
            "\u001b[1m2/2\u001b[0m \u001b[32m━━━━━━━━━━━━━━━━━━━━\u001b[0m\u001b[37m\u001b[0m \u001b[1m0s\u001b[0m 36ms/step\n",
            "\u001b[1m2/2\u001b[0m \u001b[32m━━━━━━━━━━━━━━━━━━━━\u001b[0m\u001b[37m\u001b[0m \u001b[1m0s\u001b[0m 56ms/step\n",
            "\u001b[1m2/2\u001b[0m \u001b[32m━━━━━━━━━━━━━━━━━━━━\u001b[0m\u001b[37m\u001b[0m \u001b[1m0s\u001b[0m 36ms/step\n",
            "\u001b[1m2/2\u001b[0m \u001b[32m━━━━━━━━━━━━━━━━━━━━\u001b[0m\u001b[37m\u001b[0m \u001b[1m0s\u001b[0m 33ms/step\n",
            "\u001b[1m2/2\u001b[0m \u001b[32m━━━━━━━━━━━━━━━━━━━━\u001b[0m\u001b[37m\u001b[0m \u001b[1m0s\u001b[0m 23ms/step\n",
            "\u001b[1m2/2\u001b[0m \u001b[32m━━━━━━━━━━━━━━━━━━━━\u001b[0m\u001b[37m\u001b[0m \u001b[1m0s\u001b[0m 23ms/step\n",
            "\u001b[1m2/2\u001b[0m \u001b[32m━━━━━━━━━━━━━━━━━━━━\u001b[0m\u001b[37m\u001b[0m \u001b[1m0s\u001b[0m 23ms/step\n",
            "\u001b[1m2/2\u001b[0m \u001b[32m━━━━━━━━━━━━━━━━━━━━\u001b[0m\u001b[37m\u001b[0m \u001b[1m0s\u001b[0m 23ms/step\n",
            "\u001b[1m2/2\u001b[0m \u001b[32m━━━━━━━━━━━━━━━━━━━━\u001b[0m\u001b[37m\u001b[0m \u001b[1m0s\u001b[0m 25ms/step\n",
            "\u001b[1m2/2\u001b[0m \u001b[32m━━━━━━━━━━━━━━━━━━━━\u001b[0m\u001b[37m\u001b[0m \u001b[1m0s\u001b[0m 32ms/step\n",
            "\u001b[1m2/2\u001b[0m \u001b[32m━━━━━━━━━━━━━━━━━━━━\u001b[0m\u001b[37m\u001b[0m \u001b[1m0s\u001b[0m 26ms/step\n",
            "\u001b[1m2/2\u001b[0m \u001b[32m━━━━━━━━━━━━━━━━━━━━\u001b[0m\u001b[37m\u001b[0m \u001b[1m0s\u001b[0m 24ms/step\n",
            "\u001b[1m2/2\u001b[0m \u001b[32m━━━━━━━━━━━━━━━━━━━━\u001b[0m\u001b[37m\u001b[0m \u001b[1m0s\u001b[0m 27ms/step\n",
            "\u001b[1m2/2\u001b[0m \u001b[32m━━━━━━━━━━━━━━━━━━━━\u001b[0m\u001b[37m\u001b[0m \u001b[1m0s\u001b[0m 24ms/step\n",
            "\u001b[1m2/2\u001b[0m \u001b[32m━━━━━━━━━━━━━━━━━━━━\u001b[0m\u001b[37m\u001b[0m \u001b[1m0s\u001b[0m 22ms/step\n",
            "\u001b[1m2/2\u001b[0m \u001b[32m━━━━━━━━━━━━━━━━━━━━\u001b[0m\u001b[37m\u001b[0m \u001b[1m0s\u001b[0m 23ms/step\n",
            "\u001b[1m2/2\u001b[0m \u001b[32m━━━━━━━━━━━━━━━━━━━━\u001b[0m\u001b[37m\u001b[0m \u001b[1m0s\u001b[0m 22ms/step\n",
            "\u001b[1m2/2\u001b[0m \u001b[32m━━━━━━━━━━━━━━━━━━━━\u001b[0m\u001b[37m\u001b[0m \u001b[1m0s\u001b[0m 22ms/step\n",
            "\u001b[1m2/2\u001b[0m \u001b[32m━━━━━━━━━━━━━━━━━━━━\u001b[0m\u001b[37m\u001b[0m \u001b[1m0s\u001b[0m 22ms/step\n",
            "\u001b[1m2/2\u001b[0m \u001b[32m━━━━━━━━━━━━━━━━━━━━\u001b[0m\u001b[37m\u001b[0m \u001b[1m0s\u001b[0m 24ms/step\n",
            "\u001b[1m2/2\u001b[0m \u001b[32m━━━━━━━━━━━━━━━━━━━━\u001b[0m\u001b[37m\u001b[0m \u001b[1m0s\u001b[0m 22ms/step\n",
            "\u001b[1m2/2\u001b[0m \u001b[32m━━━━━━━━━━━━━━━━━━━━\u001b[0m\u001b[37m\u001b[0m \u001b[1m0s\u001b[0m 22ms/step\n",
            "\u001b[1m2/2\u001b[0m \u001b[32m━━━━━━━━━━━━━━━━━━━━\u001b[0m\u001b[37m\u001b[0m \u001b[1m0s\u001b[0m 22ms/step\n",
            "\u001b[1m2/2\u001b[0m \u001b[32m━━━━━━━━━━━━━━━━━━━━\u001b[0m\u001b[37m\u001b[0m \u001b[1m0s\u001b[0m 24ms/step\n",
            "\u001b[1m2/2\u001b[0m \u001b[32m━━━━━━━━━━━━━━━━━━━━\u001b[0m\u001b[37m\u001b[0m \u001b[1m0s\u001b[0m 25ms/step\n",
            "\u001b[1m2/2\u001b[0m \u001b[32m━━━━━━━━━━━━━━━━━━━━\u001b[0m\u001b[37m\u001b[0m \u001b[1m0s\u001b[0m 23ms/step\n",
            "\u001b[1m2/2\u001b[0m \u001b[32m━━━━━━━━━━━━━━━━━━━━\u001b[0m\u001b[37m\u001b[0m \u001b[1m0s\u001b[0m 25ms/step\n",
            "\u001b[1m2/2\u001b[0m \u001b[32m━━━━━━━━━━━━━━━━━━━━\u001b[0m\u001b[37m\u001b[0m \u001b[1m0s\u001b[0m 27ms/step\n",
            "\u001b[1m2/2\u001b[0m \u001b[32m━━━━━━━━━━━━━━━━━━━━\u001b[0m\u001b[37m\u001b[0m \u001b[1m0s\u001b[0m 22ms/step\n",
            "\u001b[1m2/2\u001b[0m \u001b[32m━━━━━━━━━━━━━━━━━━━━\u001b[0m\u001b[37m\u001b[0m \u001b[1m0s\u001b[0m 22ms/step\n",
            "\u001b[1m2/2\u001b[0m \u001b[32m━━━━━━━━━━━━━━━━━━━━\u001b[0m\u001b[37m\u001b[0m \u001b[1m0s\u001b[0m 22ms/step\n",
            "\u001b[1m2/2\u001b[0m \u001b[32m━━━━━━━━━━━━━━━━━━━━\u001b[0m\u001b[37m\u001b[0m \u001b[1m0s\u001b[0m 23ms/step\n",
            "\u001b[1m2/2\u001b[0m \u001b[32m━━━━━━━━━━━━━━━━━━━━\u001b[0m\u001b[37m\u001b[0m \u001b[1m0s\u001b[0m 23ms/step\n",
            "\u001b[1m2/2\u001b[0m \u001b[32m━━━━━━━━━━━━━━━━━━━━\u001b[0m\u001b[37m\u001b[0m \u001b[1m0s\u001b[0m 22ms/step\n",
            "\u001b[1m2/2\u001b[0m \u001b[32m━━━━━━━━━━━━━━━━━━━━\u001b[0m\u001b[37m\u001b[0m \u001b[1m0s\u001b[0m 32ms/step\n",
            "\u001b[1m2/2\u001b[0m \u001b[32m━━━━━━━━━━━━━━━━━━━━\u001b[0m\u001b[37m\u001b[0m \u001b[1m0s\u001b[0m 22ms/step\n",
            "\u001b[1m2/2\u001b[0m \u001b[32m━━━━━━━━━━━━━━━━━━━━\u001b[0m\u001b[37m\u001b[0m \u001b[1m0s\u001b[0m 23ms/step\n",
            "\u001b[1m2/2\u001b[0m \u001b[32m━━━━━━━━━━━━━━━━━━━━\u001b[0m\u001b[37m\u001b[0m \u001b[1m0s\u001b[0m 24ms/step\n",
            "\u001b[1m2/2\u001b[0m \u001b[32m━━━━━━━━━━━━━━━━━━━━\u001b[0m\u001b[37m\u001b[0m \u001b[1m0s\u001b[0m 28ms/step\n",
            "\u001b[1m2/2\u001b[0m \u001b[32m━━━━━━━━━━━━━━━━━━━━\u001b[0m\u001b[37m\u001b[0m \u001b[1m0s\u001b[0m 23ms/step\n",
            "\u001b[1m2/2\u001b[0m \u001b[32m━━━━━━━━━━━━━━━━━━━━\u001b[0m\u001b[37m\u001b[0m \u001b[1m0s\u001b[0m 22ms/step\n",
            "\u001b[1m2/2\u001b[0m \u001b[32m━━━━━━━━━━━━━━━━━━━━\u001b[0m\u001b[37m\u001b[0m \u001b[1m0s\u001b[0m 24ms/step\n",
            "\u001b[1m2/2\u001b[0m \u001b[32m━━━━━━━━━━━━━━━━━━━━\u001b[0m\u001b[37m\u001b[0m \u001b[1m0s\u001b[0m 23ms/step\n",
            "\u001b[1m2/2\u001b[0m \u001b[32m━━━━━━━━━━━━━━━━━━━━\u001b[0m\u001b[37m\u001b[0m \u001b[1m0s\u001b[0m 23ms/step\n",
            "\u001b[1m2/2\u001b[0m \u001b[32m━━━━━━━━━━━━━━━━━━━━\u001b[0m\u001b[37m\u001b[0m \u001b[1m0s\u001b[0m 24ms/step\n",
            "\u001b[1m2/2\u001b[0m \u001b[32m━━━━━━━━━━━━━━━━━━━━\u001b[0m\u001b[37m\u001b[0m \u001b[1m0s\u001b[0m 23ms/step\n",
            "\u001b[1m2/2\u001b[0m \u001b[32m━━━━━━━━━━━━━━━━━━━━\u001b[0m\u001b[37m\u001b[0m \u001b[1m0s\u001b[0m 22ms/step\n",
            "\u001b[1m2/2\u001b[0m \u001b[32m━━━━━━━━━━━━━━━━━━━━\u001b[0m\u001b[37m\u001b[0m \u001b[1m0s\u001b[0m 27ms/step\n",
            "\u001b[1m2/2\u001b[0m \u001b[32m━━━━━━━━━━━━━━━━━━━━\u001b[0m\u001b[37m\u001b[0m \u001b[1m0s\u001b[0m 25ms/step\n",
            "\u001b[1m2/2\u001b[0m \u001b[32m━━━━━━━━━━━━━━━━━━━━\u001b[0m\u001b[37m\u001b[0m \u001b[1m0s\u001b[0m 24ms/step\n",
            "\u001b[1m2/2\u001b[0m \u001b[32m━━━━━━━━━━━━━━━━━━━━\u001b[0m\u001b[37m\u001b[0m \u001b[1m0s\u001b[0m 28ms/step\n",
            "\u001b[1m2/2\u001b[0m \u001b[32m━━━━━━━━━━━━━━━━━━━━\u001b[0m\u001b[37m\u001b[0m \u001b[1m0s\u001b[0m 34ms/step\n",
            "\u001b[1m2/2\u001b[0m \u001b[32m━━━━━━━━━━━━━━━━━━━━\u001b[0m\u001b[37m\u001b[0m \u001b[1m0s\u001b[0m 23ms/step\n",
            "\u001b[1m2/2\u001b[0m \u001b[32m━━━━━━━━━━━━━━━━━━━━\u001b[0m\u001b[37m\u001b[0m \u001b[1m0s\u001b[0m 24ms/step\n",
            "\u001b[1m2/2\u001b[0m \u001b[32m━━━━━━━━━━━━━━━━━━━━\u001b[0m\u001b[37m\u001b[0m \u001b[1m0s\u001b[0m 23ms/step\n",
            "\u001b[1m2/2\u001b[0m \u001b[32m━━━━━━━━━━━━━━━━━━━━\u001b[0m\u001b[37m\u001b[0m \u001b[1m0s\u001b[0m 23ms/step\n",
            "\u001b[1m2/2\u001b[0m \u001b[32m━━━━━━━━━━━━━━━━━━━━\u001b[0m\u001b[37m\u001b[0m \u001b[1m0s\u001b[0m 21ms/step\n",
            "\u001b[1m2/2\u001b[0m \u001b[32m━━━━━━━━━━━━━━━━━━━━\u001b[0m\u001b[37m\u001b[0m \u001b[1m0s\u001b[0m 25ms/step\n",
            "\u001b[1m2/2\u001b[0m \u001b[32m━━━━━━━━━━━━━━━━━━━━\u001b[0m\u001b[37m\u001b[0m \u001b[1m0s\u001b[0m 24ms/step\n",
            "\u001b[1m2/2\u001b[0m \u001b[32m━━━━━━━━━━━━━━━━━━━━\u001b[0m\u001b[37m\u001b[0m \u001b[1m0s\u001b[0m 32ms/step\n",
            "\u001b[1m2/2\u001b[0m \u001b[32m━━━━━━━━━━━━━━━━━━━━\u001b[0m\u001b[37m\u001b[0m \u001b[1m0s\u001b[0m 23ms/step\n",
            "\u001b[1m2/2\u001b[0m \u001b[32m━━━━━━━━━━━━━━━━━━━━\u001b[0m\u001b[37m\u001b[0m \u001b[1m0s\u001b[0m 25ms/step\n",
            "\u001b[1m2/2\u001b[0m \u001b[32m━━━━━━━━━━━━━━━━━━━━\u001b[0m\u001b[37m\u001b[0m \u001b[1m0s\u001b[0m 24ms/step\n",
            "\u001b[1m2/2\u001b[0m \u001b[32m━━━━━━━━━━━━━━━━━━━━\u001b[0m\u001b[37m\u001b[0m \u001b[1m0s\u001b[0m 23ms/step\n",
            "\u001b[1m2/2\u001b[0m \u001b[32m━━━━━━━━━━━━━━━━━━━━\u001b[0m\u001b[37m\u001b[0m \u001b[1m0s\u001b[0m 22ms/step\n",
            "\u001b[1m2/2\u001b[0m \u001b[32m━━━━━━━━━━━━━━━━━━━━\u001b[0m\u001b[37m\u001b[0m \u001b[1m0s\u001b[0m 29ms/step\n",
            "\u001b[1m2/2\u001b[0m \u001b[32m━━━━━━━━━━━━━━━━━━━━\u001b[0m\u001b[37m\u001b[0m \u001b[1m0s\u001b[0m 24ms/step\n",
            "\u001b[1m2/2\u001b[0m \u001b[32m━━━━━━━━━━━━━━━━━━━━\u001b[0m\u001b[37m\u001b[0m \u001b[1m0s\u001b[0m 30ms/step\n",
            "\u001b[1m2/2\u001b[0m \u001b[32m━━━━━━━━━━━━━━━━━━━━\u001b[0m\u001b[37m\u001b[0m \u001b[1m0s\u001b[0m 22ms/step\n",
            "\u001b[1m2/2\u001b[0m \u001b[32m━━━━━━━━━━━━━━━━━━━━\u001b[0m\u001b[37m\u001b[0m \u001b[1m0s\u001b[0m 23ms/step\n",
            "\u001b[1m2/2\u001b[0m \u001b[32m━━━━━━━━━━━━━━━━━━━━\u001b[0m\u001b[37m\u001b[0m \u001b[1m0s\u001b[0m 23ms/step\n",
            "\u001b[1m2/2\u001b[0m \u001b[32m━━━━━━━━━━━━━━━━━━━━\u001b[0m\u001b[37m\u001b[0m \u001b[1m0s\u001b[0m 24ms/step\n",
            "\u001b[1m2/2\u001b[0m \u001b[32m━━━━━━━━━━━━━━━━━━━━\u001b[0m\u001b[37m\u001b[0m \u001b[1m0s\u001b[0m 24ms/step\n",
            "\u001b[1m2/2\u001b[0m \u001b[32m━━━━━━━━━━━━━━━━━━━━\u001b[0m\u001b[37m\u001b[0m \u001b[1m0s\u001b[0m 24ms/step\n",
            "\u001b[1m1/1\u001b[0m \u001b[32m━━━━━━━━━━━━━━━━━━━━\u001b[0m\u001b[37m\u001b[0m \u001b[1m0s\u001b[0m 42ms/step\n",
            "Hybrid NCF Model Metrics:\n",
            "RMSE: 0.2032\n",
            "MAE: 0.1646\n",
            "Precision: 0.5828\n",
            "Recall: 0.0305\n",
            "ROC-AUC: 0.5556\n",
            "NDCG: 0.7597\n"
          ]
        }
      ]
    },
    {
      "cell_type": "markdown",
      "source": [
        "## **All Model Comparison**"
      ],
      "metadata": {
        "id": "eLJFfOQJvLs_"
      }
    },
    {
      "cell_type": "code",
      "source": [
        "bpr_metrics"
      ],
      "metadata": {
        "colab": {
          "base_uri": "https://localhost:8080/"
        },
        "id": "lUaudckERfAx",
        "outputId": "3b177453-201a-4f1b-da10-bd714a849c4a"
      },
      "execution_count": 129,
      "outputs": [
        {
          "output_type": "execute_result",
          "data": {
            "text/plain": [
              "{'Precision': 0.9124031,\n",
              " 'Precision with Feature': 0.90193796,\n",
              " 'Recall': 0.07237290848393318,\n",
              " 'Recall with Feature': 0.07152653871447982,\n",
              " 'NDCG': 0.9439713746389767,\n",
              " 'NDCG with Feature': 0.8958360294550611,\n",
              " 'MAE': 0.6122528910636902,\n",
              " 'MAE with Feature': 0.6339375972747803,\n",
              " 'RMSE': 0.6090341210365295,\n",
              " 'RMSE with Feature': 0.6310617923736572}"
            ]
          },
          "metadata": {},
          "execution_count": 129
        }
      ]
    },
    {
      "cell_type": "code",
      "source": [
        "metrics_lr"
      ],
      "metadata": {
        "colab": {
          "base_uri": "https://localhost:8080/"
        },
        "id": "FNA7Fdg6RdmB",
        "outputId": "f58524c2-df4b-4a15-a873-c10d0f022d00"
      },
      "execution_count": 130,
      "outputs": [
        {
          "output_type": "execute_result",
          "data": {
            "text/plain": [
              "{'Precision': 0.6863988724453841,\n",
              " 'Recall': 0.8137009189640768,\n",
              " 'ROC-AUC': 0.6297645317111791,\n",
              " 'RMSE': 0.46256262078506394,\n",
              " 'MAE': 0.41203783393765264,\n",
              " 'NDCG': 0.75}"
            ]
          },
          "metadata": {},
          "execution_count": 130
        }
      ]
    },
    {
      "cell_type": "code",
      "source": [
        "metrics_lr_pca"
      ],
      "metadata": {
        "colab": {
          "base_uri": "https://localhost:8080/"
        },
        "id": "iWonqmRwduz8",
        "outputId": "69b591da-d09a-4164-abb3-b8ed02b7e35d"
      },
      "execution_count": 131,
      "outputs": [
        {
          "output_type": "execute_result",
          "data": {
            "text/plain": [
              "{'Precision': 0.6712707182320442,\n",
              " 'Recall': 0.8120300751879699,\n",
              " 'ROC-AUC': 0.6096264946300994,\n",
              " 'RMSE': 0.465937887733538,\n",
              " 'MAE': 0.42555616284162834,\n",
              " 'NDCG': 0.75}"
            ]
          },
          "metadata": {},
          "execution_count": 131
        }
      ]
    },
    {
      "cell_type": "code",
      "source": [
        "ncf_metrics"
      ],
      "metadata": {
        "colab": {
          "base_uri": "https://localhost:8080/"
        },
        "id": "vdRotEXoOZk7",
        "outputId": "a7efadf8-0d2c-4835-eabb-30e1e21960e1"
      },
      "execution_count": 132,
      "outputs": [
        {
          "output_type": "execute_result",
          "data": {
            "text/plain": [
              "{'RMSE': 0.20320345229380274,\n",
              " 'MAE': 0.16457703522086142,\n",
              " 'Precision': 0.5828343313373253,\n",
              " 'Recall': 0.030518394648829432,\n",
              " 'ROC-AUC': 0.5556291172838398,\n",
              " 'NDCG': 0.759722222222222}"
            ]
          },
          "metadata": {},
          "execution_count": 132
        }
      ]
    },
    {
      "cell_type": "markdown",
      "source": [
        "Precision Comparison"
      ],
      "metadata": {
        "id": "UD0Vdm2MSGXw"
      }
    },
    {
      "cell_type": "code",
      "source": [
        "final_precision_eval = {\n",
        "    'BPR': bpr_metrics['Precision'],\n",
        "    'BPR w/ Feature': bpr_metrics['Precision with Feature'],\n",
        "    'Logistic Regression': metrics_lr['Precision'],\n",
        "    'Logistic Regression w/ PCA': metrics_lr_pca['Precision'],\n",
        "    'Hybrid NCF': ncf_metrics['Precision']\n",
        "}\n",
        "\n",
        "plt.bar(final_precision_eval.keys(), final_precision_eval.values(), color=['red', 'blue', 'green', 'orange', 'purple'])\n",
        "plt.xlabel('Model')\n",
        "plt.ylabel('Precision')\n",
        "plt.title('Precision Comparison')\n",
        "plt.xticks(rotation=30, ha=\"right\")\n",
        "plt.show()"
      ],
      "metadata": {
        "colab": {
          "base_uri": "https://localhost:8080/",
          "height": 563
        },
        "id": "-iBVUWppSFXT",
        "outputId": "3750c6c7-8cf6-4d60-b584-fca1bc7a0bae"
      },
      "execution_count": 133,
      "outputs": [
        {
          "output_type": "display_data",
          "data": {
            "text/plain": [
              "<Figure size 640x480 with 1 Axes>"
            ],
            "image/png": "[encoded data removed]"
          },
          "metadata": {}
        }
      ]
    },
    {
      "cell_type": "markdown",
      "source": [
        "Recall Comparision"
      ],
      "metadata": {
        "id": "j_xttksbUD68"
      }
    },
    {
      "cell_type": "code",
      "source": [
        "final_recall_eval = {\n",
        "    'BPR': bpr_metrics['Recall'],\n",
        "    'BPR w/ Feature': bpr_metrics['Recall with Feature'],\n",
        "    'Logistic Regression': metrics_lr['Recall'],\n",
        "    'Logistic Regression w/ PCA': metrics_lr_pca['Recall'],\n",
        "    'Hybrid NCF': ncf_metrics['Recall']\n",
        "}\n",
        "\n",
        "plt.bar(final_recall_eval.keys(), final_recall_eval.values(), color=['red', 'blue', 'green', 'orange', 'purple'])\n",
        "plt.xlabel('Model')\n",
        "plt.ylabel('Recall')\n",
        "plt.title('Recall Comparison')\n",
        "plt.xticks(rotation=30, ha=\"right\")\n",
        "plt.show()"
      ],
      "metadata": {
        "colab": {
          "base_uri": "https://localhost:8080/",
          "height": 563
        },
        "id": "yx9IZFpAUDlk",
        "outputId": "3de1e54f-9a76-4f35-8946-7cc30e033131"
      },
      "execution_count": 134,
      "outputs": [
        {
          "output_type": "display_data",
          "data": {
            "text/plain": [
              "<Figure size 640x480 with 1 Axes>"
            ],
            "image/png": "[encoded data removed]"
          },
          "metadata": {}
        }
      ]
    },
    {
      "cell_type": "markdown",
      "source": [
        "MAE Comparison"
      ],
      "metadata": {
        "id": "2XLAuL7IT-_g"
      }
    },
    {
      "cell_type": "code",
      "source": [
        "final_mae_eval = {\n",
        "    'BPR': bpr_metrics['MAE'],\n",
        "    'BPR w/ Feature': bpr_metrics['MAE with Feature'],\n",
        "    'Logistic Regression': metrics_lr['MAE'],\n",
        "    'Logistic Regression w/ PCA': metrics_lr_pca['MAE'],\n",
        "    'Hybrid NCF': ncf_metrics['MAE']\n",
        "}\n",
        "\n",
        "plt.bar(final_mae_eval.keys(), final_mae_eval.values(), color=['red', 'blue', 'green', 'orange', 'purple'])\n",
        "plt.xlabel('Model')\n",
        "plt.ylabel('MAE')\n",
        "plt.title('MAE Comparison')\n",
        "plt.xticks(rotation=30, ha=\"right\")\n",
        "plt.show()"
      ],
      "metadata": {
        "colab": {
          "base_uri": "https://localhost:8080/",
          "height": 563
        },
        "id": "Is-jT0GAT-rR",
        "outputId": "218a55b4-8aaf-4e66-f602-50de26ae5377"
      },
      "execution_count": 135,
      "outputs": [
        {
          "output_type": "display_data",
          "data": {
            "text/plain": [
              "<Figure size 640x480 with 1 Axes>"
            ],
            "image/png": "[encoded data removed]"
          },
          "metadata": {}
        }
      ]
    },
    {
      "cell_type": "markdown",
      "source": [
        "RMSE Comparison"
      ],
      "metadata": {
        "id": "ehO9jOjfRmxd"
      }
    },
    {
      "cell_type": "code",
      "source": [
        "final_rmse_eval = {\n",
        "    'BPR': bpr_metrics['RMSE'],\n",
        "    'BPR w/ Feature': bpr_metrics['RMSE with Feature'],\n",
        "    'Logistic Regression': metrics_lr['RMSE'],\n",
        "    'Logistic Regression w/ PCA': metrics_lr_pca['RMSE'],\n",
        "    'Hybrid NCF': ncf_metrics['RMSE']\n",
        "}\n",
        "\n",
        "plt.bar(final_rmse_eval.keys(), final_rmse_eval.values(), color=['red', 'blue', 'green', 'orange', 'purple'])\n",
        "plt.xlabel('Model')\n",
        "plt.ylabel('RMSE')\n",
        "plt.title('RMSE Comparison')\n",
        "plt.xticks(rotation=30, ha=\"right\")\n",
        "plt.show()"
      ],
      "metadata": {
        "colab": {
          "base_uri": "https://localhost:8080/",
          "height": 563
        },
        "id": "6pk47rz4RmCS",
        "outputId": "512778ec-ac45-44fb-f268-261c77ba3a8a"
      },
      "execution_count": 136,
      "outputs": [
        {
          "output_type": "display_data",
          "data": {
            "text/plain": [
              "<Figure size 640x480 with 1 Axes>"
            ],
            "image/png": "[encoded data removed]"
          },
          "metadata": {}
        }
      ]
    },
    {
      "cell_type": "markdown",
      "source": [
        "NDCG Comparison"
      ],
      "metadata": {
        "id": "srjGEkYlUjoc"
      }
    },
    {
      "cell_type": "code",
      "source": [
        "final_ndcg_eval = {\n",
        "    'BPR': bpr_metrics['NDCG'],\n",
        "    'BPR w/ Feature': bpr_metrics['NDCG with Feature'],\n",
        "    'Logistic Regression': metrics_lr['NDCG'],\n",
        "    'Logistic Regression w/ PCA': metrics_lr_pca['NDCG'],\n",
        "    'Hybrid NCF': ncf_metrics['NDCG']\n",
        "}\n",
        "\n",
        "plt.bar(final_ndcg_eval.keys(), final_ndcg_eval.values(), color=['red', 'blue', 'green', 'orange', 'purple'])\n",
        "plt.xlabel('Model')\n",
        "plt.ylabel('NDCG')\n",
        "plt.title('NDCG Comparison')\n",
        "plt.xticks(rotation=30, ha=\"right\")\n",
        "plt.show()"
      ],
      "metadata": {
        "colab": {
          "base_uri": "https://localhost:8080/",
          "height": 563
        },
        "id": "Ddy94VTjUjIQ",
        "outputId": "b8e55188-53b5-4592-b1d7-d908ef6184ff"
      },
      "execution_count": 137,
      "outputs": [
        {
          "output_type": "display_data",
          "data": {
            "text/plain": [
              "<Figure size 640x480 with 1 Axes>"
            ],
            "image/png": "[encoded data removed]"
          },
          "metadata": {}
        }
      ]
    }
  ],
  "metadata": {
    "colab": {
      "gpuType": "T4",
      "provenance": []
    },
    "kernelspec": {
      "display_name": "Python 3",
      "name": "python3"
    },
    "language_info": {
      "name": "python"
    }
  },
  "nbformat": 4,
  "nbformat_minor": 0
}